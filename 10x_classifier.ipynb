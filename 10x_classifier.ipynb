{
 "cells": [
  {
   "cell_type": "markdown",
   "metadata": {},
   "source": [
    "# Importing Libraries"
   ]
  },
  {
   "cell_type": "code",
   "execution_count": null,
   "metadata": {},
   "outputs": [],
   "source": [
    "from keras.models import load_model\n",
    "import numpy as np\n",
    "import pandas as pd\n",
    "import cv2\n",
    "import csv\n",
    "import os \n",
    "from os import walk"
   ]
  },
  {
   "cell_type": "markdown",
   "metadata": {},
   "source": [
    "# Defining functions"
   ]
  },
  {
   "cell_type": "code",
   "execution_count": 84,
   "metadata": {},
   "outputs": [],
   "source": [
    "def get_img_paths(family_filepath):\n",
    "    \n",
    "    fish = []\n",
    "\n",
    "    for (dirpath, dirnames, filenames) in walk(family_filepath):\n",
    "        for i in range(len(filenames)):\n",
    "            img = dirpath + filenames[i]\n",
    "            if \"Store\" not in img and \".csv\" not in img:  \n",
    "                fish.append(img)\n",
    "        break\n",
    "    \n",
    "    return fish, filenames\n",
    "\n",
    "def getFish(filepath, family):\n",
    "    img = cv2.imread(filepath)\n",
    "    # standardize size for prediction step\n",
    "    img = cv2.resize(img, (150, 150))\n",
    "    img = img/255.0\n",
    "    img = img.reshape((1,) + img.shape)\n",
    "    \n",
    "    if \"noeyespot\" in filepath:\n",
    "        classification = \"noeyespot\"\n",
    "    else:\n",
    "        classification = \"eyespot\"  \n",
    "    \n",
    "    _, _, species = filepath.partition(family+'/')\n",
    "    \n",
    "    #res = model.predict(img)\n",
    "    return(img, classification, species)\n",
    "\n",
    "def predict(model, get_fish_output):\n",
    "    \n",
    "    img, correct_class, fam = get_fish_output\n",
    "    \n",
    "    prediction_weights = model.predict(img)\n",
    "    prediction = model.predict_classes(img)\n",
    "    if (prediction[0] == 0):\n",
    "        prediction = \"eyespot\"\n",
    "    else:\n",
    "        prediction = \"noeyespot\"\n",
    "\n",
    "    #print \"Model classification:\",prediction,\"\\nCorrect classification:\", correct_class,\"\\nPrediction wieghts:\",prediction_weights,\"\\nType:\",fam,\"\\n\"\n",
    "    return(prediction, correct_class, prediction_weights, fam)"
   ]
  },
  {
   "cell_type": "markdown",
   "metadata": {},
   "source": [
    "# Loading model"
   ]
  },
  {
   "cell_type": "code",
   "execution_count": 11,
   "metadata": {},
   "outputs": [],
   "source": [
    "mod = load_model(\"10x-classifier.h5\")"
   ]
  },
  {
   "cell_type": "markdown",
   "metadata": {},
   "source": [
    "# Loading filepaths"
   ]
  },
  {
   "cell_type": "code",
   "execution_count": 85,
   "metadata": {},
   "outputs": [],
   "source": [
    "family = 'Labridae2'\n",
    "\n",
    "family_path = \"/Users/leannwoo/Dropbox/machine_learning_fishes/randall/Labridae2/\"\n",
    "\n",
    "fish_list_img, fish_img_names = get_img_paths(family_path)\n",
    "\n",
    "_,_,weights,_ = predict(mod,getFish(fish_list_img[1],'Labridae'))\n",
    "weights = np.array2string(weights)\n",
    "weights\n",
    "\n",
    "weights = (weights.split('[['))[1].split(']]')[0]"
   ]
  },
  {
   "cell_type": "code",
   "execution_count": 75,
   "metadata": {},
   "outputs": [],
   "source": [
    "os.chdir(family_path)"
   ]
  },
  {
   "cell_type": "markdown",
   "metadata": {},
   "source": [
    "# Prediction over family and write to CSV"
   ]
  },
  {
   "cell_type": "code",
   "execution_count": 87,
   "metadata": {},
   "outputs": [
    {
     "ename": "error",
     "evalue": "/opt/concourse/worker/volumes/live/3b96f7c7-93a4-48c6-665d-2f7ff1dac914/volume/opencv_1512680443756/work/modules/imgproc/src/resize.cpp:3289: error: (-215) ssize.width > 0 && ssize.height > 0 in function resize\n",
     "output_type": "error",
     "traceback": [
      "\u001b[0;31m---------------------------------------------------------------------------\u001b[0m",
      "\u001b[0;31merror\u001b[0m                                     Traceback (most recent call last)",
      "\u001b[0;32m<ipython-input-87-4c49e4ed383b>\u001b[0m in \u001b[0;36m<module>\u001b[0;34m()\u001b[0m\n\u001b[1;32m     12\u001b[0m \u001b[0;34m\u001b[0m\u001b[0m\n\u001b[1;32m     13\u001b[0m     \u001b[0;32mfor\u001b[0m \u001b[0mi\u001b[0m \u001b[0;32min\u001b[0m \u001b[0mrange\u001b[0m\u001b[0;34m(\u001b[0m\u001b[0mlen\u001b[0m\u001b[0;34m(\u001b[0m\u001b[0mfish_list_img\u001b[0m\u001b[0;34m)\u001b[0m\u001b[0;34m)\u001b[0m\u001b[0;34m:\u001b[0m\u001b[0;34m\u001b[0m\u001b[0m\n\u001b[0;32m---> 14\u001b[0;31m         \u001b[0mclassification\u001b[0m\u001b[0;34m,\u001b[0m\u001b[0m_\u001b[0m\u001b[0;34m,\u001b[0m\u001b[0mweights\u001b[0m\u001b[0;34m,\u001b[0m\u001b[0mfamily\u001b[0m \u001b[0;34m=\u001b[0m \u001b[0mpredict\u001b[0m\u001b[0;34m(\u001b[0m\u001b[0mmod\u001b[0m\u001b[0;34m,\u001b[0m \u001b[0mgetFish\u001b[0m\u001b[0;34m(\u001b[0m\u001b[0mfish_list_img\u001b[0m\u001b[0;34m[\u001b[0m\u001b[0mi\u001b[0m\u001b[0;34m]\u001b[0m\u001b[0;34m,\u001b[0m \u001b[0;34m'Labridae2'\u001b[0m\u001b[0;34m)\u001b[0m\u001b[0;34m)\u001b[0m\u001b[0;34m\u001b[0m\u001b[0m\n\u001b[0m\u001b[1;32m     15\u001b[0m         \u001b[0mspecies\u001b[0m \u001b[0;34m=\u001b[0m \u001b[0mfamily\u001b[0m\u001b[0;34m.\u001b[0m\u001b[0msplit\u001b[0m\u001b[0;34m(\u001b[0m\u001b[0;34m'_'\u001b[0m\u001b[0;34m)\u001b[0m\u001b[0;34m[\u001b[0m\u001b[0;36m1\u001b[0m\u001b[0;34m]\u001b[0m\u001b[0;34m\u001b[0m\u001b[0m\n\u001b[1;32m     16\u001b[0m         \u001b[0mfilewriter\u001b[0m\u001b[0;34m.\u001b[0m\u001b[0mwriterow\u001b[0m\u001b[0;34m(\u001b[0m\u001b[0;34m[\u001b[0m\u001b[0mclassification\u001b[0m\u001b[0;34m,\u001b[0m \u001b[0mweights\u001b[0m\u001b[0;34m,\u001b[0m \u001b[0mspecies\u001b[0m\u001b[0;34m]\u001b[0m\u001b[0;34m)\u001b[0m\u001b[0;34m\u001b[0m\u001b[0m\n",
      "\u001b[0;32m<ipython-input-84-a1ebabcaad6d>\u001b[0m in \u001b[0;36mgetFish\u001b[0;34m(filepath, family)\u001b[0m\n\u001b[1;32m     15\u001b[0m     \u001b[0mimg\u001b[0m \u001b[0;34m=\u001b[0m \u001b[0mcv2\u001b[0m\u001b[0;34m.\u001b[0m\u001b[0mimread\u001b[0m\u001b[0;34m(\u001b[0m\u001b[0mfilepath\u001b[0m\u001b[0;34m)\u001b[0m\u001b[0;34m\u001b[0m\u001b[0m\n\u001b[1;32m     16\u001b[0m     \u001b[0;31m# standardize size for prediction step\u001b[0m\u001b[0;34m\u001b[0m\u001b[0;34m\u001b[0m\u001b[0m\n\u001b[0;32m---> 17\u001b[0;31m     \u001b[0mimg\u001b[0m \u001b[0;34m=\u001b[0m \u001b[0mcv2\u001b[0m\u001b[0;34m.\u001b[0m\u001b[0mresize\u001b[0m\u001b[0;34m(\u001b[0m\u001b[0mimg\u001b[0m\u001b[0;34m,\u001b[0m \u001b[0;34m(\u001b[0m\u001b[0;36m150\u001b[0m\u001b[0;34m,\u001b[0m \u001b[0;36m150\u001b[0m\u001b[0;34m)\u001b[0m\u001b[0;34m)\u001b[0m\u001b[0;34m\u001b[0m\u001b[0m\n\u001b[0m\u001b[1;32m     18\u001b[0m     \u001b[0mimg\u001b[0m \u001b[0;34m=\u001b[0m \u001b[0mimg\u001b[0m\u001b[0;34m/\u001b[0m\u001b[0;36m255.0\u001b[0m\u001b[0;34m\u001b[0m\u001b[0m\n\u001b[1;32m     19\u001b[0m     \u001b[0mimg\u001b[0m \u001b[0;34m=\u001b[0m \u001b[0mimg\u001b[0m\u001b[0;34m.\u001b[0m\u001b[0mreshape\u001b[0m\u001b[0;34m(\u001b[0m\u001b[0;34m(\u001b[0m\u001b[0;36m1\u001b[0m\u001b[0;34m,\u001b[0m\u001b[0;34m)\u001b[0m \u001b[0;34m+\u001b[0m \u001b[0mimg\u001b[0m\u001b[0;34m.\u001b[0m\u001b[0mshape\u001b[0m\u001b[0;34m)\u001b[0m\u001b[0;34m\u001b[0m\u001b[0m\n",
      "\u001b[0;31merror\u001b[0m: /opt/concourse/worker/volumes/live/3b96f7c7-93a4-48c6-665d-2f7ff1dac914/volume/opencv_1512680443756/work/modules/imgproc/src/resize.cpp:3289: error: (-215) ssize.width > 0 && ssize.height > 0 in function resize\n"
     ]
    }
   ],
   "source": [
    "with open('classification_data.csv', 'wb') as csvfile:\n",
    "    filewriter = csv.writer(csvfile, delimiter=',',\n",
    "                            quotechar='|', quoting=csv.QUOTE_MINIMAL)\n",
    "    filewriter.writerow(['Model Classification', 'Prediction Weights', 'Species'])\n",
    "    \n",
    "    try:\n",
    "        os.mkdir('eyespot')\n",
    "        os.mkdir('noeyespot')\n",
    "    except OSError:\n",
    "        1\n",
    "      #  print \"unsuccessful\"\n",
    "\n",
    "    for i in range(len(fish_list_img)):\n",
    "        classification,_,weights,family = predict(mod, getFish(fish_list_img[i], 'Labridae2'))\n",
    "        species = family.split('_')[1]\n",
    "        filewriter.writerow([classification, weights, species])\n",
    "        \n",
    "        #weights = np.array2string(weights)\n",
    "        #weights = (weights.split('[['))[1].split(']]')[0]\n",
    "        \n",
    "        \n",
    "        if (classification == 'eyespot'):\n",
    "            try:\n",
    "                os.rename(fish_img_names[i], 'eyespot/' + np.array2string(weights) + \"_\" + fish_img_names[i])\n",
    "            except OSError:\n",
    "                1\n",
    "        else:\n",
    "            try:\n",
    "                os.rename(fish_img_names[i], 'noeyespot/' + np.array2string(weights) + \"_\" + fish_img_names[i])\n",
    "            except OSError:\n",
    "                1"
   ]
  },
  {
   "cell_type": "code",
   "execution_count": null,
   "metadata": {},
   "outputs": [],
   "source": []
  }
 ],
 "metadata": {
  "kernelspec": {
   "display_name": "Python 2",
   "language": "python",
   "name": "python2"
  },
  "language_info": {
   "codemirror_mode": {
    "name": "ipython",
    "version": 2
   },
   "file_extension": ".py",
   "mimetype": "text/x-python",
   "name": "python",
   "nbconvert_exporter": "python",
   "pygments_lexer": "ipython2",
   "version": "2.7.14"
  }
 },
 "nbformat": 4,
 "nbformat_minor": 2
}
