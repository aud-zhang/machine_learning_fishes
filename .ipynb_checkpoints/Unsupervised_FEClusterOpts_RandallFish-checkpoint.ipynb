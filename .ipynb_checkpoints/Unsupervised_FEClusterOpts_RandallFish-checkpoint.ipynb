{
 "cells": [
  {
   "cell_type": "markdown",
   "metadata": {},
   "source": [
    "# Import Libraries"
   ]
  },
  {
   "cell_type": "code",
   "execution_count": 2,
   "metadata": {},
   "outputs": [
    {
     "name": "stderr",
     "output_type": "stream",
     "text": [
      "Using TensorFlow backend.\n"
     ]
    }
   ],
   "source": [
    "# Shawn Schwartz, 2018\n",
    "# shawnschwartz@ucla.edu\n",
    "# The Alfaro Lab at UCLA\n",
    "\n",
    "from keras.preprocessing import image\n",
    "from keras.applications.vgg16 import VGG16\n",
    "from keras.applications.vgg16 import preprocess_input\n",
    "from sklearn.cluster import KMeans\n",
    "from sklearn import metrics\n",
    "import numpy as np\n",
    "import pandas as pd\n",
    "import matplotlib.pyplot as plt\n",
    "from matplotlib.ticker import MaxNLocator\n",
    "from collections import namedtuple\n",
    "import scipy.spatial.distance as dist\n",
    "import os\n",
    "from os import walk, listdir\n",
    "import warnings\n",
    "import sys"
   ]
  },
  {
   "cell_type": "markdown",
   "metadata": {},
   "source": [
    "# Define Functions for Clustering"
   ]
  },
  {
   "cell_type": "markdown",
   "metadata": {},
   "source": [
    "## Define \"getFishDirs\" Function"
   ]
  },
  {
   "cell_type": "code",
   "execution_count": 3,
   "metadata": {},
   "outputs": [],
   "source": [
    "# obtain all subdirs of fish\n",
    "def getFishDirs(file_path):\n",
    "    randall_fish = [f.path for f in os.scandir(file_path) if f.is_dir()]\n",
    "    \n",
    "    return(randall_fish)"
   ]
  },
  {
   "cell_type": "markdown",
   "metadata": {},
   "source": [
    "## Define \"getFishSubDirs\" Function"
   ]
  },
  {
   "cell_type": "code",
   "execution_count": 4,
   "metadata": {},
   "outputs": [],
   "source": [
    "def getFishSubDirs(subdirs_path, emptyPaths_array):\n",
    "    for i in range(len(subdirs_path)):\n",
    "        for (dirpath, dirnames, filenames) in walk(subdirs_path[i]):\n",
    "            for j in range(len(filenames)):\n",
    "                img = dirpath + '/' + filenames[j]\n",
    "                if \"Store\" not in img:\n",
    "                    emptyPaths_array.append(img)\n",
    "            break\n",
    "            \n",
    "    return(emptyPaths_array)"
   ]
  },
  {
   "cell_type": "markdown",
   "metadata": {},
   "source": [
    "## Get Fish \"Species\" Paths per \"Family\" Subdirectories"
   ]
  },
  {
   "cell_type": "code",
   "execution_count": 5,
   "metadata": {},
   "outputs": [],
   "source": [
    "# Input File Path of Images Parent Directory\n",
    "randall_dirpath = '/Users/shawn/Developer/randall_testing/'\n",
    "\n",
    "# Call getFishDirs for Parent Directory and Store\n",
    "fish_subdirs = getFishDirs(randall_dirpath)\n",
    "\n",
    "# Init empty array for individual subdir fish family paths\n",
    "fish_paths = []\n",
    "\n",
    "# Call getFishSubDirs for SubDirs and Store\n",
    "fish_paths = getFishSubDirs(fish_subdirs, fish_paths)"
   ]
  },
  {
   "cell_type": "markdown",
   "metadata": {},
   "source": [
    "## Initialize and Define VGG16 Imagenet Model"
   ]
  },
  {
   "cell_type": "code",
   "execution_count": 6,
   "metadata": {},
   "outputs": [],
   "source": [
    "model = VGG16(weights='imagenet', include_top=False)\n",
    "\n",
    "vgg16_feature_list = []\n",
    "\n",
    "warnings.filterwarnings('ignore')"
   ]
  },
  {
   "cell_type": "markdown",
   "metadata": {},
   "source": [
    "## Define \"processTheFish\" (VGG16 Image Processing) Function"
   ]
  },
  {
   "cell_type": "code",
   "execution_count": 7,
   "metadata": {},
   "outputs": [],
   "source": [
    "def processTheFish(desiredPaths_set, vgg16_model):\n",
    "    # Print Information for Peace of Mind\n",
    "    print(\"Beginning Image Processing for...\")\n",
    "    #print(desiredClusters, \" Desired Number of Clusters!\")\n",
    "    \n",
    "    for i, fname in enumerate(desiredPaths_set):\n",
    "        # process image files within pre-fetched subdirs\n",
    "        img = image.load_img(desiredPaths_set[i], target_size=(224, 224))\n",
    "        img_data = image.img_to_array(img)\n",
    "        img_data = np.expand_dims(img_data, axis=0)\n",
    "        img_data = preprocess_input(img_data)\n",
    "        \n",
    "        vgg16_feature = vgg16_model.predict(img_data)\n",
    "        vgg16_feature_np = np.array(vgg16_feature)\n",
    "        vgg16_feature_list.append(vgg16_feature_np.flatten())\n",
    "        \n",
    "        # Print image processing progress percentage in console for Peace of Mind\n",
    "        sys.stdout.write(\"\\r{0}\".format((float(i)/len(desiredPaths_set))*100))\n",
    "        sys.stdout.flush()\n",
    "        \n",
    "    print(\"\\nImage Processing Completed!\")\n",
    "    \n",
    "    vgg16_feature_list_np = np.array(vgg16_feature_list)\n",
    "    \n",
    "    return(vgg16_feature_list_np)"
   ]
  },
  {
   "cell_type": "markdown",
   "metadata": {},
   "source": [
    "## Define \"clusterTheFish\" (KMeans Clustering) Function"
   ]
  },
  {
   "cell_type": "code",
   "execution_count": 8,
   "metadata": {},
   "outputs": [],
   "source": [
    "def clusterTheFish(desiredClusters, imported_vgg16_feature_list_np):\n",
    "    kmeans = KMeans(n_clusters=desiredClusters, random_state=0).fit(imported_vgg16_feature_list_np)\n",
    "    \n",
    "    print(\"VGG16 Feature List and KMeans Computed.\")\n",
    "    \n",
    "    return(kmeans)"
   ]
  },
  {
   "cell_type": "markdown",
   "metadata": {},
   "source": [
    "## Define \"scoreTheFish\" (Internal Clusuter Validation Silhouette Scoring) Function"
   ]
  },
  {
   "cell_type": "code",
   "execution_count": 9,
   "metadata": {},
   "outputs": [],
   "source": [
    "def scoreTheFish(imported_Kmeans, imported_vgg16_feature_list_np):\n",
    "    predicted_labels = imported_Kmeans.labels_\n",
    "    \n",
    "    ICV_Score = metrics.silhouette_score(imported_vgg16_feature_list_np, predicted_labels, metric='euclidean')\n",
    "    \n",
    "    # Print out Internal Cluster Validation Score\n",
    "    print(\"\\nInternal Cluster Validation Score:\", ICV_Score)\n",
    "    \n",
    "    # Print out Predicted Cluster ID Labels\n",
    "    print(\"\\nPredicted Clusters:\", predicted_labels)\n",
    "    \n",
    "    return(predicted_labels, ICV_Score)"
   ]
  },
  {
   "cell_type": "markdown",
   "metadata": {},
   "source": [
    "## Define \"writeListToFile\" (non-np array) Function"
   ]
  },
  {
   "cell_type": "code",
   "execution_count": 10,
   "metadata": {},
   "outputs": [],
   "source": [
    "def writeListToFile(fishy_paths_list, filename):\n",
    "    # Write the file paths list to its own CSV file\n",
    "    \n",
    "    with open(filename, \"w\") as outfile:\n",
    "        for entries in fishy_paths_list:\n",
    "            outfile.write(entries)\n",
    "            outfile.write(\"\\n\")"
   ]
  },
  {
   "cell_type": "markdown",
   "metadata": {},
   "source": [
    "## Define \"saveOutputCSV\" Function"
   ]
  },
  {
   "cell_type": "code",
   "execution_count": 11,
   "metadata": {},
   "outputs": [],
   "source": [
    "def saveOutputCSV(desClustNums, cluster_output_filename, fish_paths_output_filename, concat_clusters_fishpaths_filename, pred_labels_output, fish_file_paths):\n",
    "    cluster_output_filename = str(desClustNums) + \"_DesiredClusters-\" + cluster_output_filename\n",
    "    fish_paths_output_filename = str(desClustNums) + '_DesiredClusters-' + fish_paths_output_filename\n",
    "    concat_clusters_fishpaths_filename = str(desClustNums) + '_DesiredClusters-' + concat_clusters_fishpaths_filename\n",
    "    \n",
    "    # save separate CSV files\n",
    "    np.savetxt(cluster_output_filename, pred_labels_output, delimiter=\",\")\n",
    "    writeListToFile(fish_file_paths, fish_paths_output_filename)\n",
    "    \n",
    "    # concatenate paths and cluster identification CSVs\n",
    "    colOne = pd.read_csv(cluster_output_filename)\n",
    "    colTwo = pd.read_csv(fish_paths_output_filename)\n",
    "    colCat = pd.concat([colTwo, colOne], axis=1)\n",
    "    colCat.to_csv(concat_clusters_fishpaths_filename, index=False)\n",
    "    \n",
    "    # remove temp pre-merged single-rowed CSVs from Dir\n",
    "    os.remove(cluster_output_filename)\n",
    "    os.remove(fish_paths_output_filename)"
   ]
  },
  {
   "cell_type": "markdown",
   "metadata": {},
   "source": [
    "# Run Image Processing Clustering"
   ]
  },
  {
   "cell_type": "code",
   "execution_count": 12,
   "metadata": {},
   "outputs": [
    {
     "name": "stdout",
     "output_type": "stream",
     "text": [
      "Beginning Image Processing for...\n",
      "99.173553719008276\n",
      "Image Processing Completed!\n"
     ]
    }
   ],
   "source": [
    "vgg16_fish_featureList_np = processTheFish(fish_paths, model)"
   ]
  },
  {
   "cell_type": "markdown",
   "metadata": {},
   "source": [
    "## Testing For 2-20 Desired Clusters"
   ]
  },
  {
   "cell_type": "markdown",
   "metadata": {},
   "source": [
    "## Initialize Output Filename Consts"
   ]
  },
  {
   "cell_type": "code",
   "execution_count": 23,
   "metadata": {},
   "outputs": [],
   "source": [
    "clusterOutputFname = \"predictedClsts_randall.csv\"\n",
    "fishPathsOutputFname = \"fishPaths_randall.csv\"\n",
    "concatClustsFishpathsFname = \"overallPredictions_outputData.csv\""
   ]
  },
  {
   "cell_type": "markdown",
   "metadata": {},
   "source": [
    "### Run For 2 Desired Clusters"
   ]
  },
  {
   "cell_type": "code",
   "execution_count": 24,
   "metadata": {},
   "outputs": [
    {
     "name": "stdout",
     "output_type": "stream",
     "text": [
      "VGG16 Feature List and KMeans Computed.\n",
      "\n",
      "Internal Cluster Validation Score: 0.06905871\n",
      "\n",
      "Predicted Clusters: [0 1 0 0 0 0 1 0 0 1 1 0 0 1 0 0 0 1 0 0 0 1 0 1 0 1 1 0 1 0 0 0 0 1 1 0 0\n",
      " 0 0 0 0 1 0 0 0 0 0 0 0 0 0 0 0 0 0 0 0 0 0 1 1 0 1 0 0 0 0 0 0 0 0 0 1 0\n",
      " 0 1 0 1 0 1 1 0 0 1 1 0 0 1 0 0 0 1 1 0 0 0 1 0 1 0 0 0 1 0 0 0 0 0 0 0 1\n",
      " 0 1 1 1 0 0 1 0 0 0]\n",
      "\n",
      "Internal Cluster Validation Score: 0.06905871\n",
      "\n",
      "Predicted Clusters: [0 1 0 0 0 0 1 0 0 1 1 0 0 1 0 0 0 1 0 0 0 1 0 1 0 1 1 0 1 0 0 0 0 1 1 0 0\n",
      " 0 0 0 0 1 0 0 0 0 0 0 0 0 0 0 0 0 0 0 0 0 0 1 1 0 1 0 0 0 0 0 0 0 0 0 1 0\n",
      " 0 1 0 1 0 1 1 0 0 1 1 0 0 1 0 0 0 1 1 0 0 0 1 0 1 0 0 0 1 0 0 0 0 0 0 0 1\n",
      " 0 1 1 1 0 0 1 0 0 0]\n"
     ]
    }
   ],
   "source": [
    "numClusts = 2\n",
    "twoClusters_Kmeans = clusterTheFish(numClusts, vgg16_fish_featureList_np)\n",
    "twoClusters_ICVScore = scoreTheFish(twoClusters_Kmeans, vgg16_fish_featureList_np)[1]\n",
    "\n",
    "# save output\n",
    "saveOutputCSV(numClusts, clusterOutputFname, fishPathsOutputFname, concatClustsFishpathsFname, scoreTheFish(twoClusters_Kmeans, vgg16_fish_featureList_np)[0], fish_paths)"
   ]
  },
  {
   "cell_type": "markdown",
   "metadata": {},
   "source": [
    "### Run For 3 Desired Clusters"
   ]
  },
  {
   "cell_type": "code",
   "execution_count": 25,
   "metadata": {},
   "outputs": [
    {
     "name": "stdout",
     "output_type": "stream",
     "text": [
      "VGG16 Feature List and KMeans Computed.\n",
      "\n",
      "Internal Cluster Validation Score: 0.05857872\n",
      "\n",
      "Predicted Clusters: [0 1 1 2 2 2 0 2 1 1 1 2 2 0 2 2 0 1 2 1 0 1 0 1 2 0 1 0 0 2 2 2 0 0 1 2 2\n",
      " 2 2 2 0 1 1 2 2 2 0 1 2 2 1 2 2 1 2 2 2 2 2 1 1 2 0 0 0 0 2 0 1 0 2 1 1 0\n",
      " 0 1 2 0 2 2 0 2 1 2 1 2 2 0 1 2 1 0 0 2 1 2 0 2 0 2 2 2 1 1 2 2 0 2 2 2 0\n",
      " 0 0 1 1 2 1 0 2 1 2]\n",
      "\n",
      "Internal Cluster Validation Score: 0.05857872\n",
      "\n",
      "Predicted Clusters: [0 1 1 2 2 2 0 2 1 1 1 2 2 0 2 2 0 1 2 1 0 1 0 1 2 0 1 0 0 2 2 2 0 0 1 2 2\n",
      " 2 2 2 0 1 1 2 2 2 0 1 2 2 1 2 2 1 2 2 2 2 2 1 1 2 0 0 0 0 2 0 1 0 2 1 1 0\n",
      " 0 1 2 0 2 2 0 2 1 2 1 2 2 0 1 2 1 0 0 2 1 2 0 2 0 2 2 2 1 1 2 2 0 2 2 2 0\n",
      " 0 0 1 1 2 1 0 2 1 2]\n"
     ]
    }
   ],
   "source": [
    "numClusts = 3\n",
    "threeClusters_Kmeans = clusterTheFish(numClusts, vgg16_fish_featureList_np)\n",
    "threeClusters_ICVScore = scoreTheFish(threeClusters_Kmeans, vgg16_fish_featureList_np)[1]\n",
    "\n",
    "# save output\n",
    "saveOutputCSV(numClusts, clusterOutputFname, fishPathsOutputFname, concatClustsFishpathsFname, scoreTheFish(threeClusters_Kmeans, vgg16_fish_featureList_np)[0], fish_paths)"
   ]
  },
  {
   "cell_type": "markdown",
   "metadata": {},
   "source": [
    "### Run For 4 Desired Clusters"
   ]
  },
  {
   "cell_type": "code",
   "execution_count": 26,
   "metadata": {},
   "outputs": [
    {
     "name": "stdout",
     "output_type": "stream",
     "text": [
      "VGG16 Feature List and KMeans Computed.\n",
      "\n",
      "Internal Cluster Validation Score: 0.064996146\n",
      "\n",
      "Predicted Clusters: [0 2 1 1 1 1 2 1 1 2 2 1 1 2 2 1 0 2 1 3 0 2 1 3 1 2 3 0 0 1 1 1 0 2 3 1 1\n",
      " 1 1 1 2 2 1 1 1 1 0 1 1 1 2 1 1 1 1 1 1 1 1 2 3 1 0 0 0 0 1 0 2 0 1 2 3 0\n",
      " 0 2 1 2 1 2 0 1 3 2 2 1 1 2 2 1 1 2 2 1 1 1 2 1 0 1 1 1 3 1 1 1 0 1 1 1 2\n",
      " 1 0 2 2 1 1 0 1 2 1]\n",
      "\n",
      "Internal Cluster Validation Score: 0.064996146\n",
      "\n",
      "Predicted Clusters: [0 2 1 1 1 1 2 1 1 2 2 1 1 2 2 1 0 2 1 3 0 2 1 3 1 2 3 0 0 1 1 1 0 2 3 1 1\n",
      " 1 1 1 2 2 1 1 1 1 0 1 1 1 2 1 1 1 1 1 1 1 1 2 3 1 0 0 0 0 1 0 2 0 1 2 3 0\n",
      " 0 2 1 2 1 2 0 1 3 2 2 1 1 2 2 1 1 2 2 1 1 1 2 1 0 1 1 1 3 1 1 1 0 1 1 1 2\n",
      " 1 0 2 2 1 1 0 1 2 1]\n"
     ]
    }
   ],
   "source": [
    "numClusts = 4\n",
    "fourClusters_Kmeans = clusterTheFish(numClusts, vgg16_fish_featureList_np)\n",
    "fourClusters_ICVScore = scoreTheFish(fourClusters_Kmeans, vgg16_fish_featureList_np)[1]\n",
    "\n",
    "# save output\n",
    "saveOutputCSV(numClusts, clusterOutputFname, fishPathsOutputFname, concatClustsFishpathsFname, scoreTheFish(fourClusters_Kmeans, vgg16_fish_featureList_np)[0], fish_paths)"
   ]
  },
  {
   "cell_type": "markdown",
   "metadata": {},
   "source": [
    "### Run For 5 Desired Clusters"
   ]
  },
  {
   "cell_type": "code",
   "execution_count": 27,
   "metadata": {},
   "outputs": [
    {
     "name": "stdout",
     "output_type": "stream",
     "text": [
      "VGG16 Feature List and KMeans Computed.\n",
      "\n",
      "Internal Cluster Validation Score: 0.04247954\n",
      "\n",
      "Predicted Clusters: [3 0 3 2 1 1 0 1 3 0 0 1 2 0 1 2 3 0 2 1 4 0 3 0 2 2 0 3 4 2 1 1 3 0 0 1 1\n",
      " 1 2 1 3 0 3 2 2 2 3 3 1 1 3 1 2 3 1 1 1 1 2 0 0 2 4 4 4 4 1 2 3 3 2 2 0 3\n",
      " 2 0 1 0 2 0 4 1 1 1 0 2 1 0 3 1 3 0 0 1 2 3 2 2 4 2 2 1 0 3 2 2 4 1 2 2 0\n",
      " 3 4 2 0 2 3 4 1 3 1]\n",
      "\n",
      "Internal Cluster Validation Score: 0.04247954\n",
      "\n",
      "Predicted Clusters: [3 0 3 2 1 1 0 1 3 0 0 1 2 0 1 2 3 0 2 1 4 0 3 0 2 2 0 3 4 2 1 1 3 0 0 1 1\n",
      " 1 2 1 3 0 3 2 2 2 3 3 1 1 3 1 2 3 1 1 1 1 2 0 0 2 4 4 4 4 1 2 3 3 2 2 0 3\n",
      " 2 0 1 0 2 0 4 1 1 1 0 2 1 0 3 1 3 0 0 1 2 3 2 2 4 2 2 1 0 3 2 2 4 1 2 2 0\n",
      " 3 4 2 0 2 3 4 1 3 1]\n"
     ]
    }
   ],
   "source": [
    "numClusts = 5\n",
    "fiveClusters_Kmeans = clusterTheFish(numClusts, vgg16_fish_featureList_np)\n",
    "fiveClusters_ICVScore = scoreTheFish(fiveClusters_Kmeans, vgg16_fish_featureList_np)[1]\n",
    "\n",
    "# save output\n",
    "saveOutputCSV(numClusts, clusterOutputFname, fishPathsOutputFname, concatClustsFishpathsFname, scoreTheFish(fiveClusters_Kmeans, vgg16_fish_featureList_np)[0], fish_paths)"
   ]
  },
  {
   "cell_type": "markdown",
   "metadata": {},
   "source": [
    "### Run For 6 Desired Clusters"
   ]
  },
  {
   "cell_type": "code",
   "execution_count": 28,
   "metadata": {},
   "outputs": [
    {
     "name": "stdout",
     "output_type": "stream",
     "text": [
      "VGG16 Feature List and KMeans Computed.\n",
      "\n",
      "Internal Cluster Validation Score: 0.043311466\n",
      "\n",
      "Predicted Clusters: [3 2 2 1 5 5 3 5 2 2 2 5 1 4 5 1 3 2 1 0 3 2 4 2 1 1 0 3 3 1 5 5 3 4 4 5 5\n",
      " 5 1 5 3 2 2 1 1 1 3 2 5 5 2 5 1 2 5 5 4 5 1 2 0 1 3 3 3 3 5 3 3 3 1 3 0 3\n",
      " 3 2 5 4 1 5 3 5 0 4 2 1 5 3 2 5 2 3 3 5 3 3 1 1 3 1 1 5 0 2 1 1 3 5 1 1 4\n",
      " 3 3 1 2 1 2 3 5 2 5]\n",
      "\n",
      "Internal Cluster Validation Score: 0.043311466\n",
      "\n",
      "Predicted Clusters: [3 2 2 1 5 5 3 5 2 2 2 5 1 4 5 1 3 2 1 0 3 2 4 2 1 1 0 3 3 1 5 5 3 4 4 5 5\n",
      " 5 1 5 3 2 2 1 1 1 3 2 5 5 2 5 1 2 5 5 4 5 1 2 0 1 3 3 3 3 5 3 3 3 1 3 0 3\n",
      " 3 2 5 4 1 5 3 5 0 4 2 1 5 3 2 5 2 3 3 5 3 3 1 1 3 1 1 5 0 2 1 1 3 5 1 1 4\n",
      " 3 3 1 2 1 2 3 5 2 5]\n"
     ]
    }
   ],
   "source": [
    "numClusts = 6\n",
    "sixClusters_Kmeans = clusterTheFish(numClusts, vgg16_fish_featureList_np)\n",
    "sixClusters_ICVScore = scoreTheFish(sixClusters_Kmeans, vgg16_fish_featureList_np)[1]\n",
    "\n",
    "# save output\n",
    "saveOutputCSV(numClusts, clusterOutputFname, fishPathsOutputFname, concatClustsFishpathsFname, scoreTheFish(sixClusters_Kmeans, vgg16_fish_featureList_np)[0], fish_paths)"
   ]
  },
  {
   "cell_type": "markdown",
   "metadata": {},
   "source": [
    "### Run For 7 Desired Clusters"
   ]
  },
  {
   "cell_type": "code",
   "execution_count": 29,
   "metadata": {},
   "outputs": [
    {
     "name": "stdout",
     "output_type": "stream",
     "text": [
      "VGG16 Feature List and KMeans Computed.\n",
      "\n",
      "Internal Cluster Validation Score: 0.032255642\n",
      "\n",
      "Predicted Clusters: [3 6 4 2 1 1 6 4 4 6 6 4 4 6 1 2 3 6 2 4 3 6 3 5 4 6 5 3 3 2 1 1 3 3 5 1 1\n",
      " 1 2 4 3 6 4 2 4 4 3 4 4 1 6 4 2 4 1 4 4 1 2 6 5 2 3 3 3 3 0 3 3 3 2 3 5 3\n",
      " 3 6 0 3 2 1 3 1 4 1 6 2 4 6 6 1 4 3 3 1 4 4 6 4 3 2 2 1 5 4 2 2 3 1 2 2 3\n",
      " 3 3 6 6 2 4 3 1 6 4]\n",
      "\n",
      "Internal Cluster Validation Score: 0.032255642\n",
      "\n",
      "Predicted Clusters: [3 6 4 2 1 1 6 4 4 6 6 4 4 6 1 2 3 6 2 4 3 6 3 5 4 6 5 3 3 2 1 1 3 3 5 1 1\n",
      " 1 2 4 3 6 4 2 4 4 3 4 4 1 6 4 2 4 1 4 4 1 2 6 5 2 3 3 3 3 0 3 3 3 2 3 5 3\n",
      " 3 6 0 3 2 1 3 1 4 1 6 2 4 6 6 1 4 3 3 1 4 4 6 4 3 2 2 1 5 4 2 2 3 1 2 2 3\n",
      " 3 3 6 6 2 4 3 1 6 4]\n"
     ]
    }
   ],
   "source": [
    "numClusts = 7\n",
    "sevenClusters_Kmeans = clusterTheFish(numClusts, vgg16_fish_featureList_np)\n",
    "sevenClusters_ICVScore = scoreTheFish(sevenClusters_Kmeans, vgg16_fish_featureList_np)[1]\n",
    "\n",
    "# save output\n",
    "saveOutputCSV(numClusts, clusterOutputFname, fishPathsOutputFname, concatClustsFishpathsFname, scoreTheFish(sevenClusters_Kmeans, vgg16_fish_featureList_np)[0], fish_paths)"
   ]
  },
  {
   "cell_type": "markdown",
   "metadata": {},
   "source": [
    "### Run For 8 Desired Clusters"
   ]
  },
  {
   "cell_type": "code",
   "execution_count": 30,
   "metadata": {},
   "outputs": [
    {
     "name": "stdout",
     "output_type": "stream",
     "text": [
      "VGG16 Feature List and KMeans Computed.\n",
      "\n",
      "Internal Cluster Validation Score: 0.048017465\n",
      "\n",
      "Predicted Clusters: [3 0 2 1 1 1 5 1 2 5 0 1 1 5 5 3 4 0 1 6 4 0 6 7 1 3 7 3 4 1 1 1 3 5 5 6 1\n",
      " 6 1 1 1 5 2 1 1 1 4 2 1 1 3 1 1 2 1 1 6 1 1 0 7 1 4 4 4 4 1 3 3 3 1 3 7 4\n",
      " 3 3 1 5 3 5 5 1 6 5 5 1 1 3 2 1 2 5 5 1 1 1 3 1 3 3 1 1 7 2 1 3 4 1 3 1 5\n",
      " 3 4 3 5 3 2 4 1 2 1]\n",
      "\n",
      "Internal Cluster Validation Score: 0.048017465\n",
      "\n",
      "Predicted Clusters: [3 0 2 1 1 1 5 1 2 5 0 1 1 5 5 3 4 0 1 6 4 0 6 7 1 3 7 3 4 1 1 1 3 5 5 6 1\n",
      " 6 1 1 1 5 2 1 1 1 4 2 1 1 3 1 1 2 1 1 6 1 1 0 7 1 4 4 4 4 1 3 3 3 1 3 7 4\n",
      " 3 3 1 5 3 5 5 1 6 5 5 1 1 3 2 1 2 5 5 1 1 1 3 1 3 3 1 1 7 2 1 3 4 1 3 1 5\n",
      " 3 4 3 5 3 2 4 1 2 1]\n"
     ]
    }
   ],
   "source": [
    "numClusts = 8\n",
    "eightClusters_Kmeans = clusterTheFish(numClusts, vgg16_fish_featureList_np)\n",
    "eightClusters_ICVScore = scoreTheFish(eightClusters_Kmeans, vgg16_fish_featureList_np)[1]\n",
    "\n",
    "# save output\n",
    "saveOutputCSV(numClusts, clusterOutputFname, fishPathsOutputFname, concatClustsFishpathsFname, scoreTheFish(eightClusters_Kmeans, vgg16_fish_featureList_np)[0], fish_paths)"
   ]
  },
  {
   "cell_type": "markdown",
   "metadata": {},
   "source": [
    "### Run For 9 Desired Clusters"
   ]
  },
  {
   "cell_type": "code",
   "execution_count": 31,
   "metadata": {},
   "outputs": [
    {
     "name": "stdout",
     "output_type": "stream",
     "text": [
      "VGG16 Feature List and KMeans Computed.\n",
      "\n",
      "Internal Cluster Validation Score: 0.04004892\n",
      "\n",
      "Predicted Clusters: [2 1 3 3 5 5 8 3 3 8 1 3 3 8 8 3 2 1 5 7 2 1 2 7 3 8 7 2 4 3 3 5 2 8 7 5 5\n",
      " 5 3 5 2 8 3 3 3 3 2 3 3 5 0 3 3 3 5 3 5 5 3 1 7 3 4 2 2 2 3 2 3 4 3 2 7 2\n",
      " 2 0 3 8 6 8 4 5 7 5 7 3 5 4 0 5 3 4 4 3 3 3 8 3 4 3 3 3 7 3 3 3 2 5 3 3 8\n",
      " 2 4 6 8 3 3 4 5 0 3]\n",
      "\n",
      "Internal Cluster Validation Score: 0.04004892\n",
      "\n",
      "Predicted Clusters: [2 1 3 3 5 5 8 3 3 8 1 3 3 8 8 3 2 1 5 7 2 1 2 7 3 8 7 2 4 3 3 5 2 8 7 5 5\n",
      " 5 3 5 2 8 3 3 3 3 2 3 3 5 0 3 3 3 5 3 5 5 3 1 7 3 4 2 2 2 3 2 3 4 3 2 7 2\n",
      " 2 0 3 8 6 8 4 5 7 5 7 3 5 4 0 5 3 4 4 3 3 3 8 3 4 3 3 3 7 3 3 3 2 5 3 3 8\n",
      " 2 4 6 8 3 3 4 5 0 3]\n"
     ]
    }
   ],
   "source": [
    "numClusts = 9\n",
    "nineClusters_Kmeans = clusterTheFish(numClusts, vgg16_fish_featureList_np)\n",
    "nineClusters_ICVScore = scoreTheFish(nineClusters_Kmeans, vgg16_fish_featureList_np)[1]\n",
    "\n",
    "# save output\n",
    "saveOutputCSV(numClusts, clusterOutputFname, fishPathsOutputFname, concatClustsFishpathsFname, scoreTheFish(nineClusters_Kmeans, vgg16_fish_featureList_np)[0], fish_paths)"
   ]
  },
  {
   "cell_type": "markdown",
   "metadata": {},
   "source": [
    "### Run For 10 Desired Clusters"
   ]
  },
  {
   "cell_type": "code",
   "execution_count": 32,
   "metadata": {},
   "outputs": [
    {
     "name": "stdout",
     "output_type": "stream",
     "text": [
      "VGG16 Feature List and KMeans Computed.\n",
      "\n",
      "Internal Cluster Validation Score: 0.027109418\n",
      "\n",
      "Predicted Clusters: [4 9 1 0 3 3 9 3 1 1 9 3 6 9 9 6 4 9 6 3 4 9 3 5 6 9 5 4 2 6 3 3 4 8 5 3 3\n",
      " 3 6 3 4 5 1 6 6 6 4 1 3 6 1 3 6 1 3 6 3 3 6 9 5 0 8 4 4 4 3 6 4 4 6 4 5 4\n",
      " 6 9 3 8 7 9 8 3 3 9 9 6 3 9 1 3 1 8 8 3 4 4 9 6 2 6 6 3 5 1 6 6 4 3 6 6 8\n",
      " 4 2 7 5 6 1 8 3 1 3]\n",
      "\n",
      "Internal Cluster Validation Score: 0.027109418\n",
      "\n",
      "Predicted Clusters: [4 9 1 0 3 3 9 3 1 1 9 3 6 9 9 6 4 9 6 3 4 9 3 5 6 9 5 4 2 6 3 3 4 8 5 3 3\n",
      " 3 6 3 4 5 1 6 6 6 4 1 3 6 1 3 6 1 3 6 3 3 6 9 5 0 8 4 4 4 3 6 4 4 6 4 5 4\n",
      " 6 9 3 8 7 9 8 3 3 9 9 6 3 9 1 3 1 8 8 3 4 4 9 6 2 6 6 3 5 1 6 6 4 3 6 6 8\n",
      " 4 2 7 5 6 1 8 3 1 3]\n"
     ]
    }
   ],
   "source": [
    "numClusts = 10\n",
    "tenClusters_Kmeans = clusterTheFish(numClusts, vgg16_fish_featureList_np)\n",
    "tenClusters_ICVScore = scoreTheFish(tenClusters_Kmeans, vgg16_fish_featureList_np)[1]\n",
    "\n",
    "# save output\n",
    "saveOutputCSV(numClusts, clusterOutputFname, fishPathsOutputFname, concatClustsFishpathsFname, scoreTheFish(tenClusters_Kmeans, vgg16_fish_featureList_np)[0], fish_paths)"
   ]
  },
  {
   "cell_type": "markdown",
   "metadata": {},
   "source": [
    "### Run For 11 Desired Clusters"
   ]
  },
  {
   "cell_type": "code",
   "execution_count": 33,
   "metadata": {},
   "outputs": [
    {
     "name": "stdout",
     "output_type": "stream",
     "text": [
      "VGG16 Feature List and KMeans Computed.\n",
      "\n",
      "Internal Cluster Validation Score: 0.02781823\n",
      "\n",
      "Predicted Clusters: [ 3  8  9  4 10  2  7  6  9  9  8  2  6  5  2  4  3  8  6  1  3  8  3  1\n",
      "  6  1  1  3  0  4  4  2  3  7  1  2  2  2  4  2  3  1  9  4  6  6  3  9\n",
      "  6 10  9  2  6  9  2  2 10 10  4  8  1  4  0  3  3  3  6  3  3  7  4  3\n",
      "  1  3  3  8  2  0  6  5  0  2  1 10  1  4  2  7  9  2  9  7  0  6  3  4\n",
      "  4  6  7  4  4  4  1  9  4  4  3 10  4  4  1 10  0  1  1  6  9  0 10  9\n",
      "  2]\n",
      "\n",
      "Internal Cluster Validation Score: 0.02781823\n",
      "\n",
      "Predicted Clusters: [ 3  8  9  4 10  2  7  6  9  9  8  2  6  5  2  4  3  8  6  1  3  8  3  1\n",
      "  6  1  1  3  0  4  4  2  3  7  1  2  2  2  4  2  3  1  9  4  6  6  3  9\n",
      "  6 10  9  2  6  9  2  2 10 10  4  8  1  4  0  3  3  3  6  3  3  7  4  3\n",
      "  1  3  3  8  2  0  6  5  0  2  1 10  1  4  2  7  9  2  9  7  0  6  3  4\n",
      "  4  6  7  4  4  4  1  9  4  4  3 10  4  4  1 10  0  1  1  6  9  0 10  9\n",
      "  2]\n"
     ]
    }
   ],
   "source": [
    "numClusts = 11\n",
    "elevenClusters_Kmeans = clusterTheFish(numClusts, vgg16_fish_featureList_np)\n",
    "elevenClusters_ICVScore = scoreTheFish(elevenClusters_Kmeans, vgg16_fish_featureList_np)[1]\n",
    "\n",
    "# save output\n",
    "saveOutputCSV(numClusts, clusterOutputFname, fishPathsOutputFname, concatClustsFishpathsFname, scoreTheFish(elevenClusters_Kmeans, vgg16_fish_featureList_np)[0], fish_paths)"
   ]
  },
  {
   "cell_type": "markdown",
   "metadata": {},
   "source": [
    "### Run For 12 Desired Clusters"
   ]
  },
  {
   "cell_type": "code",
   "execution_count": 34,
   "metadata": {},
   "outputs": [
    {
     "name": "stdout",
     "output_type": "stream",
     "text": [
      "VGG16 Feature List and KMeans Computed.\n",
      "\n",
      "Internal Cluster Validation Score: 0.03295989\n",
      "\n",
      "Predicted Clusters: [ 0  4  2  2  3  3 11  3  6 11  4  1  1 11  3  1  0  4  3  9  0  4  6  7\n",
      "  1 11  7  0 10  2  8  8  0  5  7  8  3  8  2  3  0  6  2  2  1  1  0  6\n",
      "  3  3  6  3  1  6  3  8  3  3  2  4  7  2  0  0  0  0  1  0  6 10  2  0\n",
      "  7  0  0  6  8  5  6 11 11  3  9  3  6  3  3 10  6  3  6 11 11  3  1  2\n",
      " 11  1 11  1  2  3  7  6  2  2  0  3  1  2  5  0  0  6 11  1  6  0  3  6\n",
      "  8]\n",
      "\n",
      "Internal Cluster Validation Score: 0.03295989\n",
      "\n",
      "Predicted Clusters: [ 0  4  2  2  3  3 11  3  6 11  4  1  1 11  3  1  0  4  3  9  0  4  6  7\n",
      "  1 11  7  0 10  2  8  8  0  5  7  8  3  8  2  3  0  6  2  2  1  1  0  6\n",
      "  3  3  6  3  1  6  3  8  3  3  2  4  7  2  0  0  0  0  1  0  6 10  2  0\n",
      "  7  0  0  6  8  5  6 11 11  3  9  3  6  3  3 10  6  3  6 11 11  3  1  2\n",
      " 11  1 11  1  2  3  7  6  2  2  0  3  1  2  5  0  0  6 11  1  6  0  3  6\n",
      "  8]\n"
     ]
    }
   ],
   "source": [
    "numClusts = 12\n",
    "twelveClusters_Kmeans = clusterTheFish(numClusts, vgg16_fish_featureList_np)\n",
    "twelveClusters_ICVScore = scoreTheFish(twelveClusters_Kmeans, vgg16_fish_featureList_np)[1]\n",
    "\n",
    "# save output\n",
    "saveOutputCSV(numClusts, clusterOutputFname, fishPathsOutputFname, concatClustsFishpathsFname, scoreTheFish(twelveClusters_Kmeans, vgg16_fish_featureList_np)[0], fish_paths)"
   ]
  },
  {
   "cell_type": "markdown",
   "metadata": {},
   "source": [
    "### Run For 13 Desired Clusters"
   ]
  },
  {
   "cell_type": "code",
   "execution_count": 35,
   "metadata": {},
   "outputs": [
    {
     "name": "stdout",
     "output_type": "stream",
     "text": [
      "VGG16 Feature List and KMeans Computed.\n",
      "\n",
      "Internal Cluster Validation Score: 0.040069267\n",
      "\n",
      "Predicted Clusters: [ 6  4  8  1  5  2  6  3  3  3  4  3  1  6  6  1 10  4  2 11 10  4  5  7\n",
      "  2  6  7  0  4  1  5  5  6  9  7  5  5  5  1  3  0  3  8  2  1  2 10  3\n",
      "  3  2  3  3  1  8  5  1  5  5  2  4  7  1  9 10 10 10  3  0  8  8  1  0\n",
      "  7  8  0  4  3  9 12  6 10  5 11  6  3  1  5  4  3  5  3  9  9  2  3  3\n",
      "  6  1  6  1  1  5  7  3  1  1 10  2  1  1  9  6 10 12  6  1  8  9  2  3\n",
      "  3]\n",
      "\n",
      "Internal Cluster Validation Score: 0.040069267\n",
      "\n",
      "Predicted Clusters: [ 6  4  8  1  5  2  6  3  3  3  4  3  1  6  6  1 10  4  2 11 10  4  5  7\n",
      "  2  6  7  0  4  1  5  5  6  9  7  5  5  5  1  3  0  3  8  2  1  2 10  3\n",
      "  3  2  3  3  1  8  5  1  5  5  2  4  7  1  9 10 10 10  3  0  8  8  1  0\n",
      "  7  8  0  4  3  9 12  6 10  5 11  6  3  1  5  4  3  5  3  9  9  2  3  3\n",
      "  6  1  6  1  1  5  7  3  1  1 10  2  1  1  9  6 10 12  6  1  8  9  2  3\n",
      "  3]\n"
     ]
    }
   ],
   "source": [
    "numClusts = 13\n",
    "thirteenClusters_Kmeans = clusterTheFish(numClusts, vgg16_fish_featureList_np)\n",
    "thirteenClusters_ICVScore = scoreTheFish(thirteenClusters_Kmeans, vgg16_fish_featureList_np)[1]\n",
    "\n",
    "# save output\n",
    "saveOutputCSV(numClusts, clusterOutputFname, fishPathsOutputFname, concatClustsFishpathsFname, scoreTheFish(thirteenClusters_Kmeans, vgg16_fish_featureList_np)[0], fish_paths)"
   ]
  },
  {
   "cell_type": "markdown",
   "metadata": {},
   "source": [
    "### Run For 14 Desired Clusters"
   ]
  },
  {
   "cell_type": "code",
   "execution_count": 36,
   "metadata": {},
   "outputs": [
    {
     "name": "stdout",
     "output_type": "stream",
     "text": [
      "VGG16 Feature List and KMeans Computed.\n",
      "\n",
      "Internal Cluster Validation Score: 0.03581279\n",
      "\n",
      "Predicted Clusters: [ 1 11 12  6  7  4  7 12 12 12 11 12  6  7  7  6  1 11  4 10  1 11  1  9\n",
      "  6  7  9  5 13  6  4  3  5 13  9  3  4  3  4  4  5  9 12  0  6  6  1 12\n",
      "  6  7  8 12  6 12  4  4  3  2  6 11  9  4 13  1  1  1  6  5  5  5  4  5\n",
      "  9  5  5 11 12 13  6  7 13  4 10  7 12  6  3  5  8  4 12 13 13  6 12  1\n",
      "  7  6 13  6  6  4  9 12  6  0  1  2  6  6 13  7 13  7  7  6 12 13  2  8\n",
      "  4]\n",
      "\n",
      "Internal Cluster Validation Score: 0.03581279\n",
      "\n",
      "Predicted Clusters: [ 1 11 12  6  7  4  7 12 12 12 11 12  6  7  7  6  1 11  4 10  1 11  1  9\n",
      "  6  7  9  5 13  6  4  3  5 13  9  3  4  3  4  4  5  9 12  0  6  6  1 12\n",
      "  6  7  8 12  6 12  4  4  3  2  6 11  9  4 13  1  1  1  6  5  5  5  4  5\n",
      "  9  5  5 11 12 13  6  7 13  4 10  7 12  6  3  5  8  4 12 13 13  6 12  1\n",
      "  7  6 13  6  6  4  9 12  6  0  1  2  6  6 13  7 13  7  7  6 12 13  2  8\n",
      "  4]\n"
     ]
    }
   ],
   "source": [
    "numClusts = 14\n",
    "fourteenClusters_Kmeans = clusterTheFish(numClusts, vgg16_fish_featureList_np)\n",
    "fourteenClusters_ICVScore = scoreTheFish(fourteenClusters_Kmeans, vgg16_fish_featureList_np)[1]\n",
    "\n",
    "# save output\n",
    "saveOutputCSV(numClusts, clusterOutputFname, fishPathsOutputFname, concatClustsFishpathsFname, scoreTheFish(fourteenClusters_Kmeans, vgg16_fish_featureList_np)[0], fish_paths)"
   ]
  },
  {
   "cell_type": "markdown",
   "metadata": {},
   "source": [
    "### Run For 15 Desired Clusters"
   ]
  },
  {
   "cell_type": "code",
   "execution_count": 37,
   "metadata": {},
   "outputs": [
    {
     "name": "stdout",
     "output_type": "stream",
     "text": [
      "VGG16 Feature List and KMeans Computed.\n",
      "\n",
      "Internal Cluster Validation Score: 0.042459633\n",
      "\n",
      "Predicted Clusters: [11  3  4  0  9  9 12  0 11  4  3  9  0 12  2  0 13  3  9  6 13  3 11  5\n",
      "  9 12  5  8  8  0  9  9 14  1  2  7  9  7  0  9  4  2  4  0  0  0 14  4\n",
      "  0  0 11  9  0  4  9  9 11  9  0  3  5  0  1 13 13 13  0 12 11  8  0 12\n",
      "  5 14  0 11  4  1 10 12  1  9  6 12 12  0  4  8 11  9  4  1  1  9  0  0\n",
      " 12  0  8  0  0  9  5  4  0  0 13  9  0  0  2 12  8 10  2  0  4  1  9 11\n",
      "  9]\n",
      "\n",
      "Internal Cluster Validation Score: 0.042459633\n",
      "\n",
      "Predicted Clusters: [11  3  4  0  9  9 12  0 11  4  3  9  0 12  2  0 13  3  9  6 13  3 11  5\n",
      "  9 12  5  8  8  0  9  9 14  1  2  7  9  7  0  9  4  2  4  0  0  0 14  4\n",
      "  0  0 11  9  0  4  9  9 11  9  0  3  5  0  1 13 13 13  0 12 11  8  0 12\n",
      "  5 14  0 11  4  1 10 12  1  9  6 12 12  0  4  8 11  9  4  1  1  9  0  0\n",
      " 12  0  8  0  0  9  5  4  0  0 13  9  0  0  2 12  8 10  2  0  4  1  9 11\n",
      "  9]\n"
     ]
    }
   ],
   "source": [
    "numClusts = 15\n",
    "fifteenClusters_Kmeans = clusterTheFish(numClusts, vgg16_fish_featureList_np)\n",
    "fifteenClusters_ICVScore = scoreTheFish(fifteenClusters_Kmeans, vgg16_fish_featureList_np)[1]\n",
    "\n",
    "# save output\n",
    "saveOutputCSV(numClusts, clusterOutputFname, fishPathsOutputFname, concatClustsFishpathsFname, scoreTheFish(fifteenClusters_Kmeans, vgg16_fish_featureList_np)[0], fish_paths)"
   ]
  },
  {
   "cell_type": "markdown",
   "metadata": {},
   "source": [
    "### Run For 16 Desired Clusters"
   ]
  },
  {
   "cell_type": "code",
   "execution_count": 38,
   "metadata": {},
   "outputs": [
    {
     "name": "stdout",
     "output_type": "stream",
     "text": [
      "VGG16 Feature List and KMeans Computed.\n",
      "\n",
      "Internal Cluster Validation Score: 0.03342973\n",
      "\n",
      "Predicted Clusters: [ 8 10  0  1 14 12  6  9  0  6 10 14  9  6  6  1  8 10 12  3  8 10 14  7\n",
      "  1  1  3  1 15  1  2  2  1  6  6  2  2  2  0  9 11  6  0 12  1  1  8  0\n",
      "  9  2  5  9  1  0  9  2 14  2 12 10  7  1  8  8  8  8  9  1 11  1  1  1\n",
      "  7  0  1  5  9  6 13  6 15  2  3 12  6  1 14 15  5 12  0 15  4  1  1  1\n",
      "  6  1 15  1  1  9  7  0 12  1  8  2  1  1  6  1 15 13  6  1  0  4 12  5\n",
      "  2]\n",
      "\n",
      "Internal Cluster Validation Score: 0.03342973\n",
      "\n",
      "Predicted Clusters: [ 8 10  0  1 14 12  6  9  0  6 10 14  9  6  6  1  8 10 12  3  8 10 14  7\n",
      "  1  1  3  1 15  1  2  2  1  6  6  2  2  2  0  9 11  6  0 12  1  1  8  0\n",
      "  9  2  5  9  1  0  9  2 14  2 12 10  7  1  8  8  8  8  9  1 11  1  1  1\n",
      "  7  0  1  5  9  6 13  6 15  2  3 12  6  1 14 15  5 12  0 15  4  1  1  1\n",
      "  6  1 15  1  1  9  7  0 12  1  8  2  1  1  6  1 15 13  6  1  0  4 12  5\n",
      "  2]\n"
     ]
    }
   ],
   "source": [
    "numClusts = 16\n",
    "sixteenClusters_Kmeans = clusterTheFish(numClusts, vgg16_fish_featureList_np)\n",
    "sixteenClusters_ICVScore = scoreTheFish(sixteenClusters_Kmeans, vgg16_fish_featureList_np)[1]\n",
    "\n",
    "# save output\n",
    "saveOutputCSV(numClusts, clusterOutputFname, fishPathsOutputFname, concatClustsFishpathsFname, scoreTheFish(sixteenClusters_Kmeans, vgg16_fish_featureList_np)[0], fish_paths)"
   ]
  },
  {
   "cell_type": "markdown",
   "metadata": {},
   "source": [
    "### Run For 17 Desired Clusters"
   ]
  },
  {
   "cell_type": "code",
   "execution_count": 39,
   "metadata": {},
   "outputs": [
    {
     "name": "stdout",
     "output_type": "stream",
     "text": [
      "VGG16 Feature List and KMeans Computed.\n",
      "\n",
      "Internal Cluster Validation Score: 0.038434975\n",
      "\n",
      "Predicted Clusters: [ 9 14  7  3 13 13  2 15  7  4 14  7  0  4 13  3  9 14 13 16  9 14  8  1\n",
      " 15  2  1  9 10  3  6 13  9 11  1  7 13  7  3 15 13  4  7  3  0  3  9  7\n",
      " 15 13 14 15 15  7 13  7  8 13 15 14  1  3 10  9  9  5 15  9  4 10  3  9\n",
      "  1  9  9 14  7  4 12  2 10  6 16 13  4  3 13  2 14 13  7  2  2 13  0  9\n",
      "  2  3 10  3  3  6  1  7  3  3  5 13  3  3 11 13 10 12  4  3  7 10 13 14\n",
      "  7]\n",
      "\n",
      "Internal Cluster Validation Score: 0.038434975\n",
      "\n",
      "Predicted Clusters: [ 9 14  7  3 13 13  2 15  7  4 14  7  0  4 13  3  9 14 13 16  9 14  8  1\n",
      " 15  2  1  9 10  3  6 13  9 11  1  7 13  7  3 15 13  4  7  3  0  3  9  7\n",
      " 15 13 14 15 15  7 13  7  8 13 15 14  1  3 10  9  9  5 15  9  4 10  3  9\n",
      "  1  9  9 14  7  4 12  2 10  6 16 13  4  3 13  2 14 13  7  2  2 13  0  9\n",
      "  2  3 10  3  3  6  1  7  3  3  5 13  3  3 11 13 10 12  4  3  7 10 13 14\n",
      "  7]\n"
     ]
    }
   ],
   "source": [
    "numClusts = 17\n",
    "seventeenClusters_Kmeans = clusterTheFish(numClusts, vgg16_fish_featureList_np)\n",
    "seventeenClusters_ICVScore = scoreTheFish(seventeenClusters_Kmeans, vgg16_fish_featureList_np)[1]\n",
    "\n",
    "# save output\n",
    "saveOutputCSV(numClusts, clusterOutputFname, fishPathsOutputFname, concatClustsFishpathsFname, scoreTheFish(seventeenClusters_Kmeans, vgg16_fish_featureList_np)[0], fish_paths)"
   ]
  },
  {
   "cell_type": "markdown",
   "metadata": {},
   "source": [
    "### Run For 18 Desired Clusters"
   ]
  },
  {
   "cell_type": "code",
   "execution_count": 40,
   "metadata": {},
   "outputs": [
    {
     "name": "stdout",
     "output_type": "stream",
     "text": [
      "VGG16 Feature List and KMeans Computed.\n",
      "\n",
      "Internal Cluster Validation Score: 0.04099325\n",
      "\n",
      "Predicted Clusters: [ 9 17  7  3 13 13  2 15  7  4 17  7  0  4 13  3  9 17 13 16  9 17  8  1\n",
      " 15  2  1  9 10  3  6 13  9 11  1  7 13  7  3 15 13  4  7  3  0  3  9  7\n",
      " 15 13 14 15 15  7 13  7  8 13 15 17  1  3 10  9  9  5 15  9  4 10  3  9\n",
      "  1  9  9 14  7  4 12  2 10  6 16 13  4  3 13  2 14 13  7  2  2 13  0  9\n",
      "  2  3 10  3  3  6  1  7  3  3  5 13  3  3 11 13 10 12  4  3  7 10 13 14\n",
      "  7]\n",
      "\n",
      "Internal Cluster Validation Score: 0.04099325\n",
      "\n",
      "Predicted Clusters: [ 9 17  7  3 13 13  2 15  7  4 17  7  0  4 13  3  9 17 13 16  9 17  8  1\n",
      " 15  2  1  9 10  3  6 13  9 11  1  7 13  7  3 15 13  4  7  3  0  3  9  7\n",
      " 15 13 14 15 15  7 13  7  8 13 15 17  1  3 10  9  9  5 15  9  4 10  3  9\n",
      "  1  9  9 14  7  4 12  2 10  6 16 13  4  3 13  2 14 13  7  2  2 13  0  9\n",
      "  2  3 10  3  3  6  1  7  3  3  5 13  3  3 11 13 10 12  4  3  7 10 13 14\n",
      "  7]\n"
     ]
    }
   ],
   "source": [
    "numClusts = 18\n",
    "eighteenClusters_Kmeans = clusterTheFish(numClusts, vgg16_fish_featureList_np)\n",
    "eighteenClusters_ICVScore = scoreTheFish(eighteenClusters_Kmeans, vgg16_fish_featureList_np)[1]\n",
    "\n",
    "# save output\n",
    "saveOutputCSV(numClusts, clusterOutputFname, fishPathsOutputFname, concatClustsFishpathsFname, scoreTheFish(eighteenClusters_Kmeans, vgg16_fish_featureList_np)[0], fish_paths)"
   ]
  },
  {
   "cell_type": "markdown",
   "metadata": {},
   "source": [
    "### Run For 19 Desired Clusters"
   ]
  },
  {
   "cell_type": "code",
   "execution_count": 41,
   "metadata": {},
   "outputs": [
    {
     "name": "stdout",
     "output_type": "stream",
     "text": [
      "VGG16 Feature List and KMeans Computed.\n",
      "\n",
      "Internal Cluster Validation Score: 0.04226616\n",
      "\n",
      "Predicted Clusters: [ 9 17  7  3 13 13  2 15  7  4 17  7  0  4 13  3  9 17 13 16  9 17  8  1\n",
      " 15  2  1  9 10  3  6 13  9 11  1  7 13  7  3 15 13  4  7  3  0  3  9  7\n",
      " 15 13 14 15 15  7 13  7  8 13 15 17  1  3 18 18  9  5 15  9  4 10  3  9\n",
      "  1  9  9 14  7 18 12  2 18  6 16 13  4  3 13  2 14 13  7  2  2 13  0  9\n",
      "  2  3 10  3  3  6  1  7  3  3  5 13  3  3 11 13 10 12  4  3  7 18 13 14\n",
      "  7]\n",
      "\n",
      "Internal Cluster Validation Score: 0.04226616\n",
      "\n",
      "Predicted Clusters: [ 9 17  7  3 13 13  2 15  7  4 17  7  0  4 13  3  9 17 13 16  9 17  8  1\n",
      " 15  2  1  9 10  3  6 13  9 11  1  7 13  7  3 15 13  4  7  3  0  3  9  7\n",
      " 15 13 14 15 15  7 13  7  8 13 15 17  1  3 18 18  9  5 15  9  4 10  3  9\n",
      "  1  9  9 14  7 18 12  2 18  6 16 13  4  3 13  2 14 13  7  2  2 13  0  9\n",
      "  2  3 10  3  3  6  1  7  3  3  5 13  3  3 11 13 10 12  4  3  7 18 13 14\n",
      "  7]\n"
     ]
    }
   ],
   "source": [
    "numClusts = 19\n",
    "nineteenClusters_Kmeans = clusterTheFish(numClusts, vgg16_fish_featureList_np)\n",
    "nineteenClusters_ICVScore = scoreTheFish(nineteenClusters_Kmeans, vgg16_fish_featureList_np)[1]\n",
    "\n",
    "# save output\n",
    "saveOutputCSV(numClusts, clusterOutputFname, fishPathsOutputFname, concatClustsFishpathsFname, scoreTheFish(nineteenClusters_Kmeans, vgg16_fish_featureList_np)[0], fish_paths)"
   ]
  },
  {
   "cell_type": "markdown",
   "metadata": {},
   "source": [
    "### Run For 20 Desired Clusters"
   ]
  },
  {
   "cell_type": "code",
   "execution_count": 42,
   "metadata": {},
   "outputs": [
    {
     "name": "stdout",
     "output_type": "stream",
     "text": [
      "VGG16 Feature List and KMeans Computed.\n",
      "\n",
      "Internal Cluster Validation Score: 0.044775706\n",
      "\n",
      "Predicted Clusters: [ 9 17 19  3 13 13  2 15  7  4 17  7  0  4 13  3  9 17 13 16  9 17  8  1\n",
      " 15  2  1  9 10  3  6 13  9 11  1  7 13  7  3 15 13  4 19  3  0  3  9  7\n",
      " 15 13 14 15 15  7 13  7  8 13 15 17  1  3 18 18  9  5 15  9  4 10  3  9\n",
      "  1  9  9 14  7 18 12  2 18  6 16 13  4  3 13  2 14 13  7  2  2 13  0  9\n",
      "  2  3 10  3  3  6  1  7  3  3  5 13  3  3 11 13 10 12  4  3 19 18 13 14\n",
      "  7]\n",
      "\n",
      "Internal Cluster Validation Score: 0.044775706\n",
      "\n",
      "Predicted Clusters: [ 9 17 19  3 13 13  2 15  7  4 17  7  0  4 13  3  9 17 13 16  9 17  8  1\n",
      " 15  2  1  9 10  3  6 13  9 11  1  7 13  7  3 15 13  4 19  3  0  3  9  7\n",
      " 15 13 14 15 15  7 13  7  8 13 15 17  1  3 18 18  9  5 15  9  4 10  3  9\n",
      "  1  9  9 14  7 18 12  2 18  6 16 13  4  3 13  2 14 13  7  2  2 13  0  9\n",
      "  2  3 10  3  3  6  1  7  3  3  5 13  3  3 11 13 10 12  4  3 19 18 13 14\n",
      "  7]\n"
     ]
    }
   ],
   "source": [
    "numClusts = 20\n",
    "twentyClusters_Kmeans = clusterTheFish(numClusts, vgg16_fish_featureList_np)\n",
    "twentyClusters_ICVScore = scoreTheFish(twentyClusters_Kmeans, vgg16_fish_featureList_np)[1]\n",
    "\n",
    "# save output\n",
    "saveOutputCSV(numClusts, clusterOutputFname, fishPathsOutputFname, concatClustsFishpathsFname, scoreTheFish(twentyClusters_Kmeans, vgg16_fish_featureList_np)[0], fish_paths)"
   ]
  },
  {
   "cell_type": "markdown",
   "metadata": {},
   "source": [
    "# Plotting Charts"
   ]
  },
  {
   "cell_type": "markdown",
   "metadata": {},
   "source": [
    "## Matplotlib Bar Chart of ICV Scores"
   ]
  },
  {
   "cell_type": "code",
   "execution_count": 43,
   "metadata": {},
   "outputs": [
    {
     "data": {
      "application/javascript": [
       "/* Put everything inside the global mpl namespace */\n",
       "window.mpl = {};\n",
       "\n",
       "\n",
       "mpl.get_websocket_type = function() {\n",
       "    if (typeof(WebSocket) !== 'undefined') {\n",
       "        return WebSocket;\n",
       "    } else if (typeof(MozWebSocket) !== 'undefined') {\n",
       "        return MozWebSocket;\n",
       "    } else {\n",
       "        alert('Your browser does not have WebSocket support.' +\n",
       "              'Please try Chrome, Safari or Firefox ≥ 6. ' +\n",
       "              'Firefox 4 and 5 are also supported but you ' +\n",
       "              'have to enable WebSockets in about:config.');\n",
       "    };\n",
       "}\n",
       "\n",
       "mpl.figure = function(figure_id, websocket, ondownload, parent_element) {\n",
       "    this.id = figure_id;\n",
       "\n",
       "    this.ws = websocket;\n",
       "\n",
       "    this.supports_binary = (this.ws.binaryType != undefined);\n",
       "\n",
       "    if (!this.supports_binary) {\n",
       "        var warnings = document.getElementById(\"mpl-warnings\");\n",
       "        if (warnings) {\n",
       "            warnings.style.display = 'block';\n",
       "            warnings.textContent = (\n",
       "                \"This browser does not support binary websocket messages. \" +\n",
       "                    \"Performance may be slow.\");\n",
       "        }\n",
       "    }\n",
       "\n",
       "    this.imageObj = new Image();\n",
       "\n",
       "    this.context = undefined;\n",
       "    this.message = undefined;\n",
       "    this.canvas = undefined;\n",
       "    this.rubberband_canvas = undefined;\n",
       "    this.rubberband_context = undefined;\n",
       "    this.format_dropdown = undefined;\n",
       "\n",
       "    this.image_mode = 'full';\n",
       "\n",
       "    this.root = $('<div/>');\n",
       "    this._root_extra_style(this.root)\n",
       "    this.root.attr('style', 'display: inline-block');\n",
       "\n",
       "    $(parent_element).append(this.root);\n",
       "\n",
       "    this._init_header(this);\n",
       "    this._init_canvas(this);\n",
       "    this._init_toolbar(this);\n",
       "\n",
       "    var fig = this;\n",
       "\n",
       "    this.waiting = false;\n",
       "\n",
       "    this.ws.onopen =  function () {\n",
       "            fig.send_message(\"supports_binary\", {value: fig.supports_binary});\n",
       "            fig.send_message(\"send_image_mode\", {});\n",
       "            if (mpl.ratio != 1) {\n",
       "                fig.send_message(\"set_dpi_ratio\", {'dpi_ratio': mpl.ratio});\n",
       "            }\n",
       "            fig.send_message(\"refresh\", {});\n",
       "        }\n",
       "\n",
       "    this.imageObj.onload = function() {\n",
       "            if (fig.image_mode == 'full') {\n",
       "                // Full images could contain transparency (where diff images\n",
       "                // almost always do), so we need to clear the canvas so that\n",
       "                // there is no ghosting.\n",
       "                fig.context.clearRect(0, 0, fig.canvas.width, fig.canvas.height);\n",
       "            }\n",
       "            fig.context.drawImage(fig.imageObj, 0, 0);\n",
       "        };\n",
       "\n",
       "    this.imageObj.onunload = function() {\n",
       "        fig.ws.close();\n",
       "    }\n",
       "\n",
       "    this.ws.onmessage = this._make_on_message_function(this);\n",
       "\n",
       "    this.ondownload = ondownload;\n",
       "}\n",
       "\n",
       "mpl.figure.prototype._init_header = function() {\n",
       "    var titlebar = $(\n",
       "        '<div class=\"ui-dialog-titlebar ui-widget-header ui-corner-all ' +\n",
       "        'ui-helper-clearfix\"/>');\n",
       "    var titletext = $(\n",
       "        '<div class=\"ui-dialog-title\" style=\"width: 100%; ' +\n",
       "        'text-align: center; padding: 3px;\"/>');\n",
       "    titlebar.append(titletext)\n",
       "    this.root.append(titlebar);\n",
       "    this.header = titletext[0];\n",
       "}\n",
       "\n",
       "\n",
       "\n",
       "mpl.figure.prototype._canvas_extra_style = function(canvas_div) {\n",
       "\n",
       "}\n",
       "\n",
       "\n",
       "mpl.figure.prototype._root_extra_style = function(canvas_div) {\n",
       "\n",
       "}\n",
       "\n",
       "mpl.figure.prototype._init_canvas = function() {\n",
       "    var fig = this;\n",
       "\n",
       "    var canvas_div = $('<div/>');\n",
       "\n",
       "    canvas_div.attr('style', 'position: relative; clear: both; outline: 0');\n",
       "\n",
       "    function canvas_keyboard_event(event) {\n",
       "        return fig.key_event(event, event['data']);\n",
       "    }\n",
       "\n",
       "    canvas_div.keydown('key_press', canvas_keyboard_event);\n",
       "    canvas_div.keyup('key_release', canvas_keyboard_event);\n",
       "    this.canvas_div = canvas_div\n",
       "    this._canvas_extra_style(canvas_div)\n",
       "    this.root.append(canvas_div);\n",
       "\n",
       "    var canvas = $('<canvas/>');\n",
       "    canvas.addClass('mpl-canvas');\n",
       "    canvas.attr('style', \"left: 0; top: 0; z-index: 0; outline: 0\")\n",
       "\n",
       "    this.canvas = canvas[0];\n",
       "    this.context = canvas[0].getContext(\"2d\");\n",
       "\n",
       "    var backingStore = this.context.backingStorePixelRatio ||\n",
       "\tthis.context.webkitBackingStorePixelRatio ||\n",
       "\tthis.context.mozBackingStorePixelRatio ||\n",
       "\tthis.context.msBackingStorePixelRatio ||\n",
       "\tthis.context.oBackingStorePixelRatio ||\n",
       "\tthis.context.backingStorePixelRatio || 1;\n",
       "\n",
       "    mpl.ratio = (window.devicePixelRatio || 1) / backingStore;\n",
       "\n",
       "    var rubberband = $('<canvas/>');\n",
       "    rubberband.attr('style', \"position: absolute; left: 0; top: 0; z-index: 1;\")\n",
       "\n",
       "    var pass_mouse_events = true;\n",
       "\n",
       "    canvas_div.resizable({\n",
       "        start: function(event, ui) {\n",
       "            pass_mouse_events = false;\n",
       "        },\n",
       "        resize: function(event, ui) {\n",
       "            fig.request_resize(ui.size.width, ui.size.height);\n",
       "        },\n",
       "        stop: function(event, ui) {\n",
       "            pass_mouse_events = true;\n",
       "            fig.request_resize(ui.size.width, ui.size.height);\n",
       "        },\n",
       "    });\n",
       "\n",
       "    function mouse_event_fn(event) {\n",
       "        if (pass_mouse_events)\n",
       "            return fig.mouse_event(event, event['data']);\n",
       "    }\n",
       "\n",
       "    rubberband.mousedown('button_press', mouse_event_fn);\n",
       "    rubberband.mouseup('button_release', mouse_event_fn);\n",
       "    // Throttle sequential mouse events to 1 every 20ms.\n",
       "    rubberband.mousemove('motion_notify', mouse_event_fn);\n",
       "\n",
       "    rubberband.mouseenter('figure_enter', mouse_event_fn);\n",
       "    rubberband.mouseleave('figure_leave', mouse_event_fn);\n",
       "\n",
       "    canvas_div.on(\"wheel\", function (event) {\n",
       "        event = event.originalEvent;\n",
       "        event['data'] = 'scroll'\n",
       "        if (event.deltaY < 0) {\n",
       "            event.step = 1;\n",
       "        } else {\n",
       "            event.step = -1;\n",
       "        }\n",
       "        mouse_event_fn(event);\n",
       "    });\n",
       "\n",
       "    canvas_div.append(canvas);\n",
       "    canvas_div.append(rubberband);\n",
       "\n",
       "    this.rubberband = rubberband;\n",
       "    this.rubberband_canvas = rubberband[0];\n",
       "    this.rubberband_context = rubberband[0].getContext(\"2d\");\n",
       "    this.rubberband_context.strokeStyle = \"#000000\";\n",
       "\n",
       "    this._resize_canvas = function(width, height) {\n",
       "        // Keep the size of the canvas, canvas container, and rubber band\n",
       "        // canvas in synch.\n",
       "        canvas_div.css('width', width)\n",
       "        canvas_div.css('height', height)\n",
       "\n",
       "        canvas.attr('width', width * mpl.ratio);\n",
       "        canvas.attr('height', height * mpl.ratio);\n",
       "        canvas.attr('style', 'width: ' + width + 'px; height: ' + height + 'px;');\n",
       "\n",
       "        rubberband.attr('width', width);\n",
       "        rubberband.attr('height', height);\n",
       "    }\n",
       "\n",
       "    // Set the figure to an initial 600x600px, this will subsequently be updated\n",
       "    // upon first draw.\n",
       "    this._resize_canvas(600, 600);\n",
       "\n",
       "    // Disable right mouse context menu.\n",
       "    $(this.rubberband_canvas).bind(\"contextmenu\",function(e){\n",
       "        return false;\n",
       "    });\n",
       "\n",
       "    function set_focus () {\n",
       "        canvas.focus();\n",
       "        canvas_div.focus();\n",
       "    }\n",
       "\n",
       "    window.setTimeout(set_focus, 100);\n",
       "}\n",
       "\n",
       "mpl.figure.prototype._init_toolbar = function() {\n",
       "    var fig = this;\n",
       "\n",
       "    var nav_element = $('<div/>')\n",
       "    nav_element.attr('style', 'width: 100%');\n",
       "    this.root.append(nav_element);\n",
       "\n",
       "    // Define a callback function for later on.\n",
       "    function toolbar_event(event) {\n",
       "        return fig.toolbar_button_onclick(event['data']);\n",
       "    }\n",
       "    function toolbar_mouse_event(event) {\n",
       "        return fig.toolbar_button_onmouseover(event['data']);\n",
       "    }\n",
       "\n",
       "    for(var toolbar_ind in mpl.toolbar_items) {\n",
       "        var name = mpl.toolbar_items[toolbar_ind][0];\n",
       "        var tooltip = mpl.toolbar_items[toolbar_ind][1];\n",
       "        var image = mpl.toolbar_items[toolbar_ind][2];\n",
       "        var method_name = mpl.toolbar_items[toolbar_ind][3];\n",
       "\n",
       "        if (!name) {\n",
       "            // put a spacer in here.\n",
       "            continue;\n",
       "        }\n",
       "        var button = $('<button/>');\n",
       "        button.addClass('ui-button ui-widget ui-state-default ui-corner-all ' +\n",
       "                        'ui-button-icon-only');\n",
       "        button.attr('role', 'button');\n",
       "        button.attr('aria-disabled', 'false');\n",
       "        button.click(method_name, toolbar_event);\n",
       "        button.mouseover(tooltip, toolbar_mouse_event);\n",
       "\n",
       "        var icon_img = $('<span/>');\n",
       "        icon_img.addClass('ui-button-icon-primary ui-icon');\n",
       "        icon_img.addClass(image);\n",
       "        icon_img.addClass('ui-corner-all');\n",
       "\n",
       "        var tooltip_span = $('<span/>');\n",
       "        tooltip_span.addClass('ui-button-text');\n",
       "        tooltip_span.html(tooltip);\n",
       "\n",
       "        button.append(icon_img);\n",
       "        button.append(tooltip_span);\n",
       "\n",
       "        nav_element.append(button);\n",
       "    }\n",
       "\n",
       "    var fmt_picker_span = $('<span/>');\n",
       "\n",
       "    var fmt_picker = $('<select/>');\n",
       "    fmt_picker.addClass('mpl-toolbar-option ui-widget ui-widget-content');\n",
       "    fmt_picker_span.append(fmt_picker);\n",
       "    nav_element.append(fmt_picker_span);\n",
       "    this.format_dropdown = fmt_picker[0];\n",
       "\n",
       "    for (var ind in mpl.extensions) {\n",
       "        var fmt = mpl.extensions[ind];\n",
       "        var option = $(\n",
       "            '<option/>', {selected: fmt === mpl.default_extension}).html(fmt);\n",
       "        fmt_picker.append(option)\n",
       "    }\n",
       "\n",
       "    // Add hover states to the ui-buttons\n",
       "    $( \".ui-button\" ).hover(\n",
       "        function() { $(this).addClass(\"ui-state-hover\");},\n",
       "        function() { $(this).removeClass(\"ui-state-hover\");}\n",
       "    );\n",
       "\n",
       "    var status_bar = $('<span class=\"mpl-message\"/>');\n",
       "    nav_element.append(status_bar);\n",
       "    this.message = status_bar[0];\n",
       "}\n",
       "\n",
       "mpl.figure.prototype.request_resize = function(x_pixels, y_pixels) {\n",
       "    // Request matplotlib to resize the figure. Matplotlib will then trigger a resize in the client,\n",
       "    // which will in turn request a refresh of the image.\n",
       "    this.send_message('resize', {'width': x_pixels, 'height': y_pixels});\n",
       "}\n",
       "\n",
       "mpl.figure.prototype.send_message = function(type, properties) {\n",
       "    properties['type'] = type;\n",
       "    properties['figure_id'] = this.id;\n",
       "    this.ws.send(JSON.stringify(properties));\n",
       "}\n",
       "\n",
       "mpl.figure.prototype.send_draw_message = function() {\n",
       "    if (!this.waiting) {\n",
       "        this.waiting = true;\n",
       "        this.ws.send(JSON.stringify({type: \"draw\", figure_id: this.id}));\n",
       "    }\n",
       "}\n",
       "\n",
       "\n",
       "mpl.figure.prototype.handle_save = function(fig, msg) {\n",
       "    var format_dropdown = fig.format_dropdown;\n",
       "    var format = format_dropdown.options[format_dropdown.selectedIndex].value;\n",
       "    fig.ondownload(fig, format);\n",
       "}\n",
       "\n",
       "\n",
       "mpl.figure.prototype.handle_resize = function(fig, msg) {\n",
       "    var size = msg['size'];\n",
       "    if (size[0] != fig.canvas.width || size[1] != fig.canvas.height) {\n",
       "        fig._resize_canvas(size[0], size[1]);\n",
       "        fig.send_message(\"refresh\", {});\n",
       "    };\n",
       "}\n",
       "\n",
       "mpl.figure.prototype.handle_rubberband = function(fig, msg) {\n",
       "    var x0 = msg['x0'] / mpl.ratio;\n",
       "    var y0 = (fig.canvas.height - msg['y0']) / mpl.ratio;\n",
       "    var x1 = msg['x1'] / mpl.ratio;\n",
       "    var y1 = (fig.canvas.height - msg['y1']) / mpl.ratio;\n",
       "    x0 = Math.floor(x0) + 0.5;\n",
       "    y0 = Math.floor(y0) + 0.5;\n",
       "    x1 = Math.floor(x1) + 0.5;\n",
       "    y1 = Math.floor(y1) + 0.5;\n",
       "    var min_x = Math.min(x0, x1);\n",
       "    var min_y = Math.min(y0, y1);\n",
       "    var width = Math.abs(x1 - x0);\n",
       "    var height = Math.abs(y1 - y0);\n",
       "\n",
       "    fig.rubberband_context.clearRect(\n",
       "        0, 0, fig.canvas.width, fig.canvas.height);\n",
       "\n",
       "    fig.rubberband_context.strokeRect(min_x, min_y, width, height);\n",
       "}\n",
       "\n",
       "mpl.figure.prototype.handle_figure_label = function(fig, msg) {\n",
       "    // Updates the figure title.\n",
       "    fig.header.textContent = msg['label'];\n",
       "}\n",
       "\n",
       "mpl.figure.prototype.handle_cursor = function(fig, msg) {\n",
       "    var cursor = msg['cursor'];\n",
       "    switch(cursor)\n",
       "    {\n",
       "    case 0:\n",
       "        cursor = 'pointer';\n",
       "        break;\n",
       "    case 1:\n",
       "        cursor = 'default';\n",
       "        break;\n",
       "    case 2:\n",
       "        cursor = 'crosshair';\n",
       "        break;\n",
       "    case 3:\n",
       "        cursor = 'move';\n",
       "        break;\n",
       "    }\n",
       "    fig.rubberband_canvas.style.cursor = cursor;\n",
       "}\n",
       "\n",
       "mpl.figure.prototype.handle_message = function(fig, msg) {\n",
       "    fig.message.textContent = msg['message'];\n",
       "}\n",
       "\n",
       "mpl.figure.prototype.handle_draw = function(fig, msg) {\n",
       "    // Request the server to send over a new figure.\n",
       "    fig.send_draw_message();\n",
       "}\n",
       "\n",
       "mpl.figure.prototype.handle_image_mode = function(fig, msg) {\n",
       "    fig.image_mode = msg['mode'];\n",
       "}\n",
       "\n",
       "mpl.figure.prototype.updated_canvas_event = function() {\n",
       "    // Called whenever the canvas gets updated.\n",
       "    this.send_message(\"ack\", {});\n",
       "}\n",
       "\n",
       "// A function to construct a web socket function for onmessage handling.\n",
       "// Called in the figure constructor.\n",
       "mpl.figure.prototype._make_on_message_function = function(fig) {\n",
       "    return function socket_on_message(evt) {\n",
       "        if (evt.data instanceof Blob) {\n",
       "            /* FIXME: We get \"Resource interpreted as Image but\n",
       "             * transferred with MIME type text/plain:\" errors on\n",
       "             * Chrome.  But how to set the MIME type?  It doesn't seem\n",
       "             * to be part of the websocket stream */\n",
       "            evt.data.type = \"image/png\";\n",
       "\n",
       "            /* Free the memory for the previous frames */\n",
       "            if (fig.imageObj.src) {\n",
       "                (window.URL || window.webkitURL).revokeObjectURL(\n",
       "                    fig.imageObj.src);\n",
       "            }\n",
       "\n",
       "            fig.imageObj.src = (window.URL || window.webkitURL).createObjectURL(\n",
       "                evt.data);\n",
       "            fig.updated_canvas_event();\n",
       "            fig.waiting = false;\n",
       "            return;\n",
       "        }\n",
       "        else if (typeof evt.data === 'string' && evt.data.slice(0, 21) == \"data:image/png;base64\") {\n",
       "            fig.imageObj.src = evt.data;\n",
       "            fig.updated_canvas_event();\n",
       "            fig.waiting = false;\n",
       "            return;\n",
       "        }\n",
       "\n",
       "        var msg = JSON.parse(evt.data);\n",
       "        var msg_type = msg['type'];\n",
       "\n",
       "        // Call the  \"handle_{type}\" callback, which takes\n",
       "        // the figure and JSON message as its only arguments.\n",
       "        try {\n",
       "            var callback = fig[\"handle_\" + msg_type];\n",
       "        } catch (e) {\n",
       "            console.log(\"No handler for the '\" + msg_type + \"' message type: \", msg);\n",
       "            return;\n",
       "        }\n",
       "\n",
       "        if (callback) {\n",
       "            try {\n",
       "                // console.log(\"Handling '\" + msg_type + \"' message: \", msg);\n",
       "                callback(fig, msg);\n",
       "            } catch (e) {\n",
       "                console.log(\"Exception inside the 'handler_\" + msg_type + \"' callback:\", e, e.stack, msg);\n",
       "            }\n",
       "        }\n",
       "    };\n",
       "}\n",
       "\n",
       "// from http://stackoverflow.com/questions/1114465/getting-mouse-location-in-canvas\n",
       "mpl.findpos = function(e) {\n",
       "    //this section is from http://www.quirksmode.org/js/events_properties.html\n",
       "    var targ;\n",
       "    if (!e)\n",
       "        e = window.event;\n",
       "    if (e.target)\n",
       "        targ = e.target;\n",
       "    else if (e.srcElement)\n",
       "        targ = e.srcElement;\n",
       "    if (targ.nodeType == 3) // defeat Safari bug\n",
       "        targ = targ.parentNode;\n",
       "\n",
       "    // jQuery normalizes the pageX and pageY\n",
       "    // pageX,Y are the mouse positions relative to the document\n",
       "    // offset() returns the position of the element relative to the document\n",
       "    var x = e.pageX - $(targ).offset().left;\n",
       "    var y = e.pageY - $(targ).offset().top;\n",
       "\n",
       "    return {\"x\": x, \"y\": y};\n",
       "};\n",
       "\n",
       "/*\n",
       " * return a copy of an object with only non-object keys\n",
       " * we need this to avoid circular references\n",
       " * http://stackoverflow.com/a/24161582/3208463\n",
       " */\n",
       "function simpleKeys (original) {\n",
       "  return Object.keys(original).reduce(function (obj, key) {\n",
       "    if (typeof original[key] !== 'object')\n",
       "        obj[key] = original[key]\n",
       "    return obj;\n",
       "  }, {});\n",
       "}\n",
       "\n",
       "mpl.figure.prototype.mouse_event = function(event, name) {\n",
       "    var canvas_pos = mpl.findpos(event)\n",
       "\n",
       "    if (name === 'button_press')\n",
       "    {\n",
       "        this.canvas.focus();\n",
       "        this.canvas_div.focus();\n",
       "    }\n",
       "\n",
       "    var x = canvas_pos.x * mpl.ratio;\n",
       "    var y = canvas_pos.y * mpl.ratio;\n",
       "\n",
       "    this.send_message(name, {x: x, y: y, button: event.button,\n",
       "                             step: event.step,\n",
       "                             guiEvent: simpleKeys(event)});\n",
       "\n",
       "    /* This prevents the web browser from automatically changing to\n",
       "     * the text insertion cursor when the button is pressed.  We want\n",
       "     * to control all of the cursor setting manually through the\n",
       "     * 'cursor' event from matplotlib */\n",
       "    event.preventDefault();\n",
       "    return false;\n",
       "}\n",
       "\n",
       "mpl.figure.prototype._key_event_extra = function(event, name) {\n",
       "    // Handle any extra behaviour associated with a key event\n",
       "}\n",
       "\n",
       "mpl.figure.prototype.key_event = function(event, name) {\n",
       "\n",
       "    // Prevent repeat events\n",
       "    if (name == 'key_press')\n",
       "    {\n",
       "        if (event.which === this._key)\n",
       "            return;\n",
       "        else\n",
       "            this._key = event.which;\n",
       "    }\n",
       "    if (name == 'key_release')\n",
       "        this._key = null;\n",
       "\n",
       "    var value = '';\n",
       "    if (event.ctrlKey && event.which != 17)\n",
       "        value += \"ctrl+\";\n",
       "    if (event.altKey && event.which != 18)\n",
       "        value += \"alt+\";\n",
       "    if (event.shiftKey && event.which != 16)\n",
       "        value += \"shift+\";\n",
       "\n",
       "    value += 'k';\n",
       "    value += event.which.toString();\n",
       "\n",
       "    this._key_event_extra(event, name);\n",
       "\n",
       "    this.send_message(name, {key: value,\n",
       "                             guiEvent: simpleKeys(event)});\n",
       "    return false;\n",
       "}\n",
       "\n",
       "mpl.figure.prototype.toolbar_button_onclick = function(name) {\n",
       "    if (name == 'download') {\n",
       "        this.handle_save(this, null);\n",
       "    } else {\n",
       "        this.send_message(\"toolbar_button\", {name: name});\n",
       "    }\n",
       "};\n",
       "\n",
       "mpl.figure.prototype.toolbar_button_onmouseover = function(tooltip) {\n",
       "    this.message.textContent = tooltip;\n",
       "};\n",
       "mpl.toolbar_items = [[\"Home\", \"Reset original view\", \"fa fa-home icon-home\", \"home\"], [\"Back\", \"Back to previous view\", \"fa fa-arrow-left icon-arrow-left\", \"back\"], [\"Forward\", \"Forward to next view\", \"fa fa-arrow-right icon-arrow-right\", \"forward\"], [\"\", \"\", \"\", \"\"], [\"Pan\", \"Pan axes with left mouse, zoom with right\", \"fa fa-arrows icon-move\", \"pan\"], [\"Zoom\", \"Zoom to rectangle\", \"fa fa-square-o icon-check-empty\", \"zoom\"], [\"\", \"\", \"\", \"\"], [\"Download\", \"Download plot\", \"fa fa-floppy-o icon-save\", \"download\"]];\n",
       "\n",
       "mpl.extensions = [\"eps\", \"jpeg\", \"pdf\", \"png\", \"ps\", \"raw\", \"svg\", \"tif\"];\n",
       "\n",
       "mpl.default_extension = \"png\";var comm_websocket_adapter = function(comm) {\n",
       "    // Create a \"websocket\"-like object which calls the given IPython comm\n",
       "    // object with the appropriate methods. Currently this is a non binary\n",
       "    // socket, so there is still some room for performance tuning.\n",
       "    var ws = {};\n",
       "\n",
       "    ws.close = function() {\n",
       "        comm.close()\n",
       "    };\n",
       "    ws.send = function(m) {\n",
       "        //console.log('sending', m);\n",
       "        comm.send(m);\n",
       "    };\n",
       "    // Register the callback with on_msg.\n",
       "    comm.on_msg(function(msg) {\n",
       "        //console.log('receiving', msg['content']['data'], msg);\n",
       "        // Pass the mpl event to the overridden (by mpl) onmessage function.\n",
       "        ws.onmessage(msg['content']['data'])\n",
       "    });\n",
       "    return ws;\n",
       "}\n",
       "\n",
       "mpl.mpl_figure_comm = function(comm, msg) {\n",
       "    // This is the function which gets called when the mpl process\n",
       "    // starts-up an IPython Comm through the \"matplotlib\" channel.\n",
       "\n",
       "    var id = msg.content.data.id;\n",
       "    // Get hold of the div created by the display call when the Comm\n",
       "    // socket was opened in Python.\n",
       "    var element = $(\"#\" + id);\n",
       "    var ws_proxy = comm_websocket_adapter(comm)\n",
       "\n",
       "    function ondownload(figure, format) {\n",
       "        window.open(figure.imageObj.src);\n",
       "    }\n",
       "\n",
       "    var fig = new mpl.figure(id, ws_proxy,\n",
       "                           ondownload,\n",
       "                           element.get(0));\n",
       "\n",
       "    // Call onopen now - mpl needs it, as it is assuming we've passed it a real\n",
       "    // web socket which is closed, not our websocket->open comm proxy.\n",
       "    ws_proxy.onopen();\n",
       "\n",
       "    fig.parent_element = element.get(0);\n",
       "    fig.cell_info = mpl.find_output_cell(\"<div id='\" + id + \"'></div>\");\n",
       "    if (!fig.cell_info) {\n",
       "        console.error(\"Failed to find cell for figure\", id, fig);\n",
       "        return;\n",
       "    }\n",
       "\n",
       "    var output_index = fig.cell_info[2]\n",
       "    var cell = fig.cell_info[0];\n",
       "\n",
       "};\n",
       "\n",
       "mpl.figure.prototype.handle_close = function(fig, msg) {\n",
       "    var width = fig.canvas.width/mpl.ratio\n",
       "    fig.root.unbind('remove')\n",
       "\n",
       "    // Update the output cell to use the data from the current canvas.\n",
       "    fig.push_to_output();\n",
       "    var dataURL = fig.canvas.toDataURL();\n",
       "    // Re-enable the keyboard manager in IPython - without this line, in FF,\n",
       "    // the notebook keyboard shortcuts fail.\n",
       "    IPython.keyboard_manager.enable()\n",
       "    $(fig.parent_element).html('<img src=\"' + dataURL + '\" width=\"' + width + '\">');\n",
       "    fig.close_ws(fig, msg);\n",
       "}\n",
       "\n",
       "mpl.figure.prototype.close_ws = function(fig, msg){\n",
       "    fig.send_message('closing', msg);\n",
       "    // fig.ws.close()\n",
       "}\n",
       "\n",
       "mpl.figure.prototype.push_to_output = function(remove_interactive) {\n",
       "    // Turn the data on the canvas into data in the output cell.\n",
       "    var width = this.canvas.width/mpl.ratio\n",
       "    var dataURL = this.canvas.toDataURL();\n",
       "    this.cell_info[1]['text/html'] = '<img src=\"' + dataURL + '\" width=\"' + width + '\">';\n",
       "}\n",
       "\n",
       "mpl.figure.prototype.updated_canvas_event = function() {\n",
       "    // Tell IPython that the notebook contents must change.\n",
       "    IPython.notebook.set_dirty(true);\n",
       "    this.send_message(\"ack\", {});\n",
       "    var fig = this;\n",
       "    // Wait a second, then push the new image to the DOM so\n",
       "    // that it is saved nicely (might be nice to debounce this).\n",
       "    setTimeout(function () { fig.push_to_output() }, 1000);\n",
       "}\n",
       "\n",
       "mpl.figure.prototype._init_toolbar = function() {\n",
       "    var fig = this;\n",
       "\n",
       "    var nav_element = $('<div/>')\n",
       "    nav_element.attr('style', 'width: 100%');\n",
       "    this.root.append(nav_element);\n",
       "\n",
       "    // Define a callback function for later on.\n",
       "    function toolbar_event(event) {\n",
       "        return fig.toolbar_button_onclick(event['data']);\n",
       "    }\n",
       "    function toolbar_mouse_event(event) {\n",
       "        return fig.toolbar_button_onmouseover(event['data']);\n",
       "    }\n",
       "\n",
       "    for(var toolbar_ind in mpl.toolbar_items){\n",
       "        var name = mpl.toolbar_items[toolbar_ind][0];\n",
       "        var tooltip = mpl.toolbar_items[toolbar_ind][1];\n",
       "        var image = mpl.toolbar_items[toolbar_ind][2];\n",
       "        var method_name = mpl.toolbar_items[toolbar_ind][3];\n",
       "\n",
       "        if (!name) { continue; };\n",
       "\n",
       "        var button = $('<button class=\"btn btn-default\" href=\"#\" title=\"' + name + '\"><i class=\"fa ' + image + ' fa-lg\"></i></button>');\n",
       "        button.click(method_name, toolbar_event);\n",
       "        button.mouseover(tooltip, toolbar_mouse_event);\n",
       "        nav_element.append(button);\n",
       "    }\n",
       "\n",
       "    // Add the status bar.\n",
       "    var status_bar = $('<span class=\"mpl-message\" style=\"text-align:right; float: right;\"/>');\n",
       "    nav_element.append(status_bar);\n",
       "    this.message = status_bar[0];\n",
       "\n",
       "    // Add the close button to the window.\n",
       "    var buttongrp = $('<div class=\"btn-group inline pull-right\"></div>');\n",
       "    var button = $('<button class=\"btn btn-mini btn-primary\" href=\"#\" title=\"Stop Interaction\"><i class=\"fa fa-power-off icon-remove icon-large\"></i></button>');\n",
       "    button.click(function (evt) { fig.handle_close(fig, {}); } );\n",
       "    button.mouseover('Stop Interaction', toolbar_mouse_event);\n",
       "    buttongrp.append(button);\n",
       "    var titlebar = this.root.find($('.ui-dialog-titlebar'));\n",
       "    titlebar.prepend(buttongrp);\n",
       "}\n",
       "\n",
       "mpl.figure.prototype._root_extra_style = function(el){\n",
       "    var fig = this\n",
       "    el.on(\"remove\", function(){\n",
       "\tfig.close_ws(fig, {});\n",
       "    });\n",
       "}\n",
       "\n",
       "mpl.figure.prototype._canvas_extra_style = function(el){\n",
       "    // this is important to make the div 'focusable\n",
       "    el.attr('tabindex', 0)\n",
       "    // reach out to IPython and tell the keyboard manager to turn it's self\n",
       "    // off when our div gets focus\n",
       "\n",
       "    // location in version 3\n",
       "    if (IPython.notebook.keyboard_manager) {\n",
       "        IPython.notebook.keyboard_manager.register_events(el);\n",
       "    }\n",
       "    else {\n",
       "        // location in version 2\n",
       "        IPython.keyboard_manager.register_events(el);\n",
       "    }\n",
       "\n",
       "}\n",
       "\n",
       "mpl.figure.prototype._key_event_extra = function(event, name) {\n",
       "    var manager = IPython.notebook.keyboard_manager;\n",
       "    if (!manager)\n",
       "        manager = IPython.keyboard_manager;\n",
       "\n",
       "    // Check for shift+enter\n",
       "    if (event.shiftKey && event.which == 13) {\n",
       "        this.canvas_div.blur();\n",
       "        event.shiftKey = false;\n",
       "        // Send a \"J\" for go to next cell\n",
       "        event.which = 74;\n",
       "        event.keyCode = 74;\n",
       "        manager.command_mode();\n",
       "        manager.handle_keydown(event);\n",
       "    }\n",
       "}\n",
       "\n",
       "mpl.figure.prototype.handle_save = function(fig, msg) {\n",
       "    fig.ondownload(fig, null);\n",
       "}\n",
       "\n",
       "\n",
       "mpl.find_output_cell = function(html_output) {\n",
       "    // Return the cell and output element which can be found *uniquely* in the notebook.\n",
       "    // Note - this is a bit hacky, but it is done because the \"notebook_saving.Notebook\"\n",
       "    // IPython event is triggered only after the cells have been serialised, which for\n",
       "    // our purposes (turning an active figure into a static one), is too late.\n",
       "    var cells = IPython.notebook.get_cells();\n",
       "    var ncells = cells.length;\n",
       "    for (var i=0; i<ncells; i++) {\n",
       "        var cell = cells[i];\n",
       "        if (cell.cell_type === 'code'){\n",
       "            for (var j=0; j<cell.output_area.outputs.length; j++) {\n",
       "                var data = cell.output_area.outputs[j];\n",
       "                if (data.data) {\n",
       "                    // IPython >= 3 moved mimebundle to data attribute of output\n",
       "                    data = data.data;\n",
       "                }\n",
       "                if (data['text/html'] == html_output) {\n",
       "                    return [cell, data, j];\n",
       "                }\n",
       "            }\n",
       "        }\n",
       "    }\n",
       "}\n",
       "\n",
       "// Register the function which deals with the matplotlib target/channel.\n",
       "// The kernel may be null if the page has been refreshed.\n",
       "if (IPython.notebook.kernel != null) {\n",
       "    IPython.notebook.kernel.comm_manager.register_target('matplotlib', mpl.mpl_figure_comm);\n",
       "}\n"
      ],
      "text/plain": [
       "<IPython.core.display.Javascript object>"
      ]
     },
     "metadata": {},
     "output_type": "display_data"
    },
    {
     "data": {
      "text/html": [
       "<img src=\"data:image/png;base64,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\" width=\"640\">"
      ],
      "text/plain": [
       "<IPython.core.display.HTML object>"
      ]
     },
     "metadata": {},
     "output_type": "display_data"
    }
   ],
   "source": [
    "n_groups = 19\n",
    "\n",
    "clusterICVScores_Means = (twoClusters_ICVScore, threeClusters_ICVScore, fourClusters_ICVScore, fiveClusters_ICVScore, sixClusters_ICVScore, sevenClusters_ICVScore,\n",
    "                         eightClusters_ICVScore, nineClusters_ICVScore, tenClusters_ICVScore, elevenClusters_ICVScore, twelveClusters_ICVScore,\n",
    "                         thirteenClusters_ICVScore, fourteenClusters_ICVScore, fifteenClusters_ICVScore, sixteenClusters_ICVScore, seventeenClusters_ICVScore,\n",
    "                         eighteenClusters_ICVScore, nineteenClusters_ICVScore, twentyClusters_ICVScore)\n",
    "\n",
    "fig, ax = plt.subplots()\n",
    "\n",
    "index = np.arange(n_groups)\n",
    "bar_width = 0.35\n",
    "\n",
    "opacity = 0.4\n",
    "error_config = {'ecolor': '0.3'}\n",
    "\n",
    "rects1 = ax.bar(index, clusterICVScores_Means, bar_width,\n",
    "                alpha=opacity, color='b', \n",
    "                error_kw=error_config,\n",
    "                label='VGG16')\n",
    "\n",
    "\n",
    "ax.set_xlabel('Number of Clusters')\n",
    "ax.set_ylabel('Internal Cluster Validation Scores')\n",
    "ax.set_title('Scores by number of clusters (Randall)')\n",
    "ax.set_xticks(index)\n",
    "ax.set_xticklabels(('2', '3', '4', '5', '6', '7', '8', '9', '10', '11', '12', '13', '14', '15', '16', '17', '18', '19', '20'))\n",
    "ax.legend()\n",
    "\n",
    "fig.tight_layout()\n",
    "plt.show()"
   ]
  }
 ],
 "metadata": {
  "kernelspec": {
   "display_name": "Python 3",
   "language": "python",
   "name": "python3"
  },
  "language_info": {
   "codemirror_mode": {
    "name": "ipython",
    "version": 3
   },
   "file_extension": ".py",
   "mimetype": "text/x-python",
   "name": "python",
   "nbconvert_exporter": "python",
   "pygments_lexer": "ipython3",
   "version": "3.6.5"
  }
 },
 "nbformat": 4,
 "nbformat_minor": 2
}
