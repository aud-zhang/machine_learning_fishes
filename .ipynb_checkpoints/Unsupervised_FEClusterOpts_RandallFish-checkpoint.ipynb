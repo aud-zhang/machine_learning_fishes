{
 "cells": [
  {
   "cell_type": "markdown",
   "metadata": {},
   "source": [
    "# Import Libraries"
   ]
  },
  {
   "cell_type": "code",
   "execution_count": 49,
   "metadata": {},
   "outputs": [],
   "source": [
    "# Shawn Schwartz, 2018\n",
    "# shawnschwartz@ucla.edu\n",
    "# The Alfaro Lab at UCLA\n",
    "\n",
    "from keras.preprocessing import image\n",
    "from keras.applications.vgg16 import VGG16\n",
    "from keras.applications.vgg16 import preprocess_input\n",
    "from sklearn.cluster import KMeans\n",
    "from sklearn import metrics\n",
    "from sklearn.datasets import load_digits\n",
    "from sklearn.decomposition import PCA\n",
    "from sklearn.preprocessing import scale\n",
    "\n",
    "from matplotlib.offsetbox import OffsetImage, AnnotationBbox\n",
    "\n",
    "import seaborn as sns\n",
    "\n",
    "\n",
    "import numpy as np\n",
    "import pandas as pd\n",
    "import matplotlib.pyplot as plt\n",
    "from matplotlib.ticker import MaxNLocator\n",
    "from collections import namedtuple\n",
    "import scipy.spatial.distance as dist\n",
    "import os\n",
    "from os import walk, listdir\n",
    "import warnings\n",
    "import sys"
   ]
  },
  {
   "cell_type": "markdown",
   "metadata": {},
   "source": [
    "# Define Functions for Clustering"
   ]
  },
  {
   "cell_type": "markdown",
   "metadata": {},
   "source": [
    "## Define \"getFishDirs\" Function"
   ]
  },
  {
   "cell_type": "code",
   "execution_count": 50,
   "metadata": {},
   "outputs": [],
   "source": [
    "# obtain all subdirs of fish\n",
    "def getFishDirs(file_path):\n",
    "    randall_fish = [f.path for f in os.scandir(file_path) if f.is_dir()]\n",
    "    \n",
    "    return(randall_fish)"
   ]
  },
  {
   "cell_type": "markdown",
   "metadata": {},
   "source": [
    "## Define \"getFishSubDirs\" Function"
   ]
  },
  {
   "cell_type": "code",
   "execution_count": 51,
   "metadata": {},
   "outputs": [],
   "source": [
    "def getFishSubDirs(subdirs_path, emptyPaths_array):\n",
    "    for i in range(len(subdirs_path)):\n",
    "        for (dirpath, dirnames, filenames) in walk(subdirs_path[i]):\n",
    "            for j in range(len(filenames)):\n",
    "                img = dirpath + '/' + filenames[j]\n",
    "                if \"Store\" not in img:\n",
    "                    emptyPaths_array.append(img)\n",
    "            break\n",
    "            \n",
    "    return(emptyPaths_array)"
   ]
  },
  {
   "cell_type": "markdown",
   "metadata": {},
   "source": [
    "## Get Fish \"Species\" Paths per \"Family\" Subdirectories"
   ]
  },
  {
   "cell_type": "code",
   "execution_count": 52,
   "metadata": {},
   "outputs": [],
   "source": [
    "# Input File Path of Images Parent Directory\n",
    "randall_dirpath = '/Users/shawn/Developer/randall_interested_edited/'\n",
    "\n",
    "# Call getFishDirs for Parent Directory and Store\n",
    "fish_subdirs = getFishDirs(randall_dirpath)\n",
    "\n",
    "# Init empty array for individual subdir fish family paths\n",
    "fish_paths = []\n",
    "\n",
    "# Call getFishSubDirs for SubDirs and Store\n",
    "fish_paths = getFishSubDirs(fish_subdirs, fish_paths)"
   ]
  },
  {
   "cell_type": "markdown",
   "metadata": {},
   "source": [
    "## Initialize and Define VGG16 Imagenet Model"
   ]
  },
  {
   "cell_type": "code",
   "execution_count": 53,
   "metadata": {},
   "outputs": [],
   "source": [
    "model = VGG16(weights='imagenet', include_top=False)\n",
    "\n",
    "vgg16_feature_list = []\n",
    "\n",
    "warnings.filterwarnings('ignore')"
   ]
  },
  {
   "cell_type": "markdown",
   "metadata": {},
   "source": [
    "## Define \"processTheFish\" (VGG16 Image Processing) Function"
   ]
  },
  {
   "cell_type": "code",
   "execution_count": 54,
   "metadata": {},
   "outputs": [],
   "source": [
    "def processTheFish(desiredPaths_set, vgg16_model):\n",
    "    # Print Information for Peace of Mind\n",
    "    print(\"Beginning Image Processing for...\")\n",
    "    #print(desiredClusters, \" Desired Number of Clusters!\")\n",
    "    \n",
    "    for i, fname in enumerate(desiredPaths_set):\n",
    "        # process image files within pre-fetched subdirs\n",
    "        img = image.load_img(desiredPaths_set[i], target_size=(224, 224))\n",
    "        img_data = image.img_to_array(img)\n",
    "        img_data = np.expand_dims(img_data, axis=0)\n",
    "        img_data = preprocess_input(img_data)\n",
    "        \n",
    "        vgg16_feature = vgg16_model.predict(img_data)\n",
    "        vgg16_feature_np = np.array(vgg16_feature)\n",
    "        vgg16_feature_list.append(vgg16_feature_np.flatten())\n",
    "        \n",
    "        # Print image processing progress percentage in console for Peace of Mind\n",
    "        sys.stdout.write(\"\\r{0}\".format((float(i)/len(desiredPaths_set))*100))\n",
    "        sys.stdout.flush()\n",
    "        \n",
    "    print(\"\\nImage Processing Completed!\")\n",
    "    \n",
    "    vgg16_feature_list_np = np.array(vgg16_feature_list)\n",
    "    \n",
    "    return(vgg16_feature_list_np)"
   ]
  },
  {
   "cell_type": "markdown",
   "metadata": {},
   "source": [
    "## Define \"clusterTheFish\" (KMeans Clustering) Function"
   ]
  },
  {
   "cell_type": "code",
   "execution_count": 55,
   "metadata": {},
   "outputs": [],
   "source": [
    "def clusterTheFish(desiredClusters, imported_vgg16_feature_list_np):\n",
    "    kmeans = KMeans(n_clusters=desiredClusters, random_state=0).fit(imported_vgg16_feature_list_np)\n",
    "    \n",
    "    print(\"VGG16 Feature List and KMeans Computed.\")\n",
    "    \n",
    "    return(kmeans)"
   ]
  },
  {
   "cell_type": "markdown",
   "metadata": {},
   "source": [
    "## Define \"scoreTheFish\" (Internal Clusuter Validation Silhouette Scoring) Function"
   ]
  },
  {
   "cell_type": "code",
   "execution_count": 56,
   "metadata": {},
   "outputs": [],
   "source": [
    "def scoreTheFish(imported_Kmeans, imported_vgg16_feature_list_np):\n",
    "    predicted_labels = imported_Kmeans.labels_\n",
    "    \n",
    "    ICV_Score = metrics.silhouette_score(imported_vgg16_feature_list_np, predicted_labels, metric='euclidean')\n",
    "    \n",
    "    #altScore = vgg16_model.evaluate(imported_vgg16_feature_list_np, predicted_labels, verbose=0)\n",
    "   # print('Test Score: ', altScore)\n",
    "    #print('Test Accuracy: ', altScore[1])\n",
    "    \n",
    "    # Print out Internal Cluster Validation Score\n",
    "    print(\"\\nInternal Cluster Validation Score:\", ICV_Score)\n",
    "    \n",
    "    # Print out Predicted Cluster ID Labels\n",
    "    print(\"\\nPredicted Clusters:\", predicted_labels)\n",
    "    \n",
    "    return(predicted_labels, ICV_Score)"
   ]
  },
  {
   "cell_type": "markdown",
   "metadata": {},
   "source": [
    "## Define \"writeListToFile\" (non-np array) Function"
   ]
  },
  {
   "cell_type": "code",
   "execution_count": 57,
   "metadata": {},
   "outputs": [],
   "source": [
    "def writeListToFile(fishy_paths_list, filename):\n",
    "    # Write the file paths list to its own CSV file\n",
    "    \n",
    "    with open(filename, \"w\") as outfile:\n",
    "        for entries in fishy_paths_list:\n",
    "            outfile.write(entries)\n",
    "            outfile.write(\"\\n\")\n",
    "    \n",
    "    print(\"File successfully written to drive: \", filename)"
   ]
  },
  {
   "cell_type": "markdown",
   "metadata": {},
   "source": [
    "## Define \"splitTaxonomy\" Function"
   ]
  },
  {
   "cell_type": "code",
   "execution_count": 58,
   "metadata": {},
   "outputs": [],
   "source": [
    "def splitTaxonomy(filepaths_files):\n",
    "    df = pd.read_csv(filepaths_files, names=['paths'], header=None)\n",
    "    print(\"Successfully read in file: \", filepaths_files)\n",
    "    df['family'] = df['paths'].str.split('/').str[5]\n",
    "    df['tmpgenus'] = df['paths'].str.split('/').str[6]\n",
    "    df['genus'] = df['tmpgenus'].str.split('_').str[0]\n",
    "    df['tmpspecies'] = df['paths'].str.split('/').str[6]\n",
    "    df['species'] = df['tmpspecies'].str.split(' ').str[1]\n",
    "    df['serialnumber'] = df['paths'].str.split('_').str[3]\n",
    "    \n",
    "    return(df)"
   ]
  },
  {
   "cell_type": "markdown",
   "metadata": {},
   "source": [
    "## Define \"saveOutputCSV\" Function"
   ]
  },
  {
   "cell_type": "code",
   "execution_count": 80,
   "metadata": {},
   "outputs": [],
   "source": [
    "def saveOutputCSV(desClustNums, cluster_output_filename, fish_paths_output_filename, concat_clusters_fishpaths_filename, pred_labels_output, fish_file_paths):\n",
    "    # temp: write out for pandas concat\n",
    "    cluster_output_filename =  'DesiredClusters-' + str(desClustNums) + cluster_output_filename\n",
    "    fish_paths_output_filename = 'DesiredClusters-' + str(desClustNums) + fish_paths_output_filename\n",
    "    \n",
    "    # final csv file output\n",
    "    concat_clusters_fishpaths_filename = 'DesiredClusters-'+ str(desClustNums) + concat_clusters_fishpaths_filename\n",
    "    \n",
    "    # temp: for split-apart randall data filenames by taxonomy\n",
    "   # fish_families_output_filename = 'DesiredClusters-' + str(desClustNums) + fish_families_output_filename\n",
    "   # fish_genus_output_filename = 'DesiredClusters-' + str(desClustNums) + fish_genus_output_filename\n",
    "   # fish_species_output_filename = 'DesiredClusters-' + str(desClustNums) + fish_species_output_filename\n",
    "    \n",
    "    # save separate CSV files\n",
    "    np.savetxt(cluster_output_filename, pred_labels_output, delimiter=\",\")\n",
    "    writeListToFile(fish_file_paths, fish_paths_output_filename)\n",
    "    \n",
    "    tmpdf = splitTaxonomy(fish_paths_output_filename)\n",
    "    \n",
    "    #writeListToFile(xxx, fish_families_output_filename)\n",
    "    #writeListToFile(xxx, fish_genus_output_filename)\n",
    "    #writeListToFile(xxx, fish_species_output_filename)\n",
    "    \n",
    "    # concatenate paths and cluster identification CSVs\n",
    "    colOne = pd.read_csv(cluster_output_filename, names=['clusterID'], header=None)\n",
    "    colTwo = pd.read_csv(fish_paths_output_filename, names=['filepaths'], header=None)\n",
    "    \n",
    "    colFamily = tmpdf['family']\n",
    "    colGenus = tmpdf['genus']\n",
    "    colSpecies = tmpdf['species']\n",
    "    \n",
    "    colSerialNumber = tmpdf['serialnumber']\n",
    "    \n",
    "    #print(colFamily)\n",
    "    #print(colGenus)\n",
    "    #print(colSpecies)\n",
    "    \n",
    "    colCat = pd.concat([colTwo, colFamily, colGenus, colSpecies, colSerialNumber, colOne], axis=1)\n",
    "    #colCat = pd.concat([colTwo, colOne], axis=1)\n",
    "    colCat.to_csv(concat_clusters_fishpaths_filename, index=False)\n",
    "\n",
    "\n",
    "    #return(colOne)\n",
    "    \n",
    "    tmp_storage = colOne\n",
    "    \n",
    "    # remove temp pre-merged single-rowed CSVs from Dir\n",
    "    os.remove(cluster_output_filename)\n",
    "    os.remove(fish_paths_output_filename)\n",
    "    \n",
    "    return(tmp_storage)"
   ]
  },
  {
   "cell_type": "markdown",
   "metadata": {},
   "source": [
    "# Run Image Processing Clustering"
   ]
  },
  {
   "cell_type": "code",
   "execution_count": 60,
   "metadata": {},
   "outputs": [
    {
     "name": "stdout",
     "output_type": "stream",
     "text": [
      "Beginning Image Processing for...\n",
      "99.9759268175252844\n",
      "Image Processing Completed!\n"
     ]
    }
   ],
   "source": [
    "vgg16_fish_featureList_np = processTheFish(fish_paths, model)"
   ]
  },
  {
   "cell_type": "markdown",
   "metadata": {},
   "source": [
    "## Testing For 2-20 Desired Clusters"
   ]
  },
  {
   "cell_type": "markdown",
   "metadata": {},
   "source": [
    "## Initialize Output Filename Consts"
   ]
  },
  {
   "cell_type": "code",
   "execution_count": 81,
   "metadata": {},
   "outputs": [],
   "source": [
    "clusterOutputFname = \"predictedClsts_randall.csv\"\n",
    "fishPathsOutputFname = \"fishPaths_randall.csv\"\n",
    "concatClustsFishpathsFname = \"overallPredictions_outputData.csv\""
   ]
  },
  {
   "cell_type": "markdown",
   "metadata": {},
   "source": [
    "### Run For 2 Desired Clusters"
   ]
  },
  {
   "cell_type": "code",
   "execution_count": 82,
   "metadata": {
    "scrolled": true
   },
   "outputs": [
    {
     "name": "stdout",
     "output_type": "stream",
     "text": [
      "VGG16 Feature List and KMeans Computed.\n",
      "\n",
      "Internal Cluster Validation Score: 0.058811124\n",
      "\n",
      "Predicted Clusters: [1 1 1 ... 1 1 0]\n",
      "\n",
      "Internal Cluster Validation Score: 0.058811124\n",
      "\n",
      "Predicted Clusters: [1 1 1 ... 1 1 0]\n",
      "File successfully written to drive:  DesiredClusters-2fishPaths_randall.csv\n",
      "Successfully read in file:  DesiredClusters-2fishPaths_randall.csv\n"
     ]
    }
   ],
   "source": [
    "numClusts = 2\n",
    "twoClusters_Kmeans = clusterTheFish(numClusts, vgg16_fish_featureList_np)\n",
    "twoClusters_ICVScore = scoreTheFish(twoClusters_Kmeans, vgg16_fish_featureList_np)[1]\n",
    "\n",
    "# save output\n",
    "output_IDs = saveOutputCSV(numClusts, clusterOutputFname, fishPathsOutputFname, concatClustsFishpathsFname, scoreTheFish(twoClusters_Kmeans, vgg16_fish_featureList_np)[0], fish_paths)\n"
   ]
  },
  {
   "cell_type": "markdown",
   "metadata": {},
   "source": [
    "# Define Analysis Function for n_desiredClusters"
   ]
  },
  {
   "cell_type": "markdown",
   "metadata": {},
   "source": [
    "## Define \"analyzeCluster\""
   ]
  },
  {
   "cell_type": "code",
   "execution_count": 63,
   "metadata": {},
   "outputs": [],
   "source": [
    "def analyzeCluster(n_desired, vgg16_featureList_import, paths_for_fish):\n",
    "    numClusts = n_desired\n",
    "    Clusters_Kmeans = clusterTheFish(numClusts, vgg16_featureList_import)\n",
    "    Clusters_ICVScore = scoreTheFish(Clusters_Kmeans, vgg16_featureList_import)[1]\n",
    "\n",
    "    # save output\n",
    "    output_IDs = saveOutputCSV(numClusts, clusterOutputFname, fishPathsOutputFname, concatClustsFishpathsFname, scoreTheFish(Clusters_Kmeans, vgg16_featureList_import)[0], paths_for_fish)\n",
    "    \n",
    "    n_digits = numClusts \n",
    "    \n",
    "    reduced_data = PCA(n_components=2).fit_transform(vgg16_featureList_import)\n",
    "    kmeans = KMeans(init='k-means++', n_clusters=n_digits, n_init=10)\n",
    "    kmeans.fit(reduced_data)\n",
    "    \n",
    "    cluster_input_file = \"DesiredClusters-\" + str(n_digits) + \"overallPredictions_outputData.csv\"\n",
    "    print(\"Performing Cluster Plotting for: \", cluster_input_file)\n",
    "\n",
    "    reduced_data_cat = np.append(reduced_data, output_IDs, 1)\n",
    "\n",
    "    centers = kmeans.cluster_centers_\n",
    "    \n",
    "    sizes = len(reduced_data_cat)/2\n",
    "\n",
    "    plt.scatter(reduced_data_cat[:, 0], reduced_data_cat[:, 1], c=reduced_data_cat[:,2], s=sizes, alpha=0.3,\n",
    "            cmap='viridis')\n",
    "\n",
    "    plt.plot(centers[:,0], centers[:,1], 'rx')\n",
    "\n",
    "\n",
    "    plot_title = \"PCA Reduced Feature List For \" + str(n_digits) + \" Clusters\"\n",
    "    plot_save_file = \"PCA-Reduced_FeatureList_\" + str(n_digits) + \"Clusters.jpg\"\n",
    "    plt.suptitle(plot_title, fontsize=12)\n",
    "    plt.xlabel('PCA X-Feature Distance from Cluster Centroid', fontsize=10)\n",
    "    plt.ylabel('PCA Y-Feature Distance from Cluster Centroid', fontsize=10)\n",
    "\n",
    "    plt.colorbar();  # show color scale\n",
    "\n",
    "    plt.savefig(plot_save_file)\n",
    "    \n",
    "    plt.cla()   # Clear axis\n",
    "    plt.clf()\n",
    "    \n",
    "    return(Clusters_ICVScore)"
   ]
  },
  {
   "cell_type": "markdown",
   "metadata": {},
   "source": [
    "# TODO: MAKE analyze per n cluster recursive:"
   ]
  },
  {
   "cell_type": "code",
   "execution_count": 64,
   "metadata": {},
   "outputs": [
    {
     "name": "stdout",
     "output_type": "stream",
     "text": [
      "VGG16 Feature List and KMeans Computed.\n",
      "\n",
      "Internal Cluster Validation Score: 0.058811124\n",
      "\n",
      "Predicted Clusters: [1 1 1 ... 1 1 0]\n",
      "\n",
      "Internal Cluster Validation Score: 0.058811124\n",
      "\n",
      "Predicted Clusters: [1 1 1 ... 1 1 0]\n",
      "File successfully written to drive:  DesiredClusters-2fishPaths_randall.csv\n",
      "Successfully read in file:  DesiredClusters-2fishPaths_randall.csv\n",
      "Performing Cluster Plotting for:  DesiredClusters-2overallPredictions_outputData.csv\n",
      "VGG16 Feature List and KMeans Computed.\n",
      "\n",
      "Internal Cluster Validation Score: 0.041903786\n",
      "\n",
      "Predicted Clusters: [2 2 2 ... 2 0 0]\n",
      "\n",
      "Internal Cluster Validation Score: 0.041903786\n",
      "\n",
      "Predicted Clusters: [2 2 2 ... 2 0 0]\n",
      "File successfully written to drive:  DesiredClusters-3fishPaths_randall.csv\n",
      "Successfully read in file:  DesiredClusters-3fishPaths_randall.csv\n",
      "Performing Cluster Plotting for:  DesiredClusters-3overallPredictions_outputData.csv\n",
      "VGG16 Feature List and KMeans Computed.\n",
      "\n",
      "Internal Cluster Validation Score: 0.03839939\n",
      "\n",
      "Predicted Clusters: [1 1 1 ... 1 1 0]\n",
      "\n",
      "Internal Cluster Validation Score: 0.03839939\n",
      "\n",
      "Predicted Clusters: [1 1 1 ... 1 1 0]\n",
      "File successfully written to drive:  DesiredClusters-4fishPaths_randall.csv\n",
      "Successfully read in file:  DesiredClusters-4fishPaths_randall.csv\n",
      "Performing Cluster Plotting for:  DesiredClusters-4overallPredictions_outputData.csv\n",
      "VGG16 Feature List and KMeans Computed.\n",
      "\n",
      "Internal Cluster Validation Score: 0.030886952\n",
      "\n",
      "Predicted Clusters: [1 1 1 ... 1 1 2]\n",
      "\n",
      "Internal Cluster Validation Score: 0.030886952\n",
      "\n",
      "Predicted Clusters: [1 1 1 ... 1 1 2]\n",
      "File successfully written to drive:  DesiredClusters-5fishPaths_randall.csv\n",
      "Successfully read in file:  DesiredClusters-5fishPaths_randall.csv\n",
      "Performing Cluster Plotting for:  DesiredClusters-5overallPredictions_outputData.csv\n",
      "VGG16 Feature List and KMeans Computed.\n",
      "\n",
      "Internal Cluster Validation Score: 0.03439967\n",
      "\n",
      "Predicted Clusters: [2 3 2 ... 3 3 0]\n",
      "\n",
      "Internal Cluster Validation Score: 0.03439967\n",
      "\n",
      "Predicted Clusters: [2 3 2 ... 3 3 0]\n",
      "File successfully written to drive:  DesiredClusters-6fishPaths_randall.csv\n",
      "Successfully read in file:  DesiredClusters-6fishPaths_randall.csv\n",
      "Performing Cluster Plotting for:  DesiredClusters-6overallPredictions_outputData.csv\n",
      "VGG16 Feature List and KMeans Computed.\n",
      "\n",
      "Internal Cluster Validation Score: 0.038845405\n",
      "\n",
      "Predicted Clusters: [5 6 5 ... 6 6 4]\n",
      "\n",
      "Internal Cluster Validation Score: 0.038845405\n",
      "\n",
      "Predicted Clusters: [5 6 5 ... 6 6 4]\n",
      "File successfully written to drive:  DesiredClusters-7fishPaths_randall.csv\n",
      "Successfully read in file:  DesiredClusters-7fishPaths_randall.csv\n",
      "Performing Cluster Plotting for:  DesiredClusters-7overallPredictions_outputData.csv\n",
      "VGG16 Feature List and KMeans Computed.\n",
      "\n",
      "Internal Cluster Validation Score: 0.04087305\n",
      "\n",
      "Predicted Clusters: [1 5 1 ... 5 5 0]\n",
      "\n",
      "Internal Cluster Validation Score: 0.04087305\n",
      "\n",
      "Predicted Clusters: [1 5 1 ... 5 5 0]\n",
      "File successfully written to drive:  DesiredClusters-8fishPaths_randall.csv\n",
      "Successfully read in file:  DesiredClusters-8fishPaths_randall.csv\n",
      "Performing Cluster Plotting for:  DesiredClusters-8overallPredictions_outputData.csv\n",
      "VGG16 Feature List and KMeans Computed.\n",
      "\n",
      "Internal Cluster Validation Score: 0.03328249\n",
      "\n",
      "Predicted Clusters: [6 2 6 ... 6 2 2]\n",
      "\n",
      "Internal Cluster Validation Score: 0.03328249\n",
      "\n",
      "Predicted Clusters: [6 2 6 ... 6 2 2]\n",
      "File successfully written to drive:  DesiredClusters-9fishPaths_randall.csv\n",
      "Successfully read in file:  DesiredClusters-9fishPaths_randall.csv\n",
      "Performing Cluster Plotting for:  DesiredClusters-9overallPredictions_outputData.csv\n",
      "VGG16 Feature List and KMeans Computed.\n",
      "\n",
      "Internal Cluster Validation Score: 0.036544688\n",
      "\n",
      "Predicted Clusters: [0 1 0 ... 1 1 1]\n",
      "\n",
      "Internal Cluster Validation Score: 0.036544688\n",
      "\n",
      "Predicted Clusters: [0 1 0 ... 1 1 1]\n",
      "File successfully written to drive:  DesiredClusters-10fishPaths_randall.csv\n",
      "Successfully read in file:  DesiredClusters-10fishPaths_randall.csv\n",
      "Performing Cluster Plotting for:  DesiredClusters-10overallPredictions_outputData.csv\n",
      "VGG16 Feature List and KMeans Computed.\n",
      "\n",
      "Internal Cluster Validation Score: 0.035334397\n",
      "\n",
      "Predicted Clusters: [4 7 4 ... 7 7 7]\n",
      "\n",
      "Internal Cluster Validation Score: 0.035334397\n",
      "\n",
      "Predicted Clusters: [4 7 4 ... 7 7 7]\n",
      "File successfully written to drive:  DesiredClusters-11fishPaths_randall.csv\n",
      "Successfully read in file:  DesiredClusters-11fishPaths_randall.csv\n",
      "Performing Cluster Plotting for:  DesiredClusters-11overallPredictions_outputData.csv\n",
      "VGG16 Feature List and KMeans Computed.\n",
      "\n",
      "Internal Cluster Validation Score: 0.031837713\n",
      "\n",
      "Predicted Clusters: [8 6 8 ... 7 6 6]\n",
      "\n",
      "Internal Cluster Validation Score: 0.031837713\n",
      "\n",
      "Predicted Clusters: [8 6 8 ... 7 6 6]\n",
      "File successfully written to drive:  DesiredClusters-12fishPaths_randall.csv\n",
      "Successfully read in file:  DesiredClusters-12fishPaths_randall.csv\n",
      "Performing Cluster Plotting for:  DesiredClusters-12overallPredictions_outputData.csv\n",
      "VGG16 Feature List and KMeans Computed.\n",
      "\n",
      "Internal Cluster Validation Score: 0.031846084\n",
      "\n",
      "Predicted Clusters: [ 2  6  2 ... 12 12  6]\n",
      "\n",
      "Internal Cluster Validation Score: 0.031846084\n",
      "\n",
      "Predicted Clusters: [ 2  6  2 ... 12 12  6]\n",
      "File successfully written to drive:  DesiredClusters-13fishPaths_randall.csv\n",
      "Successfully read in file:  DesiredClusters-13fishPaths_randall.csv\n",
      "Performing Cluster Plotting for:  DesiredClusters-13overallPredictions_outputData.csv\n",
      "VGG16 Feature List and KMeans Computed.\n",
      "\n",
      "Internal Cluster Validation Score: 0.032675304\n",
      "\n",
      "Predicted Clusters: [ 6 10  6 ...  0 10 10]\n",
      "\n",
      "Internal Cluster Validation Score: 0.032675304\n",
      "\n",
      "Predicted Clusters: [ 6 10  6 ...  0 10 10]\n",
      "File successfully written to drive:  DesiredClusters-14fishPaths_randall.csv\n",
      "Successfully read in file:  DesiredClusters-14fishPaths_randall.csv\n",
      "Performing Cluster Plotting for:  DesiredClusters-14overallPredictions_outputData.csv\n",
      "VGG16 Feature List and KMeans Computed.\n",
      "\n",
      "Internal Cluster Validation Score: 0.025738813\n",
      "\n",
      "Predicted Clusters: [10  5 10 ... 13  5  5]\n",
      "\n",
      "Internal Cluster Validation Score: 0.025738813\n",
      "\n",
      "Predicted Clusters: [10  5 10 ... 13  5  5]\n",
      "File successfully written to drive:  DesiredClusters-15fishPaths_randall.csv\n",
      "Successfully read in file:  DesiredClusters-15fishPaths_randall.csv\n",
      "Performing Cluster Plotting for:  DesiredClusters-15overallPredictions_outputData.csv\n",
      "VGG16 Feature List and KMeans Computed.\n",
      "\n",
      "Internal Cluster Validation Score: 0.01235484\n",
      "\n",
      "Predicted Clusters: [15 12 15 ...  3 12 12]\n",
      "\n",
      "Internal Cluster Validation Score: 0.01235484\n",
      "\n",
      "Predicted Clusters: [15 12 15 ...  3 12 12]\n",
      "File successfully written to drive:  DesiredClusters-16fishPaths_randall.csv\n",
      "Successfully read in file:  DesiredClusters-16fishPaths_randall.csv\n",
      "Performing Cluster Plotting for:  DesiredClusters-16overallPredictions_outputData.csv\n",
      "VGG16 Feature List and KMeans Computed.\n",
      "\n",
      "Internal Cluster Validation Score: 0.01498551\n",
      "\n",
      "Predicted Clusters: [ 9 12  9 ... 14 14 12]\n",
      "\n",
      "Internal Cluster Validation Score: 0.01498551\n",
      "\n",
      "Predicted Clusters: [ 9 12  9 ... 14 14 12]\n",
      "File successfully written to drive:  DesiredClusters-17fishPaths_randall.csv\n",
      "Successfully read in file:  DesiredClusters-17fishPaths_randall.csv\n",
      "Performing Cluster Plotting for:  DesiredClusters-17overallPredictions_outputData.csv\n",
      "VGG16 Feature List and KMeans Computed.\n",
      "\n",
      "Internal Cluster Validation Score: 0.026070299\n",
      "\n",
      "Predicted Clusters: [6 4 6 ... 2 2 4]\n",
      "\n",
      "Internal Cluster Validation Score: 0.026070299\n",
      "\n",
      "Predicted Clusters: [6 4 6 ... 2 2 4]\n",
      "File successfully written to drive:  DesiredClusters-18fishPaths_randall.csv\n",
      "Successfully read in file:  DesiredClusters-18fishPaths_randall.csv\n",
      "Performing Cluster Plotting for:  DesiredClusters-18overallPredictions_outputData.csv\n",
      "VGG16 Feature List and KMeans Computed.\n",
      "\n",
      "Internal Cluster Validation Score: 0.025415452\n",
      "\n",
      "Predicted Clusters: [ 6  2  6 ... 11 11  2]\n",
      "\n",
      "Internal Cluster Validation Score: 0.025415452\n",
      "\n",
      "Predicted Clusters: [ 6  2  6 ... 11 11  2]\n",
      "File successfully written to drive:  DesiredClusters-19fishPaths_randall.csv\n",
      "Successfully read in file:  DesiredClusters-19fishPaths_randall.csv\n",
      "Performing Cluster Plotting for:  DesiredClusters-19overallPredictions_outputData.csv\n",
      "VGG16 Feature List and KMeans Computed.\n",
      "\n",
      "Internal Cluster Validation Score: 0.024989862\n",
      "\n",
      "Predicted Clusters: [ 8 12  8 ...  7  7 12]\n",
      "\n",
      "Internal Cluster Validation Score: 0.024989862\n",
      "\n",
      "Predicted Clusters: [ 8 12  8 ...  7  7 12]\n",
      "File successfully written to drive:  DesiredClusters-20fishPaths_randall.csv\n",
      "Successfully read in file:  DesiredClusters-20fishPaths_randall.csv\n"
     ]
    },
    {
     "name": "stdout",
     "output_type": "stream",
     "text": [
      "Performing Cluster Plotting for:  DesiredClusters-20overallPredictions_outputData.csv\n"
     ]
    },
    {
     "data": {
      "text/plain": [
       "<Figure size 432x288 with 0 Axes>"
      ]
     },
     "metadata": {},
     "output_type": "display_data"
    }
   ],
   "source": [
    "twoClusters_Score = analyzeCluster(2,vgg16_fish_featureList_np,fish_paths)\n",
    "threeClusters_Score = analyzeCluster(3,vgg16_fish_featureList_np,fish_paths)\n",
    "fourClusters_Score = analyzeCluster(4,vgg16_fish_featureList_np,fish_paths)\n",
    "fiveClusters_Score = analyzeCluster(5,vgg16_fish_featureList_np,fish_paths)\n",
    "sixClusters_Score = analyzeCluster(6,vgg16_fish_featureList_np,fish_paths)\n",
    "\n",
    "sevenClusters_Score = analyzeCluster(7,vgg16_fish_featureList_np,fish_paths)\n",
    "\n",
    "eightClusters_Score = analyzeCluster(8,vgg16_fish_featureList_np,fish_paths)\n",
    "\n",
    "nineClusters_Score = analyzeCluster(9,vgg16_fish_featureList_np,fish_paths)\n",
    "\n",
    "tenClusters_Score = analyzeCluster(10,vgg16_fish_featureList_np,fish_paths)\n",
    "\n",
    "elevenClusters_Score = analyzeCluster(11,vgg16_fish_featureList_np,fish_paths)\n",
    "\n",
    "twelveClusters_Score = analyzeCluster(12,vgg16_fish_featureList_np,fish_paths)\n",
    "\n",
    "thirteenClusters_Score = analyzeCluster(13,vgg16_fish_featureList_np,fish_paths)\n",
    "\n",
    "fourteenClusters_Score = analyzeCluster(14,vgg16_fish_featureList_np,fish_paths)\n",
    "\n",
    "fifteenClusters_Score = analyzeCluster(15,vgg16_fish_featureList_np,fish_paths)\n",
    "sixteenClusters_Score = analyzeCluster(16,vgg16_fish_featureList_np,fish_paths)\n",
    "\n",
    "seventeenClusters_Score = analyzeCluster(17,vgg16_fish_featureList_np,fish_paths)\n",
    "\n",
    "eighteenClusters_Score = analyzeCluster(18,vgg16_fish_featureList_np,fish_paths)\n",
    "\n",
    "nineteenClusters_Score = analyzeCluster(19,vgg16_fish_featureList_np,fish_paths)\n",
    "\n",
    "twentyClusters_Score = analyzeCluster(20,vgg16_fish_featureList_np,fish_paths)\n",
    "\n",
    "\n",
    "\n",
    "\n",
    "\n",
    "\n",
    "\n",
    "\n",
    "\n",
    "\n"
   ]
  },
  {
   "cell_type": "code",
   "execution_count": 74,
   "metadata": {},
   "outputs": [
    {
     "name": "stdout",
     "output_type": "stream",
     "text": [
      "[0.058811124, 0.041903786, 0.03839939, 0.030886952, 0.03439967, 0.038845405, 0.04087305, 0.03328249, 0.036544688, 0.035334397, 0.031837713, 0.031846084, 0.032675304, 0.025738813, 0.01235484, 0.01498551, 0.026070299, 0.025415452, 0.024989862]\n",
      "19\n"
     ]
    },
    {
     "data": {
      "image/png": "[encoded data removed]",
      "text/plain": [
       "<Figure size 432x288 with 1 Axes>"
      ]
     },
     "metadata": {
      "needs_background": "light"
     },
     "output_type": "display_data"
    },
    {
     "data": {
      "text/plain": [
       "<Figure size 432x288 with 0 Axes>"
      ]
     },
     "metadata": {},
     "output_type": "display_data"
    }
   ],
   "source": [
    "\n",
    "clusterScoring = []\n",
    "clusterScoring.append(twoClusters_Score)\n",
    "clusterScoring.append(threeClusters_Score)\n",
    "clusterScoring.append(fourClusters_Score)\n",
    "clusterScoring.append(fiveClusters_Score)\n",
    "clusterScoring.append(sixClusters_Score)\n",
    "clusterScoring.append(sevenClusters_Score)\n",
    "clusterScoring.append(eightClusters_Score)\n",
    "clusterScoring.append(nineClusters_Score)\n",
    "clusterScoring.append(tenClusters_Score)\n",
    "clusterScoring.append(elevenClusters_Score)\n",
    "clusterScoring.append(twelveClusters_Score)\n",
    "clusterScoring.append(thirteenClusters_Score)\n",
    "clusterScoring.append(fourteenClusters_Score)\n",
    "clusterScoring.append(fifteenClusters_Score)\n",
    "clusterScoring.append(sixteenClusters_Score)\n",
    "clusterScoring.append(seventeenClusters_Score)\n",
    "clusterScoring.append(eighteenClusters_Score)\n",
    "clusterScoring.append(nineteenClusters_Score)\n",
    "clusterScoring.append(twentyClusters_Score)\n",
    "\n",
    "print(clusterScoring)\n",
    "print(len(clusterScoring))\n",
    "\n",
    "#temp plotting (TODO: Make recursive)\n",
    "#n_groups = 19\n",
    "n_groups = len(clusterScoring)\n",
    "\n",
    "#clusterICVScores_Means = (twoClusters_ICVScore, threeClusters_ICVScore, fourClusters_ICVScore, fiveClusters_ICVScore, sixClusters_ICVScore, sevenClusters_ICVScore,\n",
    "                       #  eightClusters_ICVScore, nineClusters_ICVScore, tenClusters_ICVScore, elevenClusters_ICVScore, twelveClusters_ICVScore,\n",
    "                       #  thirteenClusters_ICVScore, fourteenClusters_ICVScore, fifteenClusters_ICVScore, sixteenClusters_ICVScore, seventeenClusters_ICVScore,\n",
    "                       #  eighteenClusters_ICVScore, nineteenClusters_ICVScore, twentyClusters_ICVScore)\n",
    "\n",
    "fig, ax = plt.subplots()\n",
    "\n",
    "index = np.arange(n_groups)\n",
    "bar_width = 0.35\n",
    "\n",
    "opacity = 0.4\n",
    "error_config = {'ecolor': '0.3'}\n",
    "\n",
    "rects1 = ax.bar(index, clusterScoring, bar_width,\n",
    "                alpha=opacity, color='b', \n",
    "                error_kw=error_config,\n",
    "                label='VGG16')\n",
    "\n",
    "\n",
    "ax.set_xlabel('Number of Clusters')\n",
    "ax.set_ylabel('Internal Cluster Validation Scores')\n",
    "ax.set_title('Scores by number of clusters (Randall)')\n",
    "ax.set_xticks(index)\n",
    "ax.set_xticklabels(('2', '3', '4', '5', '6', '7', '8', '9', '10', '11', '12', '13', '14', '15', '16', '17', '18', '19', '20'))\n",
    "ax.legend()\n",
    "\n",
    "fig.tight_layout()\n",
    "plt.draw()\n",
    "plt.show()\n",
    "\n",
    "\n",
    "plt.savefig('ICV_Scoring.jpg', dpi=100)"
   ]
  },
  {
   "cell_type": "markdown",
   "metadata": {},
   "source": [
    "# End Working Code ^"
   ]
  },
  {
   "cell_type": "markdown",
   "metadata": {},
   "source": [
    "# Working Tests Below..."
   ]
  },
  {
   "cell_type": "markdown",
   "metadata": {},
   "source": [
    "## Getting Plotting Working... (TESTING)"
   ]
  },
  {
   "cell_type": "code",
   "execution_count": 150,
   "metadata": {},
   "outputs": [
    {
     "name": "stdout",
     "output_type": "stream",
     "text": [
      "Performing Cluster Plotting for:  DesiredClusters-2overallPredictions_outputData.csv\n"
     ]
    },
    {
     "ename": "TypeError",
     "evalue": "You must first set_array for mappable",
     "output_type": "error",
     "traceback": [
      "\u001b[0;31m---------------------------------------------------------------------------\u001b[0m",
      "\u001b[0;31mTypeError\u001b[0m                                 Traceback (most recent call last)",
      "\u001b[0;32m<ipython-input-150-0c6138ce7bd9>\u001b[0m in \u001b[0;36m<module>\u001b[0;34m()\u001b[0m\n\u001b[1;32m     38\u001b[0m \u001b[0mplt\u001b[0m\u001b[0;34m.\u001b[0m\u001b[0mylabel\u001b[0m\u001b[0;34m(\u001b[0m\u001b[0;34m'PCA Y-Feature Distance from Cluster Centroid'\u001b[0m\u001b[0;34m,\u001b[0m \u001b[0mfontsize\u001b[0m\u001b[0;34m=\u001b[0m\u001b[0;36m10\u001b[0m\u001b[0;34m)\u001b[0m\u001b[0;34m\u001b[0m\u001b[0m\n\u001b[1;32m     39\u001b[0m \u001b[0;34m\u001b[0m\u001b[0m\n\u001b[0;32m---> 40\u001b[0;31m \u001b[0mplt\u001b[0m\u001b[0;34m.\u001b[0m\u001b[0mcolorbar\u001b[0m\u001b[0;34m(\u001b[0m\u001b[0;34m)\u001b[0m\u001b[0;34m;\u001b[0m  \u001b[0;31m# show color scale\u001b[0m\u001b[0;34m\u001b[0m\u001b[0m\n\u001b[0m\u001b[1;32m     41\u001b[0m \u001b[0;34m\u001b[0m\u001b[0m\n\u001b[1;32m     42\u001b[0m \u001b[0mplt\u001b[0m\u001b[0;34m.\u001b[0m\u001b[0msavefig\u001b[0m\u001b[0;34m(\u001b[0m\u001b[0mplot_save_file\u001b[0m\u001b[0;34m)\u001b[0m\u001b[0;34m\u001b[0m\u001b[0m\n",
      "\u001b[0;32m/anaconda3/lib/python3.6/site-packages/matplotlib/pyplot.py\u001b[0m in \u001b[0;36mcolorbar\u001b[0;34m(mappable, cax, ax, **kw)\u001b[0m\n\u001b[1;32m   2095\u001b[0m         \u001b[0max\u001b[0m \u001b[0;34m=\u001b[0m \u001b[0mgca\u001b[0m\u001b[0;34m(\u001b[0m\u001b[0;34m)\u001b[0m\u001b[0;34m\u001b[0m\u001b[0m\n\u001b[1;32m   2096\u001b[0m \u001b[0;34m\u001b[0m\u001b[0m\n\u001b[0;32m-> 2097\u001b[0;31m     \u001b[0mret\u001b[0m \u001b[0;34m=\u001b[0m \u001b[0mgcf\u001b[0m\u001b[0;34m(\u001b[0m\u001b[0;34m)\u001b[0m\u001b[0;34m.\u001b[0m\u001b[0mcolorbar\u001b[0m\u001b[0;34m(\u001b[0m\u001b[0mmappable\u001b[0m\u001b[0;34m,\u001b[0m \u001b[0mcax\u001b[0m \u001b[0;34m=\u001b[0m \u001b[0mcax\u001b[0m\u001b[0;34m,\u001b[0m \u001b[0max\u001b[0m\u001b[0;34m=\u001b[0m\u001b[0max\u001b[0m\u001b[0;34m,\u001b[0m \u001b[0;34m**\u001b[0m\u001b[0mkw\u001b[0m\u001b[0;34m)\u001b[0m\u001b[0;34m\u001b[0m\u001b[0m\n\u001b[0m\u001b[1;32m   2098\u001b[0m     \u001b[0;32mreturn\u001b[0m \u001b[0mret\u001b[0m\u001b[0;34m\u001b[0m\u001b[0m\n\u001b[1;32m   2099\u001b[0m \u001b[0mcolorbar\u001b[0m\u001b[0;34m.\u001b[0m\u001b[0m__doc__\u001b[0m \u001b[0;34m=\u001b[0m \u001b[0mmatplotlib\u001b[0m\u001b[0;34m.\u001b[0m\u001b[0mcolorbar\u001b[0m\u001b[0;34m.\u001b[0m\u001b[0mcolorbar_doc\u001b[0m\u001b[0;34m\u001b[0m\u001b[0m\n",
      "\u001b[0;32m/anaconda3/lib/python3.6/site-packages/matplotlib/figure.py\u001b[0m in \u001b[0;36mcolorbar\u001b[0;34m(self, mappable, cax, ax, use_gridspec, **kw)\u001b[0m\n\u001b[1;32m   2130\u001b[0m                              'panchor']\n\u001b[1;32m   2131\u001b[0m         \u001b[0mcb_kw\u001b[0m \u001b[0;34m=\u001b[0m \u001b[0;34m{\u001b[0m\u001b[0mk\u001b[0m\u001b[0;34m:\u001b[0m \u001b[0mv\u001b[0m \u001b[0;32mfor\u001b[0m \u001b[0mk\u001b[0m\u001b[0;34m,\u001b[0m \u001b[0mv\u001b[0m \u001b[0;32min\u001b[0m \u001b[0mkw\u001b[0m\u001b[0;34m.\u001b[0m\u001b[0mitems\u001b[0m\u001b[0;34m(\u001b[0m\u001b[0;34m)\u001b[0m \u001b[0;32mif\u001b[0m \u001b[0mk\u001b[0m \u001b[0;32mnot\u001b[0m \u001b[0;32min\u001b[0m \u001b[0mNON_COLORBAR_KEYS\u001b[0m\u001b[0;34m}\u001b[0m\u001b[0;34m\u001b[0m\u001b[0m\n\u001b[0;32m-> 2132\u001b[0;31m         \u001b[0mcb\u001b[0m \u001b[0;34m=\u001b[0m \u001b[0mcbar\u001b[0m\u001b[0;34m.\u001b[0m\u001b[0mcolorbar_factory\u001b[0m\u001b[0;34m(\u001b[0m\u001b[0mcax\u001b[0m\u001b[0;34m,\u001b[0m \u001b[0mmappable\u001b[0m\u001b[0;34m,\u001b[0m \u001b[0;34m**\u001b[0m\u001b[0mcb_kw\u001b[0m\u001b[0;34m)\u001b[0m\u001b[0;34m\u001b[0m\u001b[0m\n\u001b[0m\u001b[1;32m   2133\u001b[0m \u001b[0;34m\u001b[0m\u001b[0m\n\u001b[1;32m   2134\u001b[0m         \u001b[0mself\u001b[0m\u001b[0;34m.\u001b[0m\u001b[0msca\u001b[0m\u001b[0;34m(\u001b[0m\u001b[0mcurrent_ax\u001b[0m\u001b[0;34m)\u001b[0m\u001b[0;34m\u001b[0m\u001b[0m\n",
      "\u001b[0;32m/anaconda3/lib/python3.6/site-packages/matplotlib/colorbar.py\u001b[0m in \u001b[0;36mcolorbar_factory\u001b[0;34m(cax, mappable, **kwargs)\u001b[0m\n\u001b[1;32m   1549\u001b[0m         \u001b[0mcb\u001b[0m \u001b[0;34m=\u001b[0m \u001b[0mColorbarPatch\u001b[0m\u001b[0;34m(\u001b[0m\u001b[0mcax\u001b[0m\u001b[0;34m,\u001b[0m \u001b[0mmappable\u001b[0m\u001b[0;34m,\u001b[0m \u001b[0;34m**\u001b[0m\u001b[0mkwargs\u001b[0m\u001b[0;34m)\u001b[0m\u001b[0;34m\u001b[0m\u001b[0m\n\u001b[1;32m   1550\u001b[0m     \u001b[0;32melse\u001b[0m\u001b[0;34m:\u001b[0m\u001b[0;34m\u001b[0m\u001b[0m\n\u001b[0;32m-> 1551\u001b[0;31m         \u001b[0mcb\u001b[0m \u001b[0;34m=\u001b[0m \u001b[0mColorbar\u001b[0m\u001b[0;34m(\u001b[0m\u001b[0mcax\u001b[0m\u001b[0;34m,\u001b[0m \u001b[0mmappable\u001b[0m\u001b[0;34m,\u001b[0m \u001b[0;34m**\u001b[0m\u001b[0mkwargs\u001b[0m\u001b[0;34m)\u001b[0m\u001b[0;34m\u001b[0m\u001b[0m\n\u001b[0m\u001b[1;32m   1552\u001b[0m \u001b[0;34m\u001b[0m\u001b[0m\n\u001b[1;32m   1553\u001b[0m     \u001b[0mcid\u001b[0m \u001b[0;34m=\u001b[0m \u001b[0mmappable\u001b[0m\u001b[0;34m.\u001b[0m\u001b[0mcallbacksSM\u001b[0m\u001b[0;34m.\u001b[0m\u001b[0mconnect\u001b[0m\u001b[0;34m(\u001b[0m\u001b[0;34m'changed'\u001b[0m\u001b[0;34m,\u001b[0m \u001b[0mcb\u001b[0m\u001b[0;34m.\u001b[0m\u001b[0mon_mappable_changed\u001b[0m\u001b[0;34m)\u001b[0m\u001b[0;34m\u001b[0m\u001b[0m\n",
      "\u001b[0;32m/anaconda3/lib/python3.6/site-packages/matplotlib/colorbar.py\u001b[0m in \u001b[0;36m__init__\u001b[0;34m(self, ax, mappable, **kw)\u001b[0m\n\u001b[1;32m   1055\u001b[0m         \u001b[0;31m# Ensure the given mappable's norm has appropriate vmin and vmax set\u001b[0m\u001b[0;34m\u001b[0m\u001b[0;34m\u001b[0m\u001b[0m\n\u001b[1;32m   1056\u001b[0m         \u001b[0;31m# even if mappable.draw has not yet been called.\u001b[0m\u001b[0;34m\u001b[0m\u001b[0;34m\u001b[0m\u001b[0m\n\u001b[0;32m-> 1057\u001b[0;31m         \u001b[0mmappable\u001b[0m\u001b[0;34m.\u001b[0m\u001b[0mautoscale_None\u001b[0m\u001b[0;34m(\u001b[0m\u001b[0;34m)\u001b[0m\u001b[0;34m\u001b[0m\u001b[0m\n\u001b[0m\u001b[1;32m   1058\u001b[0m \u001b[0;34m\u001b[0m\u001b[0m\n\u001b[1;32m   1059\u001b[0m         \u001b[0mself\u001b[0m\u001b[0;34m.\u001b[0m\u001b[0mmappable\u001b[0m \u001b[0;34m=\u001b[0m \u001b[0mmappable\u001b[0m\u001b[0;34m\u001b[0m\u001b[0m\n",
      "\u001b[0;32m/anaconda3/lib/python3.6/site-packages/matplotlib/cm.py\u001b[0m in \u001b[0;36mautoscale_None\u001b[0;34m(self)\u001b[0m\n\u001b[1;32m    359\u001b[0m         \"\"\"\n\u001b[1;32m    360\u001b[0m         \u001b[0;32mif\u001b[0m \u001b[0mself\u001b[0m\u001b[0;34m.\u001b[0m\u001b[0m_A\u001b[0m \u001b[0;32mis\u001b[0m \u001b[0;32mNone\u001b[0m\u001b[0;34m:\u001b[0m\u001b[0;34m\u001b[0m\u001b[0m\n\u001b[0;32m--> 361\u001b[0;31m             \u001b[0;32mraise\u001b[0m \u001b[0mTypeError\u001b[0m\u001b[0;34m(\u001b[0m\u001b[0;34m'You must first set_array for mappable'\u001b[0m\u001b[0;34m)\u001b[0m\u001b[0;34m\u001b[0m\u001b[0m\n\u001b[0m\u001b[1;32m    362\u001b[0m         \u001b[0mself\u001b[0m\u001b[0;34m.\u001b[0m\u001b[0mnorm\u001b[0m\u001b[0;34m.\u001b[0m\u001b[0mautoscale_None\u001b[0m\u001b[0;34m(\u001b[0m\u001b[0mself\u001b[0m\u001b[0;34m.\u001b[0m\u001b[0m_A\u001b[0m\u001b[0;34m)\u001b[0m\u001b[0;34m\u001b[0m\u001b[0m\n\u001b[1;32m    363\u001b[0m         \u001b[0mself\u001b[0m\u001b[0;34m.\u001b[0m\u001b[0mchanged\u001b[0m\u001b[0;34m(\u001b[0m\u001b[0;34m)\u001b[0m\u001b[0;34m\u001b[0m\u001b[0m\n",
      "\u001b[0;31mTypeError\u001b[0m: You must first set_array for mappable"
     ]
    },
    {
     "data": {
      "image/png": "[encoded data removed]",
      "text/plain": [
       "<Figure size 432x288 with 2 Axes>"
      ]
     },
     "metadata": {
      "needs_background": "light"
     },
     "output_type": "display_data"
    }
   ],
   "source": [
    "# Visualize the results on PCA-reduced data\n",
    "\n",
    "n_digits = 2\n",
    "reduced_data = PCA(n_components=2).fit_transform(vgg16_fish_featureList_np)\n",
    "kmeans = KMeans(init='k-means++', n_clusters=n_digits, n_init=10)\n",
    "kmeans.fit(reduced_data)\n",
    "\n",
    "cluster_input_file = \"DesiredClusters-\" + str(n_digits) + \"overallPredictions_outputData.csv\"\n",
    "print(\"Performing Cluster Plotting for: \", cluster_input_file)\n",
    "\n",
    "reduced_data_cat = np.append(reduced_data, output_IDs, 1)\n",
    "\n",
    "centers = kmeans.cluster_centers_\n",
    "\n",
    "\n",
    "\n",
    "\n",
    "\n",
    "#plt.plot(reduced_data[:, 0], reduced_data[:, 1], 'o')\n",
    "#plt.plot(centers[:,0], centers[:,1], 'rx')\n",
    "\n",
    "#plt.show()\n",
    "\n",
    "sizes = len(reduced_data_cat)/2\n",
    "\n",
    "plt.scatter(reduced_data_cat[:, 0], reduced_data_cat[:, 1], c=reduced_data_cat[:,2], s=sizes, alpha=0.3,\n",
    "            cmap='viridis')\n",
    "\n",
    "plt.plot(centers[:,0], centers[:,1], 'rx')\n",
    "\n",
    "\n",
    "plot_title = \"PCA Reduced Feature List For \" + str(n_digits) + \" Clusters\"\n",
    "plot_save_file = \"PCA-Reduced_FeatureList_\" + str(n_digits) + \"Clusters.jpg\"\n",
    "plt.suptitle(plot_title, fontsize=12)\n",
    "plt.xlabel('PCA X-Feature Distance from Cluster Centroid', fontsize=10)\n",
    "plt.ylabel('PCA Y-Feature Distance from Cluster Centroid', fontsize=10)\n",
    "\n",
    "plt.colorbar();  # show color scale\n",
    "\n",
    "plt.savefig(plot_save_file)\n",
    "\n"
   ]
  },
  {
   "cell_type": "code",
   "execution_count": null,
   "metadata": {
    "scrolled": true
   },
   "outputs": [],
   "source": [
    "\n",
    "\n",
    "# how many times do you want to run me for?\n",
    "run_me_times = 4\n",
    "i=1\n",
    "while i <= run_me_times:\n",
    "    x_score = analyzeCluster(i+1,vgg16_fish_featureList_np,fish_paths)\n",
    "    if i+1 > run_me_times:\n",
    "    break\n",
    "    \n",
    "#twoClusters_Score = analyzeCluster(2,vgg16_fish_featureList_np,fish_paths)\n",
    "\n",
    "#clusterScoring = []\n",
    "#clusterScoring.append(twoClusters_Score)\n",
    "#print(clusterScoring)"
   ]
  },
  {
   "cell_type": "markdown",
   "metadata": {},
   "source": [
    "### Run For 3 Desired Clusters"
   ]
  },
  {
   "cell_type": "code",
   "execution_count": 25,
   "metadata": {},
   "outputs": [
    {
     "name": "stdout",
     "output_type": "stream",
     "text": [
      "VGG16 Feature List and KMeans Computed.\n",
      "\n",
      "Internal Cluster Validation Score: 0.05857872\n",
      "\n",
      "Predicted Clusters: [0 1 1 2 2 2 0 2 1 1 1 2 2 0 2 2 0 1 2 1 0 1 0 1 2 0 1 0 0 2 2 2 0 0 1 2 2\n",
      " 2 2 2 0 1 1 2 2 2 0 1 2 2 1 2 2 1 2 2 2 2 2 1 1 2 0 0 0 0 2 0 1 0 2 1 1 0\n",
      " 0 1 2 0 2 2 0 2 1 2 1 2 2 0 1 2 1 0 0 2 1 2 0 2 0 2 2 2 1 1 2 2 0 2 2 2 0\n",
      " 0 0 1 1 2 1 0 2 1 2]\n",
      "\n",
      "Internal Cluster Validation Score: 0.05857872\n",
      "\n",
      "Predicted Clusters: [0 1 1 2 2 2 0 2 1 1 1 2 2 0 2 2 0 1 2 1 0 1 0 1 2 0 1 0 0 2 2 2 0 0 1 2 2\n",
      " 2 2 2 0 1 1 2 2 2 0 1 2 2 1 2 2 1 2 2 2 2 2 1 1 2 0 0 0 0 2 0 1 0 2 1 1 0\n",
      " 0 1 2 0 2 2 0 2 1 2 1 2 2 0 1 2 1 0 0 2 1 2 0 2 0 2 2 2 1 1 2 2 0 2 2 2 0\n",
      " 0 0 1 1 2 1 0 2 1 2]\n"
     ]
    }
   ],
   "source": [
    "numClusts = 3\n",
    "threeClusters_Kmeans = clusterTheFish(numClusts, vgg16_fish_featureList_np)\n",
    "threeClusters_ICVScore = scoreTheFish(threeClusters_Kmeans, vgg16_fish_featureList_np)[1]\n",
    "\n",
    "# save output\n",
    "saveOutputCSV(numClusts, clusterOutputFname, fishPathsOutputFname, concatClustsFishpathsFname, scoreTheFish(threeClusters_Kmeans, vgg16_fish_featureList_np)[0], fish_paths)"
   ]
  },
  {
   "cell_type": "markdown",
   "metadata": {},
   "source": [
    "### Run For 4 Desired Clusters"
   ]
  },
  {
   "cell_type": "code",
   "execution_count": 26,
   "metadata": {},
   "outputs": [
    {
     "name": "stdout",
     "output_type": "stream",
     "text": [
      "VGG16 Feature List and KMeans Computed.\n",
      "\n",
      "Internal Cluster Validation Score: 0.064996146\n",
      "\n",
      "Predicted Clusters: [0 2 1 1 1 1 2 1 1 2 2 1 1 2 2 1 0 2 1 3 0 2 1 3 1 2 3 0 0 1 1 1 0 2 3 1 1\n",
      " 1 1 1 2 2 1 1 1 1 0 1 1 1 2 1 1 1 1 1 1 1 1 2 3 1 0 0 0 0 1 0 2 0 1 2 3 0\n",
      " 0 2 1 2 1 2 0 1 3 2 2 1 1 2 2 1 1 2 2 1 1 1 2 1 0 1 1 1 3 1 1 1 0 1 1 1 2\n",
      " 1 0 2 2 1 1 0 1 2 1]\n",
      "\n",
      "Internal Cluster Validation Score: 0.064996146\n",
      "\n",
      "Predicted Clusters: [0 2 1 1 1 1 2 1 1 2 2 1 1 2 2 1 0 2 1 3 0 2 1 3 1 2 3 0 0 1 1 1 0 2 3 1 1\n",
      " 1 1 1 2 2 1 1 1 1 0 1 1 1 2 1 1 1 1 1 1 1 1 2 3 1 0 0 0 0 1 0 2 0 1 2 3 0\n",
      " 0 2 1 2 1 2 0 1 3 2 2 1 1 2 2 1 1 2 2 1 1 1 2 1 0 1 1 1 3 1 1 1 0 1 1 1 2\n",
      " 1 0 2 2 1 1 0 1 2 1]\n"
     ]
    }
   ],
   "source": [
    "numClusts = 4\n",
    "fourClusters_Kmeans = clusterTheFish(numClusts, vgg16_fish_featureList_np)\n",
    "fourClusters_ICVScore = scoreTheFish(fourClusters_Kmeans, vgg16_fish_featureList_np)[1]\n",
    "\n",
    "# save output\n",
    "saveOutputCSV(numClusts, clusterOutputFname, fishPathsOutputFname, concatClustsFishpathsFname, scoreTheFish(fourClusters_Kmeans, vgg16_fish_featureList_np)[0], fish_paths)"
   ]
  },
  {
   "cell_type": "markdown",
   "metadata": {},
   "source": [
    "### Run For 5 Desired Clusters"
   ]
  },
  {
   "cell_type": "code",
   "execution_count": 27,
   "metadata": {},
   "outputs": [
    {
     "name": "stdout",
     "output_type": "stream",
     "text": [
      "VGG16 Feature List and KMeans Computed.\n",
      "\n",
      "Internal Cluster Validation Score: 0.04247954\n",
      "\n",
      "Predicted Clusters: [3 0 3 2 1 1 0 1 3 0 0 1 2 0 1 2 3 0 2 1 4 0 3 0 2 2 0 3 4 2 1 1 3 0 0 1 1\n",
      " 1 2 1 3 0 3 2 2 2 3 3 1 1 3 1 2 3 1 1 1 1 2 0 0 2 4 4 4 4 1 2 3 3 2 2 0 3\n",
      " 2 0 1 0 2 0 4 1 1 1 0 2 1 0 3 1 3 0 0 1 2 3 2 2 4 2 2 1 0 3 2 2 4 1 2 2 0\n",
      " 3 4 2 0 2 3 4 1 3 1]\n",
      "\n",
      "Internal Cluster Validation Score: 0.04247954\n",
      "\n",
      "Predicted Clusters: [3 0 3 2 1 1 0 1 3 0 0 1 2 0 1 2 3 0 2 1 4 0 3 0 2 2 0 3 4 2 1 1 3 0 0 1 1\n",
      " 1 2 1 3 0 3 2 2 2 3 3 1 1 3 1 2 3 1 1 1 1 2 0 0 2 4 4 4 4 1 2 3 3 2 2 0 3\n",
      " 2 0 1 0 2 0 4 1 1 1 0 2 1 0 3 1 3 0 0 1 2 3 2 2 4 2 2 1 0 3 2 2 4 1 2 2 0\n",
      " 3 4 2 0 2 3 4 1 3 1]\n"
     ]
    }
   ],
   "source": [
    "numClusts = 5\n",
    "fiveClusters_Kmeans = clusterTheFish(numClusts, vgg16_fish_featureList_np)\n",
    "fiveClusters_ICVScore = scoreTheFish(fiveClusters_Kmeans, vgg16_fish_featureList_np)[1]\n",
    "\n",
    "# save output\n",
    "saveOutputCSV(numClusts, clusterOutputFname, fishPathsOutputFname, concatClustsFishpathsFname, scoreTheFish(fiveClusters_Kmeans, vgg16_fish_featureList_np)[0], fish_paths)"
   ]
  },
  {
   "cell_type": "markdown",
   "metadata": {},
   "source": [
    "### Run For 6 Desired Clusters"
   ]
  },
  {
   "cell_type": "code",
   "execution_count": 28,
   "metadata": {},
   "outputs": [
    {
     "name": "stdout",
     "output_type": "stream",
     "text": [
      "VGG16 Feature List and KMeans Computed.\n",
      "\n",
      "Internal Cluster Validation Score: 0.043311466\n",
      "\n",
      "Predicted Clusters: [3 2 2 1 5 5 3 5 2 2 2 5 1 4 5 1 3 2 1 0 3 2 4 2 1 1 0 3 3 1 5 5 3 4 4 5 5\n",
      " 5 1 5 3 2 2 1 1 1 3 2 5 5 2 5 1 2 5 5 4 5 1 2 0 1 3 3 3 3 5 3 3 3 1 3 0 3\n",
      " 3 2 5 4 1 5 3 5 0 4 2 1 5 3 2 5 2 3 3 5 3 3 1 1 3 1 1 5 0 2 1 1 3 5 1 1 4\n",
      " 3 3 1 2 1 2 3 5 2 5]\n",
      "\n",
      "Internal Cluster Validation Score: 0.043311466\n",
      "\n",
      "Predicted Clusters: [3 2 2 1 5 5 3 5 2 2 2 5 1 4 5 1 3 2 1 0 3 2 4 2 1 1 0 3 3 1 5 5 3 4 4 5 5\n",
      " 5 1 5 3 2 2 1 1 1 3 2 5 5 2 5 1 2 5 5 4 5 1 2 0 1 3 3 3 3 5 3 3 3 1 3 0 3\n",
      " 3 2 5 4 1 5 3 5 0 4 2 1 5 3 2 5 2 3 3 5 3 3 1 1 3 1 1 5 0 2 1 1 3 5 1 1 4\n",
      " 3 3 1 2 1 2 3 5 2 5]\n"
     ]
    }
   ],
   "source": [
    "numClusts = 6\n",
    "sixClusters_Kmeans = clusterTheFish(numClusts, vgg16_fish_featureList_np)\n",
    "sixClusters_ICVScore = scoreTheFish(sixClusters_Kmeans, vgg16_fish_featureList_np)[1]\n",
    "\n",
    "# save output\n",
    "saveOutputCSV(numClusts, clusterOutputFname, fishPathsOutputFname, concatClustsFishpathsFname, scoreTheFish(sixClusters_Kmeans, vgg16_fish_featureList_np)[0], fish_paths)"
   ]
  },
  {
   "cell_type": "markdown",
   "metadata": {},
   "source": [
    "### Run For 7 Desired Clusters"
   ]
  },
  {
   "cell_type": "code",
   "execution_count": 29,
   "metadata": {},
   "outputs": [
    {
     "name": "stdout",
     "output_type": "stream",
     "text": [
      "VGG16 Feature List and KMeans Computed.\n",
      "\n",
      "Internal Cluster Validation Score: 0.032255642\n",
      "\n",
      "Predicted Clusters: [3 6 4 2 1 1 6 4 4 6 6 4 4 6 1 2 3 6 2 4 3 6 3 5 4 6 5 3 3 2 1 1 3 3 5 1 1\n",
      " 1 2 4 3 6 4 2 4 4 3 4 4 1 6 4 2 4 1 4 4 1 2 6 5 2 3 3 3 3 0 3 3 3 2 3 5 3\n",
      " 3 6 0 3 2 1 3 1 4 1 6 2 4 6 6 1 4 3 3 1 4 4 6 4 3 2 2 1 5 4 2 2 3 1 2 2 3\n",
      " 3 3 6 6 2 4 3 1 6 4]\n",
      "\n",
      "Internal Cluster Validation Score: 0.032255642\n",
      "\n",
      "Predicted Clusters: [3 6 4 2 1 1 6 4 4 6 6 4 4 6 1 2 3 6 2 4 3 6 3 5 4 6 5 3 3 2 1 1 3 3 5 1 1\n",
      " 1 2 4 3 6 4 2 4 4 3 4 4 1 6 4 2 4 1 4 4 1 2 6 5 2 3 3 3 3 0 3 3 3 2 3 5 3\n",
      " 3 6 0 3 2 1 3 1 4 1 6 2 4 6 6 1 4 3 3 1 4 4 6 4 3 2 2 1 5 4 2 2 3 1 2 2 3\n",
      " 3 3 6 6 2 4 3 1 6 4]\n"
     ]
    }
   ],
   "source": [
    "numClusts = 7\n",
    "sevenClusters_Kmeans = clusterTheFish(numClusts, vgg16_fish_featureList_np)\n",
    "sevenClusters_ICVScore = scoreTheFish(sevenClusters_Kmeans, vgg16_fish_featureList_np)[1]\n",
    "\n",
    "# save output\n",
    "saveOutputCSV(numClusts, clusterOutputFname, fishPathsOutputFname, concatClustsFishpathsFname, scoreTheFish(sevenClusters_Kmeans, vgg16_fish_featureList_np)[0], fish_paths)"
   ]
  },
  {
   "cell_type": "markdown",
   "metadata": {},
   "source": [
    "### Run For 8 Desired Clusters"
   ]
  },
  {
   "cell_type": "code",
   "execution_count": 30,
   "metadata": {},
   "outputs": [
    {
     "name": "stdout",
     "output_type": "stream",
     "text": [
      "VGG16 Feature List and KMeans Computed.\n",
      "\n",
      "Internal Cluster Validation Score: 0.048017465\n",
      "\n",
      "Predicted Clusters: [3 0 2 1 1 1 5 1 2 5 0 1 1 5 5 3 4 0 1 6 4 0 6 7 1 3 7 3 4 1 1 1 3 5 5 6 1\n",
      " 6 1 1 1 5 2 1 1 1 4 2 1 1 3 1 1 2 1 1 6 1 1 0 7 1 4 4 4 4 1 3 3 3 1 3 7 4\n",
      " 3 3 1 5 3 5 5 1 6 5 5 1 1 3 2 1 2 5 5 1 1 1 3 1 3 3 1 1 7 2 1 3 4 1 3 1 5\n",
      " 3 4 3 5 3 2 4 1 2 1]\n",
      "\n",
      "Internal Cluster Validation Score: 0.048017465\n",
      "\n",
      "Predicted Clusters: [3 0 2 1 1 1 5 1 2 5 0 1 1 5 5 3 4 0 1 6 4 0 6 7 1 3 7 3 4 1 1 1 3 5 5 6 1\n",
      " 6 1 1 1 5 2 1 1 1 4 2 1 1 3 1 1 2 1 1 6 1 1 0 7 1 4 4 4 4 1 3 3 3 1 3 7 4\n",
      " 3 3 1 5 3 5 5 1 6 5 5 1 1 3 2 1 2 5 5 1 1 1 3 1 3 3 1 1 7 2 1 3 4 1 3 1 5\n",
      " 3 4 3 5 3 2 4 1 2 1]\n"
     ]
    }
   ],
   "source": [
    "numClusts = 8\n",
    "eightClusters_Kmeans = clusterTheFish(numClusts, vgg16_fish_featureList_np)\n",
    "eightClusters_ICVScore = scoreTheFish(eightClusters_Kmeans, vgg16_fish_featureList_np)[1]\n",
    "\n",
    "# save output\n",
    "saveOutputCSV(numClusts, clusterOutputFname, fishPathsOutputFname, concatClustsFishpathsFname, scoreTheFish(eightClusters_Kmeans, vgg16_fish_featureList_np)[0], fish_paths)"
   ]
  },
  {
   "cell_type": "markdown",
   "metadata": {},
   "source": [
    "### Run For 9 Desired Clusters"
   ]
  },
  {
   "cell_type": "code",
   "execution_count": 31,
   "metadata": {},
   "outputs": [
    {
     "name": "stdout",
     "output_type": "stream",
     "text": [
      "VGG16 Feature List and KMeans Computed.\n",
      "\n",
      "Internal Cluster Validation Score: 0.04004892\n",
      "\n",
      "Predicted Clusters: [2 1 3 3 5 5 8 3 3 8 1 3 3 8 8 3 2 1 5 7 2 1 2 7 3 8 7 2 4 3 3 5 2 8 7 5 5\n",
      " 5 3 5 2 8 3 3 3 3 2 3 3 5 0 3 3 3 5 3 5 5 3 1 7 3 4 2 2 2 3 2 3 4 3 2 7 2\n",
      " 2 0 3 8 6 8 4 5 7 5 7 3 5 4 0 5 3 4 4 3 3 3 8 3 4 3 3 3 7 3 3 3 2 5 3 3 8\n",
      " 2 4 6 8 3 3 4 5 0 3]\n",
      "\n",
      "Internal Cluster Validation Score: 0.04004892\n",
      "\n",
      "Predicted Clusters: [2 1 3 3 5 5 8 3 3 8 1 3 3 8 8 3 2 1 5 7 2 1 2 7 3 8 7 2 4 3 3 5 2 8 7 5 5\n",
      " 5 3 5 2 8 3 3 3 3 2 3 3 5 0 3 3 3 5 3 5 5 3 1 7 3 4 2 2 2 3 2 3 4 3 2 7 2\n",
      " 2 0 3 8 6 8 4 5 7 5 7 3 5 4 0 5 3 4 4 3 3 3 8 3 4 3 3 3 7 3 3 3 2 5 3 3 8\n",
      " 2 4 6 8 3 3 4 5 0 3]\n"
     ]
    }
   ],
   "source": [
    "numClusts = 9\n",
    "nineClusters_Kmeans = clusterTheFish(numClusts, vgg16_fish_featureList_np)\n",
    "nineClusters_ICVScore = scoreTheFish(nineClusters_Kmeans, vgg16_fish_featureList_np)[1]\n",
    "\n",
    "# save output\n",
    "saveOutputCSV(numClusts, clusterOutputFname, fishPathsOutputFname, concatClustsFishpathsFname, scoreTheFish(nineClusters_Kmeans, vgg16_fish_featureList_np)[0], fish_paths)"
   ]
  },
  {
   "cell_type": "markdown",
   "metadata": {},
   "source": [
    "### Run For 10 Desired Clusters"
   ]
  },
  {
   "cell_type": "code",
   "execution_count": 32,
   "metadata": {},
   "outputs": [
    {
     "name": "stdout",
     "output_type": "stream",
     "text": [
      "VGG16 Feature List and KMeans Computed.\n",
      "\n",
      "Internal Cluster Validation Score: 0.027109418\n",
      "\n",
      "Predicted Clusters: [4 9 1 0 3 3 9 3 1 1 9 3 6 9 9 6 4 9 6 3 4 9 3 5 6 9 5 4 2 6 3 3 4 8 5 3 3\n",
      " 3 6 3 4 5 1 6 6 6 4 1 3 6 1 3 6 1 3 6 3 3 6 9 5 0 8 4 4 4 3 6 4 4 6 4 5 4\n",
      " 6 9 3 8 7 9 8 3 3 9 9 6 3 9 1 3 1 8 8 3 4 4 9 6 2 6 6 3 5 1 6 6 4 3 6 6 8\n",
      " 4 2 7 5 6 1 8 3 1 3]\n",
      "\n",
      "Internal Cluster Validation Score: 0.027109418\n",
      "\n",
      "Predicted Clusters: [4 9 1 0 3 3 9 3 1 1 9 3 6 9 9 6 4 9 6 3 4 9 3 5 6 9 5 4 2 6 3 3 4 8 5 3 3\n",
      " 3 6 3 4 5 1 6 6 6 4 1 3 6 1 3 6 1 3 6 3 3 6 9 5 0 8 4 4 4 3 6 4 4 6 4 5 4\n",
      " 6 9 3 8 7 9 8 3 3 9 9 6 3 9 1 3 1 8 8 3 4 4 9 6 2 6 6 3 5 1 6 6 4 3 6 6 8\n",
      " 4 2 7 5 6 1 8 3 1 3]\n"
     ]
    }
   ],
   "source": [
    "numClusts = 10\n",
    "tenClusters_Kmeans = clusterTheFish(numClusts, vgg16_fish_featureList_np)\n",
    "tenClusters_ICVScore = scoreTheFish(tenClusters_Kmeans, vgg16_fish_featureList_np)[1]\n",
    "\n",
    "# save output\n",
    "saveOutputCSV(numClusts, clusterOutputFname, fishPathsOutputFname, concatClustsFishpathsFname, scoreTheFish(tenClusters_Kmeans, vgg16_fish_featureList_np)[0], fish_paths)"
   ]
  },
  {
   "cell_type": "markdown",
   "metadata": {},
   "source": [
    "### Run For 11 Desired Clusters"
   ]
  },
  {
   "cell_type": "code",
   "execution_count": 33,
   "metadata": {},
   "outputs": [
    {
     "name": "stdout",
     "output_type": "stream",
     "text": [
      "VGG16 Feature List and KMeans Computed.\n",
      "\n",
      "Internal Cluster Validation Score: 0.02781823\n",
      "\n",
      "Predicted Clusters: [ 3  8  9  4 10  2  7  6  9  9  8  2  6  5  2  4  3  8  6  1  3  8  3  1\n",
      "  6  1  1  3  0  4  4  2  3  7  1  2  2  2  4  2  3  1  9  4  6  6  3  9\n",
      "  6 10  9  2  6  9  2  2 10 10  4  8  1  4  0  3  3  3  6  3  3  7  4  3\n",
      "  1  3  3  8  2  0  6  5  0  2  1 10  1  4  2  7  9  2  9  7  0  6  3  4\n",
      "  4  6  7  4  4  4  1  9  4  4  3 10  4  4  1 10  0  1  1  6  9  0 10  9\n",
      "  2]\n",
      "\n",
      "Internal Cluster Validation Score: 0.02781823\n",
      "\n",
      "Predicted Clusters: [ 3  8  9  4 10  2  7  6  9  9  8  2  6  5  2  4  3  8  6  1  3  8  3  1\n",
      "  6  1  1  3  0  4  4  2  3  7  1  2  2  2  4  2  3  1  9  4  6  6  3  9\n",
      "  6 10  9  2  6  9  2  2 10 10  4  8  1  4  0  3  3  3  6  3  3  7  4  3\n",
      "  1  3  3  8  2  0  6  5  0  2  1 10  1  4  2  7  9  2  9  7  0  6  3  4\n",
      "  4  6  7  4  4  4  1  9  4  4  3 10  4  4  1 10  0  1  1  6  9  0 10  9\n",
      "  2]\n"
     ]
    }
   ],
   "source": [
    "numClusts = 11\n",
    "elevenClusters_Kmeans = clusterTheFish(numClusts, vgg16_fish_featureList_np)\n",
    "elevenClusters_ICVScore = scoreTheFish(elevenClusters_Kmeans, vgg16_fish_featureList_np)[1]\n",
    "\n",
    "# save output\n",
    "saveOutputCSV(numClusts, clusterOutputFname, fishPathsOutputFname, concatClustsFishpathsFname, scoreTheFish(elevenClusters_Kmeans, vgg16_fish_featureList_np)[0], fish_paths)"
   ]
  },
  {
   "cell_type": "markdown",
   "metadata": {},
   "source": [
    "### Run For 12 Desired Clusters"
   ]
  },
  {
   "cell_type": "code",
   "execution_count": 34,
   "metadata": {},
   "outputs": [
    {
     "name": "stdout",
     "output_type": "stream",
     "text": [
      "VGG16 Feature List and KMeans Computed.\n",
      "\n",
      "Internal Cluster Validation Score: 0.03295989\n",
      "\n",
      "Predicted Clusters: [ 0  4  2  2  3  3 11  3  6 11  4  1  1 11  3  1  0  4  3  9  0  4  6  7\n",
      "  1 11  7  0 10  2  8  8  0  5  7  8  3  8  2  3  0  6  2  2  1  1  0  6\n",
      "  3  3  6  3  1  6  3  8  3  3  2  4  7  2  0  0  0  0  1  0  6 10  2  0\n",
      "  7  0  0  6  8  5  6 11 11  3  9  3  6  3  3 10  6  3  6 11 11  3  1  2\n",
      " 11  1 11  1  2  3  7  6  2  2  0  3  1  2  5  0  0  6 11  1  6  0  3  6\n",
      "  8]\n",
      "\n",
      "Internal Cluster Validation Score: 0.03295989\n",
      "\n",
      "Predicted Clusters: [ 0  4  2  2  3  3 11  3  6 11  4  1  1 11  3  1  0  4  3  9  0  4  6  7\n",
      "  1 11  7  0 10  2  8  8  0  5  7  8  3  8  2  3  0  6  2  2  1  1  0  6\n",
      "  3  3  6  3  1  6  3  8  3  3  2  4  7  2  0  0  0  0  1  0  6 10  2  0\n",
      "  7  0  0  6  8  5  6 11 11  3  9  3  6  3  3 10  6  3  6 11 11  3  1  2\n",
      " 11  1 11  1  2  3  7  6  2  2  0  3  1  2  5  0  0  6 11  1  6  0  3  6\n",
      "  8]\n"
     ]
    }
   ],
   "source": [
    "numClusts = 12\n",
    "twelveClusters_Kmeans = clusterTheFish(numClusts, vgg16_fish_featureList_np)\n",
    "twelveClusters_ICVScore = scoreTheFish(twelveClusters_Kmeans, vgg16_fish_featureList_np)[1]\n",
    "\n",
    "# save output\n",
    "saveOutputCSV(numClusts, clusterOutputFname, fishPathsOutputFname, concatClustsFishpathsFname, scoreTheFish(twelveClusters_Kmeans, vgg16_fish_featureList_np)[0], fish_paths)"
   ]
  },
  {
   "cell_type": "markdown",
   "metadata": {},
   "source": [
    "### Run For 13 Desired Clusters"
   ]
  },
  {
   "cell_type": "code",
   "execution_count": 35,
   "metadata": {},
   "outputs": [
    {
     "name": "stdout",
     "output_type": "stream",
     "text": [
      "VGG16 Feature List and KMeans Computed.\n",
      "\n",
      "Internal Cluster Validation Score: 0.040069267\n",
      "\n",
      "Predicted Clusters: [ 6  4  8  1  5  2  6  3  3  3  4  3  1  6  6  1 10  4  2 11 10  4  5  7\n",
      "  2  6  7  0  4  1  5  5  6  9  7  5  5  5  1  3  0  3  8  2  1  2 10  3\n",
      "  3  2  3  3  1  8  5  1  5  5  2  4  7  1  9 10 10 10  3  0  8  8  1  0\n",
      "  7  8  0  4  3  9 12  6 10  5 11  6  3  1  5  4  3  5  3  9  9  2  3  3\n",
      "  6  1  6  1  1  5  7  3  1  1 10  2  1  1  9  6 10 12  6  1  8  9  2  3\n",
      "  3]\n",
      "\n",
      "Internal Cluster Validation Score: 0.040069267\n",
      "\n",
      "Predicted Clusters: [ 6  4  8  1  5  2  6  3  3  3  4  3  1  6  6  1 10  4  2 11 10  4  5  7\n",
      "  2  6  7  0  4  1  5  5  6  9  7  5  5  5  1  3  0  3  8  2  1  2 10  3\n",
      "  3  2  3  3  1  8  5  1  5  5  2  4  7  1  9 10 10 10  3  0  8  8  1  0\n",
      "  7  8  0  4  3  9 12  6 10  5 11  6  3  1  5  4  3  5  3  9  9  2  3  3\n",
      "  6  1  6  1  1  5  7  3  1  1 10  2  1  1  9  6 10 12  6  1  8  9  2  3\n",
      "  3]\n"
     ]
    }
   ],
   "source": [
    "numClusts = 13\n",
    "thirteenClusters_Kmeans = clusterTheFish(numClusts, vgg16_fish_featureList_np)\n",
    "thirteenClusters_ICVScore = scoreTheFish(thirteenClusters_Kmeans, vgg16_fish_featureList_np)[1]\n",
    "\n",
    "# save output\n",
    "saveOutputCSV(numClusts, clusterOutputFname, fishPathsOutputFname, concatClustsFishpathsFname, scoreTheFish(thirteenClusters_Kmeans, vgg16_fish_featureList_np)[0], fish_paths)"
   ]
  },
  {
   "cell_type": "markdown",
   "metadata": {},
   "source": [
    "### Run For 14 Desired Clusters"
   ]
  },
  {
   "cell_type": "code",
   "execution_count": 36,
   "metadata": {},
   "outputs": [
    {
     "name": "stdout",
     "output_type": "stream",
     "text": [
      "VGG16 Feature List and KMeans Computed.\n",
      "\n",
      "Internal Cluster Validation Score: 0.03581279\n",
      "\n",
      "Predicted Clusters: [ 1 11 12  6  7  4  7 12 12 12 11 12  6  7  7  6  1 11  4 10  1 11  1  9\n",
      "  6  7  9  5 13  6  4  3  5 13  9  3  4  3  4  4  5  9 12  0  6  6  1 12\n",
      "  6  7  8 12  6 12  4  4  3  2  6 11  9  4 13  1  1  1  6  5  5  5  4  5\n",
      "  9  5  5 11 12 13  6  7 13  4 10  7 12  6  3  5  8  4 12 13 13  6 12  1\n",
      "  7  6 13  6  6  4  9 12  6  0  1  2  6  6 13  7 13  7  7  6 12 13  2  8\n",
      "  4]\n",
      "\n",
      "Internal Cluster Validation Score: 0.03581279\n",
      "\n",
      "Predicted Clusters: [ 1 11 12  6  7  4  7 12 12 12 11 12  6  7  7  6  1 11  4 10  1 11  1  9\n",
      "  6  7  9  5 13  6  4  3  5 13  9  3  4  3  4  4  5  9 12  0  6  6  1 12\n",
      "  6  7  8 12  6 12  4  4  3  2  6 11  9  4 13  1  1  1  6  5  5  5  4  5\n",
      "  9  5  5 11 12 13  6  7 13  4 10  7 12  6  3  5  8  4 12 13 13  6 12  1\n",
      "  7  6 13  6  6  4  9 12  6  0  1  2  6  6 13  7 13  7  7  6 12 13  2  8\n",
      "  4]\n"
     ]
    }
   ],
   "source": [
    "numClusts = 14\n",
    "fourteenClusters_Kmeans = clusterTheFish(numClusts, vgg16_fish_featureList_np)\n",
    "fourteenClusters_ICVScore = scoreTheFish(fourteenClusters_Kmeans, vgg16_fish_featureList_np)[1]\n",
    "\n",
    "# save output\n",
    "saveOutputCSV(numClusts, clusterOutputFname, fishPathsOutputFname, concatClustsFishpathsFname, scoreTheFish(fourteenClusters_Kmeans, vgg16_fish_featureList_np)[0], fish_paths)"
   ]
  },
  {
   "cell_type": "markdown",
   "metadata": {},
   "source": [
    "### Run For 15 Desired Clusters"
   ]
  },
  {
   "cell_type": "code",
   "execution_count": 37,
   "metadata": {},
   "outputs": [
    {
     "name": "stdout",
     "output_type": "stream",
     "text": [
      "VGG16 Feature List and KMeans Computed.\n",
      "\n",
      "Internal Cluster Validation Score: 0.042459633\n",
      "\n",
      "Predicted Clusters: [11  3  4  0  9  9 12  0 11  4  3  9  0 12  2  0 13  3  9  6 13  3 11  5\n",
      "  9 12  5  8  8  0  9  9 14  1  2  7  9  7  0  9  4  2  4  0  0  0 14  4\n",
      "  0  0 11  9  0  4  9  9 11  9  0  3  5  0  1 13 13 13  0 12 11  8  0 12\n",
      "  5 14  0 11  4  1 10 12  1  9  6 12 12  0  4  8 11  9  4  1  1  9  0  0\n",
      " 12  0  8  0  0  9  5  4  0  0 13  9  0  0  2 12  8 10  2  0  4  1  9 11\n",
      "  9]\n",
      "\n",
      "Internal Cluster Validation Score: 0.042459633\n",
      "\n",
      "Predicted Clusters: [11  3  4  0  9  9 12  0 11  4  3  9  0 12  2  0 13  3  9  6 13  3 11  5\n",
      "  9 12  5  8  8  0  9  9 14  1  2  7  9  7  0  9  4  2  4  0  0  0 14  4\n",
      "  0  0 11  9  0  4  9  9 11  9  0  3  5  0  1 13 13 13  0 12 11  8  0 12\n",
      "  5 14  0 11  4  1 10 12  1  9  6 12 12  0  4  8 11  9  4  1  1  9  0  0\n",
      " 12  0  8  0  0  9  5  4  0  0 13  9  0  0  2 12  8 10  2  0  4  1  9 11\n",
      "  9]\n"
     ]
    }
   ],
   "source": [
    "numClusts = 15\n",
    "fifteenClusters_Kmeans = clusterTheFish(numClusts, vgg16_fish_featureList_np)\n",
    "fifteenClusters_ICVScore = scoreTheFish(fifteenClusters_Kmeans, vgg16_fish_featureList_np)[1]\n",
    "\n",
    "# save output\n",
    "saveOutputCSV(numClusts, clusterOutputFname, fishPathsOutputFname, concatClustsFishpathsFname, scoreTheFish(fifteenClusters_Kmeans, vgg16_fish_featureList_np)[0], fish_paths)"
   ]
  },
  {
   "cell_type": "markdown",
   "metadata": {},
   "source": [
    "### Run For 16 Desired Clusters"
   ]
  },
  {
   "cell_type": "code",
   "execution_count": 38,
   "metadata": {},
   "outputs": [
    {
     "name": "stdout",
     "output_type": "stream",
     "text": [
      "VGG16 Feature List and KMeans Computed.\n",
      "\n",
      "Internal Cluster Validation Score: 0.03342973\n",
      "\n",
      "Predicted Clusters: [ 8 10  0  1 14 12  6  9  0  6 10 14  9  6  6  1  8 10 12  3  8 10 14  7\n",
      "  1  1  3  1 15  1  2  2  1  6  6  2  2  2  0  9 11  6  0 12  1  1  8  0\n",
      "  9  2  5  9  1  0  9  2 14  2 12 10  7  1  8  8  8  8  9  1 11  1  1  1\n",
      "  7  0  1  5  9  6 13  6 15  2  3 12  6  1 14 15  5 12  0 15  4  1  1  1\n",
      "  6  1 15  1  1  9  7  0 12  1  8  2  1  1  6  1 15 13  6  1  0  4 12  5\n",
      "  2]\n",
      "\n",
      "Internal Cluster Validation Score: 0.03342973\n",
      "\n",
      "Predicted Clusters: [ 8 10  0  1 14 12  6  9  0  6 10 14  9  6  6  1  8 10 12  3  8 10 14  7\n",
      "  1  1  3  1 15  1  2  2  1  6  6  2  2  2  0  9 11  6  0 12  1  1  8  0\n",
      "  9  2  5  9  1  0  9  2 14  2 12 10  7  1  8  8  8  8  9  1 11  1  1  1\n",
      "  7  0  1  5  9  6 13  6 15  2  3 12  6  1 14 15  5 12  0 15  4  1  1  1\n",
      "  6  1 15  1  1  9  7  0 12  1  8  2  1  1  6  1 15 13  6  1  0  4 12  5\n",
      "  2]\n"
     ]
    }
   ],
   "source": [
    "numClusts = 16\n",
    "sixteenClusters_Kmeans = clusterTheFish(numClusts, vgg16_fish_featureList_np)\n",
    "sixteenClusters_ICVScore = scoreTheFish(sixteenClusters_Kmeans, vgg16_fish_featureList_np)[1]\n",
    "\n",
    "# save output\n",
    "saveOutputCSV(numClusts, clusterOutputFname, fishPathsOutputFname, concatClustsFishpathsFname, scoreTheFish(sixteenClusters_Kmeans, vgg16_fish_featureList_np)[0], fish_paths)"
   ]
  },
  {
   "cell_type": "markdown",
   "metadata": {},
   "source": [
    "### Run For 17 Desired Clusters"
   ]
  },
  {
   "cell_type": "code",
   "execution_count": 39,
   "metadata": {},
   "outputs": [
    {
     "name": "stdout",
     "output_type": "stream",
     "text": [
      "VGG16 Feature List and KMeans Computed.\n",
      "\n",
      "Internal Cluster Validation Score: 0.038434975\n",
      "\n",
      "Predicted Clusters: [ 9 14  7  3 13 13  2 15  7  4 14  7  0  4 13  3  9 14 13 16  9 14  8  1\n",
      " 15  2  1  9 10  3  6 13  9 11  1  7 13  7  3 15 13  4  7  3  0  3  9  7\n",
      " 15 13 14 15 15  7 13  7  8 13 15 14  1  3 10  9  9  5 15  9  4 10  3  9\n",
      "  1  9  9 14  7  4 12  2 10  6 16 13  4  3 13  2 14 13  7  2  2 13  0  9\n",
      "  2  3 10  3  3  6  1  7  3  3  5 13  3  3 11 13 10 12  4  3  7 10 13 14\n",
      "  7]\n",
      "\n",
      "Internal Cluster Validation Score: 0.038434975\n",
      "\n",
      "Predicted Clusters: [ 9 14  7  3 13 13  2 15  7  4 14  7  0  4 13  3  9 14 13 16  9 14  8  1\n",
      " 15  2  1  9 10  3  6 13  9 11  1  7 13  7  3 15 13  4  7  3  0  3  9  7\n",
      " 15 13 14 15 15  7 13  7  8 13 15 14  1  3 10  9  9  5 15  9  4 10  3  9\n",
      "  1  9  9 14  7  4 12  2 10  6 16 13  4  3 13  2 14 13  7  2  2 13  0  9\n",
      "  2  3 10  3  3  6  1  7  3  3  5 13  3  3 11 13 10 12  4  3  7 10 13 14\n",
      "  7]\n"
     ]
    }
   ],
   "source": [
    "numClusts = 17\n",
    "seventeenClusters_Kmeans = clusterTheFish(numClusts, vgg16_fish_featureList_np)\n",
    "seventeenClusters_ICVScore = scoreTheFish(seventeenClusters_Kmeans, vgg16_fish_featureList_np)[1]\n",
    "\n",
    "# save output\n",
    "saveOutputCSV(numClusts, clusterOutputFname, fishPathsOutputFname, concatClustsFishpathsFname, scoreTheFish(seventeenClusters_Kmeans, vgg16_fish_featureList_np)[0], fish_paths)"
   ]
  },
  {
   "cell_type": "markdown",
   "metadata": {},
   "source": [
    "### Run For 18 Desired Clusters"
   ]
  },
  {
   "cell_type": "code",
   "execution_count": 40,
   "metadata": {},
   "outputs": [
    {
     "name": "stdout",
     "output_type": "stream",
     "text": [
      "VGG16 Feature List and KMeans Computed.\n",
      "\n",
      "Internal Cluster Validation Score: 0.04099325\n",
      "\n",
      "Predicted Clusters: [ 9 17  7  3 13 13  2 15  7  4 17  7  0  4 13  3  9 17 13 16  9 17  8  1\n",
      " 15  2  1  9 10  3  6 13  9 11  1  7 13  7  3 15 13  4  7  3  0  3  9  7\n",
      " 15 13 14 15 15  7 13  7  8 13 15 17  1  3 10  9  9  5 15  9  4 10  3  9\n",
      "  1  9  9 14  7  4 12  2 10  6 16 13  4  3 13  2 14 13  7  2  2 13  0  9\n",
      "  2  3 10  3  3  6  1  7  3  3  5 13  3  3 11 13 10 12  4  3  7 10 13 14\n",
      "  7]\n",
      "\n",
      "Internal Cluster Validation Score: 0.04099325\n",
      "\n",
      "Predicted Clusters: [ 9 17  7  3 13 13  2 15  7  4 17  7  0  4 13  3  9 17 13 16  9 17  8  1\n",
      " 15  2  1  9 10  3  6 13  9 11  1  7 13  7  3 15 13  4  7  3  0  3  9  7\n",
      " 15 13 14 15 15  7 13  7  8 13 15 17  1  3 10  9  9  5 15  9  4 10  3  9\n",
      "  1  9  9 14  7  4 12  2 10  6 16 13  4  3 13  2 14 13  7  2  2 13  0  9\n",
      "  2  3 10  3  3  6  1  7  3  3  5 13  3  3 11 13 10 12  4  3  7 10 13 14\n",
      "  7]\n"
     ]
    }
   ],
   "source": [
    "numClusts = 18\n",
    "eighteenClusters_Kmeans = clusterTheFish(numClusts, vgg16_fish_featureList_np)\n",
    "eighteenClusters_ICVScore = scoreTheFish(eighteenClusters_Kmeans, vgg16_fish_featureList_np)[1]\n",
    "\n",
    "# save output\n",
    "saveOutputCSV(numClusts, clusterOutputFname, fishPathsOutputFname, concatClustsFishpathsFname, scoreTheFish(eighteenClusters_Kmeans, vgg16_fish_featureList_np)[0], fish_paths)"
   ]
  },
  {
   "cell_type": "markdown",
   "metadata": {},
   "source": [
    "### Run For 19 Desired Clusters"
   ]
  },
  {
   "cell_type": "code",
   "execution_count": 41,
   "metadata": {},
   "outputs": [
    {
     "name": "stdout",
     "output_type": "stream",
     "text": [
      "VGG16 Feature List and KMeans Computed.\n",
      "\n",
      "Internal Cluster Validation Score: 0.04226616\n",
      "\n",
      "Predicted Clusters: [ 9 17  7  3 13 13  2 15  7  4 17  7  0  4 13  3  9 17 13 16  9 17  8  1\n",
      " 15  2  1  9 10  3  6 13  9 11  1  7 13  7  3 15 13  4  7  3  0  3  9  7\n",
      " 15 13 14 15 15  7 13  7  8 13 15 17  1  3 18 18  9  5 15  9  4 10  3  9\n",
      "  1  9  9 14  7 18 12  2 18  6 16 13  4  3 13  2 14 13  7  2  2 13  0  9\n",
      "  2  3 10  3  3  6  1  7  3  3  5 13  3  3 11 13 10 12  4  3  7 18 13 14\n",
      "  7]\n",
      "\n",
      "Internal Cluster Validation Score: 0.04226616\n",
      "\n",
      "Predicted Clusters: [ 9 17  7  3 13 13  2 15  7  4 17  7  0  4 13  3  9 17 13 16  9 17  8  1\n",
      " 15  2  1  9 10  3  6 13  9 11  1  7 13  7  3 15 13  4  7  3  0  3  9  7\n",
      " 15 13 14 15 15  7 13  7  8 13 15 17  1  3 18 18  9  5 15  9  4 10  3  9\n",
      "  1  9  9 14  7 18 12  2 18  6 16 13  4  3 13  2 14 13  7  2  2 13  0  9\n",
      "  2  3 10  3  3  6  1  7  3  3  5 13  3  3 11 13 10 12  4  3  7 18 13 14\n",
      "  7]\n"
     ]
    }
   ],
   "source": [
    "numClusts = 19\n",
    "nineteenClusters_Kmeans = clusterTheFish(numClusts, vgg16_fish_featureList_np)\n",
    "nineteenClusters_ICVScore = scoreTheFish(nineteenClusters_Kmeans, vgg16_fish_featureList_np)[1]\n",
    "\n",
    "# save output\n",
    "saveOutputCSV(numClusts, clusterOutputFname, fishPathsOutputFname, concatClustsFishpathsFname, scoreTheFish(nineteenClusters_Kmeans, vgg16_fish_featureList_np)[0], fish_paths)"
   ]
  },
  {
   "cell_type": "markdown",
   "metadata": {},
   "source": [
    "### Run For 20 Desired Clusters"
   ]
  },
  {
   "cell_type": "code",
   "execution_count": 42,
   "metadata": {},
   "outputs": [
    {
     "name": "stdout",
     "output_type": "stream",
     "text": [
      "VGG16 Feature List and KMeans Computed.\n",
      "\n",
      "Internal Cluster Validation Score: 0.044775706\n",
      "\n",
      "Predicted Clusters: [ 9 17 19  3 13 13  2 15  7  4 17  7  0  4 13  3  9 17 13 16  9 17  8  1\n",
      " 15  2  1  9 10  3  6 13  9 11  1  7 13  7  3 15 13  4 19  3  0  3  9  7\n",
      " 15 13 14 15 15  7 13  7  8 13 15 17  1  3 18 18  9  5 15  9  4 10  3  9\n",
      "  1  9  9 14  7 18 12  2 18  6 16 13  4  3 13  2 14 13  7  2  2 13  0  9\n",
      "  2  3 10  3  3  6  1  7  3  3  5 13  3  3 11 13 10 12  4  3 19 18 13 14\n",
      "  7]\n",
      "\n",
      "Internal Cluster Validation Score: 0.044775706\n",
      "\n",
      "Predicted Clusters: [ 9 17 19  3 13 13  2 15  7  4 17  7  0  4 13  3  9 17 13 16  9 17  8  1\n",
      " 15  2  1  9 10  3  6 13  9 11  1  7 13  7  3 15 13  4 19  3  0  3  9  7\n",
      " 15 13 14 15 15  7 13  7  8 13 15 17  1  3 18 18  9  5 15  9  4 10  3  9\n",
      "  1  9  9 14  7 18 12  2 18  6 16 13  4  3 13  2 14 13  7  2  2 13  0  9\n",
      "  2  3 10  3  3  6  1  7  3  3  5 13  3  3 11 13 10 12  4  3 19 18 13 14\n",
      "  7]\n"
     ]
    }
   ],
   "source": [
    "numClusts = 20\n",
    "twentyClusters_Kmeans = clusterTheFish(numClusts, vgg16_fish_featureList_np)\n",
    "twentyClusters_ICVScore = scoreTheFish(twentyClusters_Kmeans, vgg16_fish_featureList_np)[1]\n",
    "\n",
    "# save output\n",
    "saveOutputCSV(numClusts, clusterOutputFname, fishPathsOutputFname, concatClustsFishpathsFname, scoreTheFish(twentyClusters_Kmeans, vgg16_fish_featureList_np)[0], fish_paths)"
   ]
  },
  {
   "cell_type": "markdown",
   "metadata": {},
   "source": [
    "# Plotting Charts"
   ]
  },
  {
   "cell_type": "markdown",
   "metadata": {},
   "source": [
    "## Matplotlib Bar Chart of ICV Scores"
   ]
  },
  {
   "cell_type": "code",
   "execution_count": 72,
   "metadata": {},
   "outputs": [
    {
     "ename": "NameError",
     "evalue": "name 'threeClusters_ICVScore' is not defined",
     "output_type": "error",
     "traceback": [
      "\u001b[0;31m---------------------------------------------------------------------------\u001b[0m",
      "\u001b[0;31mNameError\u001b[0m                                 Traceback (most recent call last)",
      "\u001b[0;32m<ipython-input-72-da5a415ca964>\u001b[0m in \u001b[0;36m<module>\u001b[0;34m()\u001b[0m\n\u001b[1;32m      1\u001b[0m \u001b[0mn_groups\u001b[0m \u001b[0;34m=\u001b[0m \u001b[0;36m19\u001b[0m\u001b[0;34m\u001b[0m\u001b[0m\n\u001b[1;32m      2\u001b[0m \u001b[0;34m\u001b[0m\u001b[0m\n\u001b[0;32m----> 3\u001b[0;31m clusterICVScores_Means = (twoClusters_ICVScore, threeClusters_ICVScore, fourClusters_ICVScore, fiveClusters_ICVScore, sixClusters_ICVScore, sevenClusters_ICVScore,\n\u001b[0m\u001b[1;32m      4\u001b[0m                          \u001b[0meightClusters_ICVScore\u001b[0m\u001b[0;34m,\u001b[0m \u001b[0mnineClusters_ICVScore\u001b[0m\u001b[0;34m,\u001b[0m \u001b[0mtenClusters_ICVScore\u001b[0m\u001b[0;34m,\u001b[0m \u001b[0melevenClusters_ICVScore\u001b[0m\u001b[0;34m,\u001b[0m \u001b[0mtwelveClusters_ICVScore\u001b[0m\u001b[0;34m,\u001b[0m\u001b[0;34m\u001b[0m\u001b[0m\n\u001b[1;32m      5\u001b[0m                          \u001b[0mthirteenClusters_ICVScore\u001b[0m\u001b[0;34m,\u001b[0m \u001b[0mfourteenClusters_ICVScore\u001b[0m\u001b[0;34m,\u001b[0m \u001b[0mfifteenClusters_ICVScore\u001b[0m\u001b[0;34m,\u001b[0m \u001b[0msixteenClusters_ICVScore\u001b[0m\u001b[0;34m,\u001b[0m \u001b[0mseventeenClusters_ICVScore\u001b[0m\u001b[0;34m,\u001b[0m\u001b[0;34m\u001b[0m\u001b[0m\n",
      "\u001b[0;31mNameError\u001b[0m: name 'threeClusters_ICVScore' is not defined"
     ]
    }
   ],
   "source": [
    "n_groups = 19\n",
    "\n",
    "clusterICVScores_Means = (twoClusters_ICVScore, threeClusters_ICVScore, fourClusters_ICVScore, fiveClusters_ICVScore, sixClusters_ICVScore, sevenClusters_ICVScore,\n",
    "                         eightClusters_ICVScore, nineClusters_ICVScore, tenClusters_ICVScore, elevenClusters_ICVScore, twelveClusters_ICVScore,\n",
    "                         thirteenClusters_ICVScore, fourteenClusters_ICVScore, fifteenClusters_ICVScore, sixteenClusters_ICVScore, seventeenClusters_ICVScore,\n",
    "                         eighteenClusters_ICVScore, nineteenClusters_ICVScore, twentyClusters_ICVScore)\n",
    "\n",
    "fig, ax = plt.subplots()\n",
    "\n",
    "index = np.arange(n_groups)\n",
    "bar_width = 0.35\n",
    "\n",
    "opacity = 0.4\n",
    "error_config = {'ecolor': '0.3'}\n",
    "\n",
    "rects1 = ax.bar(index, clusterICVScores_Means, bar_width,\n",
    "                alpha=opacity, color='b', \n",
    "                error_kw=error_config,\n",
    "                label='VGG16')\n",
    "\n",
    "\n",
    "ax.set_xlabel('Number of Clusters')\n",
    "ax.set_ylabel('Internal Cluster Validation Scores')\n",
    "ax.set_title('Scores by number of clusters (Randall/[Acanthuridae Only])')\n",
    "ax.set_xticks(index)\n",
    "ax.set_xticklabels(('2', '3', '4', '5', '6', '7', '8', '9', '10', '11', '12', '13', '14', '15', '16', '17', '18', '19', '20'))\n",
    "ax.legend()\n",
    "\n",
    "fig.tight_layout()\n",
    "plt.show()\n",
    "\n",
    "plt.savefig('ICV_Scoring.png')"
   ]
  },
  {
   "cell_type": "code",
   "execution_count": null,
   "metadata": {},
   "outputs": [],
   "source": []
  }
 ],
 "metadata": {
  "kernelspec": {
   "display_name": "Python 3",
   "language": "python",
   "name": "python3"
  },
  "language_info": {
   "codemirror_mode": {
    "name": "ipython",
    "version": 3
   },
   "file_extension": ".py",
   "mimetype": "text/x-python",
   "name": "python",
   "nbconvert_exporter": "python",
   "pygments_lexer": "ipython3",
   "version": "3.6.5"
  }
 },
 "nbformat": 4,
 "nbformat_minor": 2
}
