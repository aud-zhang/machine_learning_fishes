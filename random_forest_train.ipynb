{
 "cells": [
  {
   "cell_type": "markdown",
   "metadata": {},
   "source": [
    "good reading: https://blog.hyperiondev.com/index.php/2017/12/11/machine-learning/"
   ]
  },
  {
   "cell_type": "code",
   "execution_count": 2,
   "metadata": {},
   "outputs": [],
   "source": [
    "from sklearn import datasets\n",
    "import pandas as pd\n",
    "from sklearn.model_selection import train_test_split\n",
    "from sklearn.ensemble import RandomForestClassifier\n",
    "from sklearn import metrics\n",
    "from os import walk\n",
    "import cv2\n",
    "import numpy as np\n",
    "from sklearn.externals import joblib\n",
    "import os\n",
    "import csv"
   ]
  },
  {
   "cell_type": "code",
   "execution_count": 47,
   "metadata": {},
   "outputs": [],
   "source": [
    "iris = datasets.load_iris()"
   ]
  },
  {
   "cell_type": "code",
   "execution_count": 48,
   "metadata": {},
   "outputs": [
    {
     "name": "stdout",
     "output_type": "stream",
     "text": [
      "['setosa' 'versicolor' 'virginica']\n"
     ]
    }
   ],
   "source": [
    "print(iris.target_names)"
   ]
  },
  {
   "cell_type": "code",
   "execution_count": 49,
   "metadata": {},
   "outputs": [
    {
     "name": "stdout",
     "output_type": "stream",
     "text": [
      "['sepal length (cm)', 'sepal width (cm)', 'petal length (cm)', 'petal width (cm)']\n"
     ]
    }
   ],
   "source": [
    "print(iris.feature_names)"
   ]
  },
  {
   "cell_type": "code",
   "execution_count": 50,
   "metadata": {},
   "outputs": [
    {
     "data": {
      "text/html": [
       "<div>\n",
       "<style scoped>\n",
       "    .dataframe tbody tr th:only-of-type {\n",
       "        vertical-align: middle;\n",
       "    }\n",
       "\n",
       "    .dataframe tbody tr th {\n",
       "        vertical-align: top;\n",
       "    }\n",
       "\n",
       "    .dataframe thead th {\n",
       "        text-align: right;\n",
       "    }\n",
       "</style>\n",
       "<table border=\"1\" class=\"dataframe\">\n",
       "  <thead>\n",
       "    <tr style=\"text-align: right;\">\n",
       "      <th></th>\n",
       "      <th>petal length</th>\n",
       "      <th>petal width</th>\n",
       "      <th>sepal length</th>\n",
       "      <th>sepal width</th>\n",
       "      <th>species</th>\n",
       "    </tr>\n",
       "  </thead>\n",
       "  <tbody>\n",
       "    <tr>\n",
       "      <th>0</th>\n",
       "      <td>1.4</td>\n",
       "      <td>0.2</td>\n",
       "      <td>5.1</td>\n",
       "      <td>3.5</td>\n",
       "      <td>0</td>\n",
       "    </tr>\n",
       "    <tr>\n",
       "      <th>1</th>\n",
       "      <td>1.4</td>\n",
       "      <td>0.2</td>\n",
       "      <td>4.9</td>\n",
       "      <td>3.0</td>\n",
       "      <td>0</td>\n",
       "    </tr>\n",
       "    <tr>\n",
       "      <th>2</th>\n",
       "      <td>1.3</td>\n",
       "      <td>0.2</td>\n",
       "      <td>4.7</td>\n",
       "      <td>3.2</td>\n",
       "      <td>0</td>\n",
       "    </tr>\n",
       "    <tr>\n",
       "      <th>3</th>\n",
       "      <td>1.5</td>\n",
       "      <td>0.2</td>\n",
       "      <td>4.6</td>\n",
       "      <td>3.1</td>\n",
       "      <td>0</td>\n",
       "    </tr>\n",
       "    <tr>\n",
       "      <th>4</th>\n",
       "      <td>1.4</td>\n",
       "      <td>0.2</td>\n",
       "      <td>5.0</td>\n",
       "      <td>3.6</td>\n",
       "      <td>0</td>\n",
       "    </tr>\n",
       "  </tbody>\n",
       "</table>\n",
       "</div>"
      ],
      "text/plain": [
       "   petal length  petal width  sepal length  sepal width  species\n",
       "0           1.4          0.2           5.1          3.5        0\n",
       "1           1.4          0.2           4.9          3.0        0\n",
       "2           1.3          0.2           4.7          3.2        0\n",
       "3           1.5          0.2           4.6          3.1        0\n",
       "4           1.4          0.2           5.0          3.6        0"
      ]
     },
     "execution_count": 50,
     "metadata": {},
     "output_type": "execute_result"
    }
   ],
   "source": [
    "data = pd.DataFrame({\n",
    "        'sepal length':iris.data[:,0],\n",
    "        'sepal width':iris.data[:,1],\n",
    "        'petal length':iris.data[:,2],\n",
    "        'petal width':iris.data[:,3],\n",
    "        'species':iris.target\n",
    "    })\n",
    "data.head()"
   ]
  },
  {
   "cell_type": "code",
   "execution_count": 51,
   "metadata": {},
   "outputs": [],
   "source": [
    "x=data[['sepal length','sepal width','petal length','petal width']]\n",
    "y=data['species']"
   ]
  },
  {
   "cell_type": "code",
   "execution_count": 52,
   "metadata": {},
   "outputs": [],
   "source": [
    "x_train,x_test,y_train,y_test = train_test_split(x,y,test_size=0.3)"
   ]
  },
  {
   "cell_type": "code",
   "execution_count": 57,
   "metadata": {},
   "outputs": [
    {
     "data": {
      "text/html": [
       "<div>\n",
       "<style scoped>\n",
       "    .dataframe tbody tr th:only-of-type {\n",
       "        vertical-align: middle;\n",
       "    }\n",
       "\n",
       "    .dataframe tbody tr th {\n",
       "        vertical-align: top;\n",
       "    }\n",
       "\n",
       "    .dataframe thead th {\n",
       "        text-align: right;\n",
       "    }\n",
       "</style>\n",
       "<table border=\"1\" class=\"dataframe\">\n",
       "  <thead>\n",
       "    <tr style=\"text-align: right;\">\n",
       "      <th></th>\n",
       "      <th>sepal length</th>\n",
       "      <th>sepal width</th>\n",
       "      <th>petal length</th>\n",
       "      <th>petal width</th>\n",
       "    </tr>\n",
       "  </thead>\n",
       "  <tbody>\n",
       "    <tr>\n",
       "      <th>49</th>\n",
       "      <td>5.0</td>\n",
       "      <td>3.3</td>\n",
       "      <td>1.4</td>\n",
       "      <td>0.2</td>\n",
       "    </tr>\n",
       "    <tr>\n",
       "      <th>25</th>\n",
       "      <td>5.0</td>\n",
       "      <td>3.0</td>\n",
       "      <td>1.6</td>\n",
       "      <td>0.2</td>\n",
       "    </tr>\n",
       "    <tr>\n",
       "      <th>119</th>\n",
       "      <td>6.0</td>\n",
       "      <td>2.2</td>\n",
       "      <td>5.0</td>\n",
       "      <td>1.5</td>\n",
       "    </tr>\n",
       "    <tr>\n",
       "      <th>4</th>\n",
       "      <td>5.0</td>\n",
       "      <td>3.6</td>\n",
       "      <td>1.4</td>\n",
       "      <td>0.2</td>\n",
       "    </tr>\n",
       "    <tr>\n",
       "      <th>55</th>\n",
       "      <td>5.7</td>\n",
       "      <td>2.8</td>\n",
       "      <td>4.5</td>\n",
       "      <td>1.3</td>\n",
       "    </tr>\n",
       "  </tbody>\n",
       "</table>\n",
       "</div>"
      ],
      "text/plain": [
       "     sepal length  sepal width  petal length  petal width\n",
       "49            5.0          3.3           1.4          0.2\n",
       "25            5.0          3.0           1.6          0.2\n",
       "119           6.0          2.2           5.0          1.5\n",
       "4             5.0          3.6           1.4          0.2\n",
       "55            5.7          2.8           4.5          1.3"
      ]
     },
     "execution_count": 57,
     "metadata": {},
     "output_type": "execute_result"
    }
   ],
   "source": [
    "np.shape(x_train)\n",
    "x_train.head()"
   ]
  },
  {
   "cell_type": "code",
   "execution_count": 8,
   "metadata": {},
   "outputs": [],
   "source": [
    "clf = RandomForestClassifier(n_estimators=100, max_depth = 3)\n",
    "clf.fit(x_train,y_train)\n",
    "y_pred=clf.predict(x_test)"
   ]
  },
  {
   "cell_type": "code",
   "execution_count": 9,
   "metadata": {},
   "outputs": [
    {
     "name": "stdout",
     "output_type": "stream",
     "text": [
      "('Accuracy:', 0.9777777777777777)\n"
     ]
    }
   ],
   "source": [
    "print('Accuracy:',metrics.accuracy_score(y_test,y_pred))"
   ]
  },
  {
   "cell_type": "markdown",
   "metadata": {},
   "source": [
    "# Trying to load image data"
   ]
  },
  {
   "cell_type": "code",
   "execution_count": 3,
   "metadata": {},
   "outputs": [],
   "source": [
    "def getFish(filepath):\n",
    "    img = cv2.imread(filepath)\n",
    "    # standardize size for prediction step\n",
    "    img = cv2.resize(img, (150, 150))\n",
    "    img = img/255.0\n",
    "    img = img.reshape(img.shape[0]*img.shape[1]*img.shape[2])\n",
    "    \n",
    "    if \"noeyespot\" in filepath:\n",
    "        classification = \"noeyespot\"\n",
    "    else:\n",
    "        classification = \"eyespot\"  \n",
    "    \n",
    "    _, _, species = filepath.partition('eyespot/')\n",
    "    \n",
    "    #res = model.predict(img)\n",
    "    return(img, classification, species)\n",
    "\n",
    "def create_x_y(image_filepaths):\n",
    "    \n",
    "    #create lists for image training data and label training data\n",
    "    x_train = []\n",
    "    y_train = []\n",
    "    \n",
    "    #iterate through list of image filepaths\n",
    "    #get pixel, label data and store in x,y\n",
    "    #append x and y to x_train and y_train lists\n",
    "    #convert classification to binary\n",
    "    for i in range(len(image_filepaths)):\n",
    "        x, y, _ = getFish(image_filepaths[i])\n",
    "        x_train.append(x)\n",
    "        y_train.append(y)\n",
    "        if (y_train[i] == 'eyespot'):\n",
    "            y_train[i] = 0\n",
    "        else:\n",
    "            y_train[i] = 1\n",
    "        \n",
    "    #convert labels back to categorical from binary\n",
    "    #y_train = to_categorical(y_train)\n",
    "    \n",
    "    return x_train, y_train\n",
    "\n",
    "def predict(model, get_fish_output, eyespot_threshold):\n",
    "    \n",
    "    img, correct_class, fam = get_fish_output\n",
    "    img = img.reshape((1,) + img.shape)\n",
    "    \n",
    "    predicted = clf.predict_proba(img)\n",
    "    \n",
    "    y_pred =[]\n",
    "    prediction =''\n",
    "\n",
    "    if predicted [:,0][0] > eyespot_threshold:\n",
    "        y_pred = 0\n",
    "    else: \n",
    "        y_pred = 1\n",
    "    \n",
    "    if (y_pred == 0):\n",
    "        prediction = \"eyespot\"\n",
    "    else:\n",
    "        prediction = \"noeyespot\"\n",
    "\n",
    "    #print \"Model classification:\",prediction,\"\\nCorrect classification:\", correct_class,\"\\nPrediction wieghts:\",prediction_weights,\"\\nType:\",fam,\"\\n\"\n",
    "    return(prediction, correct_class, fam)\n",
    "\n",
    "def get_img_paths(family_filepath):\n",
    "    \n",
    "    fish = []\n",
    "\n",
    "    for (dirpath, dirnames, filenames) in walk(family_filepath):\n",
    "        for i in range(len(filenames)):\n",
    "            img = dirpath + filenames[i]\n",
    "            if \"Store\" not in img and \".csv\" not in img:  \n",
    "                fish.append(img)\n",
    "        break\n",
    "    \n",
    "    return fish, filenames"
   ]
  },
  {
   "cell_type": "code",
   "execution_count": 4,
   "metadata": {},
   "outputs": [],
   "source": [
    "##CHANGE THESE ACCORDING TO YOUR PATH!!\n",
    "eye_path = \"/Users/leannwoo/Dropbox/machine_learning_fishes/image_classifiers/Eyespots_ocelli/eyespot/\"\n",
    "noeye_path = \"/Users/leannwoo/Dropbox/machine_learning_fishes/image_classifiers/Eyespots_ocelli/noeyespot/\"\n",
    "\n",
    "fish_paths = []\n",
    "\n",
    "for (dirpath, dirnames, filenames) in walk(eye_path):\n",
    "    for i in range(len(filenames)):\n",
    "        eye_img = dirpath + filenames[i]\n",
    "        if \"Store\" not in eye_img:  \n",
    "            fish_paths.append(eye_img)\n",
    "    break\n",
    "\n",
    "for (dirpath, dirnames, filenames) in walk(noeye_path):\n",
    "    for i in range(len(filenames)):\n",
    "        noeye_img = dirpath + filenames[i]\n",
    "        if \"Store\" not in noeye_img:\n",
    "            fish_paths.append(noeye_img)\n",
    "    break\n",
    "    \n",
    "x, y = create_x_y(fish_paths)"
   ]
  },
  {
   "cell_type": "code",
   "execution_count": 5,
   "metadata": {},
   "outputs": [],
   "source": [
    "x_train,x_test,y_train,y_test = train_test_split(x,y,test_size=0.3)"
   ]
  },
  {
   "cell_type": "markdown",
   "metadata": {},
   "source": [
    "# Train classifier and predict on testing data"
   ]
  },
  {
   "cell_type": "code",
   "execution_count": 6,
   "metadata": {},
   "outputs": [],
   "source": [
    "clf = RandomForestClassifier(n_estimators=100, max_depth=10)\n",
    "clf.fit(x_train,y_train)\n",
    "#y_pred=clf.predict(x_test)\n",
    "\n",
    "y_pred =[]\n",
    "\n",
    "threshold = 0.4\n",
    "predicted = clf.predict_proba(x_test)\n",
    "\n",
    "for i in range(len(predicted)):\n",
    "    if predicted [:,0][i] > threshold:\n",
    "        y_pred.append(0)\n",
    "    else: \n",
    "        y_pred.append(1)"
   ]
  },
  {
   "cell_type": "code",
   "execution_count": 7,
   "metadata": {},
   "outputs": [
    {
     "name": "stdout",
     "output_type": "stream",
     "text": [
      "('Accuracy:', 0.7435897435897436)\n"
     ]
    }
   ],
   "source": [
    "print('Accuracy:',metrics.accuracy_score(y_test,y_pred))"
   ]
  },
  {
   "cell_type": "markdown",
   "metadata": {},
   "source": [
    "# Save and load model"
   ]
  },
  {
   "cell_type": "code",
   "execution_count": 9,
   "metadata": {},
   "outputs": [
    {
     "data": {
      "text/plain": [
       "'/Users/leannwoo/machine_learning_fishes'"
      ]
     },
     "execution_count": 9,
     "metadata": {},
     "output_type": "execute_result"
    }
   ],
   "source": [
    "joblib.dump(clf, 'rf1.pkl') \n",
    "os.getcwd()"
   ]
  },
  {
   "cell_type": "code",
   "execution_count": 116,
   "metadata": {},
   "outputs": [],
   "source": [
    "clf = joblib.load('rf1.pkl') "
   ]
  },
  {
   "cell_type": "markdown",
   "metadata": {},
   "source": [
    "# Using the prediction function"
   ]
  },
  {
   "cell_type": "code",
   "execution_count": 117,
   "metadata": {},
   "outputs": [
    {
     "data": {
      "text/plain": [
       "('noeyespot', 'noeyespot', 'Neoniphon_Neoniphon argenteus_-1921272186.jpg')"
      ]
     },
     "execution_count": 117,
     "metadata": {},
     "output_type": "execute_result"
    }
   ],
   "source": [
    "predict(clf, getFish(fish_paths[92]))"
   ]
  },
  {
   "cell_type": "markdown",
   "metadata": {},
   "source": [
    "# Predicting over the reef families\n",
    "\n",
    "### Labridae\n",
    "\n",
    "### Remaining: Acanthuridae, Pomacanthidae, Pomacentridae, Apogonidae"
   ]
  },
  {
   "cell_type": "code",
   "execution_count": 130,
   "metadata": {},
   "outputs": [],
   "source": [
    "family = 'Labridae2'\n",
    "\n",
    "family_path = \"/Users/leannwoo/Dropbox/machine_learning_fishes/randall/Labridae2/\"\n",
    "\n",
    "fish_list_img, fish_img_names = get_img_paths(family_path)"
   ]
  },
  {
   "cell_type": "code",
   "execution_count": 131,
   "metadata": {},
   "outputs": [],
   "source": [
    "os.chdir(family_path)"
   ]
  },
  {
   "cell_type": "code",
   "execution_count": 1,
   "metadata": {},
   "outputs": [
    {
     "ename": "NameError",
     "evalue": "name 'csv' is not defined",
     "output_type": "error",
     "traceback": [
      "\u001b[0;31m---------------------------------------------------------------------------\u001b[0m",
      "\u001b[0;31mNameError\u001b[0m                                 Traceback (most recent call last)",
      "\u001b[0;32m<ipython-input-1-f6912cf7da7a>\u001b[0m in \u001b[0;36m<module>\u001b[0;34m()\u001b[0m\n\u001b[1;32m      1\u001b[0m \u001b[0;32mwith\u001b[0m \u001b[0mopen\u001b[0m\u001b[0;34m(\u001b[0m\u001b[0;34m'classification_data.csv'\u001b[0m\u001b[0;34m,\u001b[0m \u001b[0;34m'wb'\u001b[0m\u001b[0;34m)\u001b[0m \u001b[0;32mas\u001b[0m \u001b[0mcsvfile\u001b[0m\u001b[0;34m:\u001b[0m\u001b[0;34m\u001b[0m\u001b[0m\n\u001b[0;32m----> 2\u001b[0;31m     filewriter = csv.writer(csvfile, delimiter=',',\n\u001b[0m\u001b[1;32m      3\u001b[0m                             quotechar='|', quoting=csv.QUOTE_MINIMAL)\n\u001b[1;32m      4\u001b[0m     \u001b[0mfilewriter\u001b[0m\u001b[0;34m.\u001b[0m\u001b[0mwriterow\u001b[0m\u001b[0;34m(\u001b[0m\u001b[0;34m[\u001b[0m\u001b[0;34m'Model Classification'\u001b[0m\u001b[0;34m,\u001b[0m\u001b[0;34m'Prediction Weight'\u001b[0m\u001b[0;34m,\u001b[0m \u001b[0;34m'Species'\u001b[0m\u001b[0;34m]\u001b[0m\u001b[0;34m)\u001b[0m\u001b[0;34m\u001b[0m\u001b[0m\n\u001b[1;32m      5\u001b[0m \u001b[0;34m\u001b[0m\u001b[0m\n",
      "\u001b[0;31mNameError\u001b[0m: name 'csv' is not defined"
     ]
    }
   ],
   "source": [
    "with open('classification_data.csv', 'wb') as csvfile:\n",
    "    filewriter = csv.writer(csvfile, delimiter=',',\n",
    "                            quotechar='|', quoting=csv.QUOTE_MINIMAL)\n",
    "    filewriter.writerow(['Model Classification','Prediction Weight', 'Species'])\n",
    "    \n",
    "    try:\n",
    "        os.mkdir('eyespot')\n",
    "        os.mkdir('noeyespot')\n",
    "    except OSError:\n",
    "        1\n",
    "      #  print \"unsuccessful\"\n",
    "\n",
    "    for i in range(len(fish_list_img)):\n",
    "        classification,_,family = predict(clf, getFish(fish_list_img[i]), 0.4)\n",
    "        #species = family.split('_')[1]\n",
    "        filewriter.writerow([classification, family])\n",
    "        \n",
    "        #weights = np.array2string(weights)\n",
    "        #weights = (weights.split('[['))[1].split(']]')[0]\n",
    "        \n",
    "        \n",
    "        if (classification == 'eyespot'):\n",
    "            try:\n",
    "                os.rename(fish_img_names[i], 'eyespot/' + fish_img_names[i])\n",
    "            except OSError:\n",
    "                1\n",
    "        else:\n",
    "            try:\n",
    "                os.rename(fish_img_names[i], 'noeyespot/' + fish_img_names[i])\n",
    "            except OSError:\n",
    "                1"
   ]
  },
  {
   "cell_type": "code",
   "execution_count": null,
   "metadata": {},
   "outputs": [],
   "source": []
  },
  {
   "cell_type": "code",
   "execution_count": null,
   "metadata": {},
   "outputs": [],
   "source": []
  }
 ],
 "metadata": {
  "kernelspec": {
   "display_name": "Python 2",
   "language": "python",
   "name": "python2"
  },
  "language_info": {
   "codemirror_mode": {
    "name": "ipython",
    "version": 2
   },
   "file_extension": ".py",
   "mimetype": "text/x-python",
   "name": "python",
   "nbconvert_exporter": "python",
   "pygments_lexer": "ipython2",
   "version": "2.7.14"
  }
 },
 "nbformat": 4,
 "nbformat_minor": 1
}
